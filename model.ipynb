{
 "cells": [
  {
   "cell_type": "code",
   "execution_count": 4,
   "id": "4e5e51bd",
   "metadata": {},
   "outputs": [],
   "source": [
    "import numpy as np\n",
    "import pandas as pd\n",
    "import matplotlib.pyplot as plt\n",
    "import seaborn as sns\n",
    "\n",
    "from sklearn.model_selection import train_test_split\n",
    "from sklearn.ensemble import RandomForestClassifier\n",
    "from sklearn.tree import DecisionTreeClassifier, plot_tree\n",
    "from sklearn.metrics import classification_report, accuracy_score, recall_score, precision_score, confusion_matrix, f1_score\n",
    "\n",
    "\n",
    "import acquire as acq\n",
    "import prepare as prep"
   ]
  },
  {
   "cell_type": "markdown",
   "id": "3cfddbca",
   "metadata": {},
   "source": [
    "---\n",
    "---\n",
    "## Titanic Dataset \n",
    "\n",
    "***\n",
    "### Decision Trees\n",
    "#### Acquire data"
   ]
  },
  {
   "cell_type": "code",
   "execution_count": 5,
   "id": "1ac3899b",
   "metadata": {},
   "outputs": [
    {
     "name": "stdout",
     "output_type": "stream",
     "text": [
      "<class 'pandas.core.frame.DataFrame'>\n",
      "Int64Index: 622 entries, 212 to 723\n",
      "Data columns (total 14 columns):\n",
      " #   Column                   Non-Null Count  Dtype  \n",
      "---  ------                   --------------  -----  \n",
      " 0   survived                 622 non-null    int64  \n",
      " 1   sex                      622 non-null    object \n",
      " 2   age                      622 non-null    float64\n",
      " 3   sibsp                    622 non-null    int64  \n",
      " 4   parch                    622 non-null    int64  \n",
      " 5   fare                     622 non-null    float64\n",
      " 6   pclass                   622 non-null    object \n",
      " 7   embark_town              622 non-null    object \n",
      " 8   alone                    622 non-null    int64  \n",
      " 9   embark_town_Queenstown   622 non-null    uint8  \n",
      " 10  embark_town_Southampton  622 non-null    uint8  \n",
      " 11  sex_male                 622 non-null    uint8  \n",
      " 12  class_Second             622 non-null    uint8  \n",
      " 13  class_Third              622 non-null    uint8  \n",
      "dtypes: float64(2), int64(4), object(3), uint8(5)\n",
      "memory usage: 51.6+ KB\n"
     ]
    },
    {
     "name": "stderr",
     "output_type": "stream",
     "text": [
      "/Users/caytschlichting/codeup-data-science/classification-exercises/prepare.py:50: SettingWithCopyWarning: \n",
      "A value is trying to be set on a copy of a slice from a DataFrame.\n",
      "Try using .loc[row_indexer,col_indexer] = value instead\n",
      "\n",
      "See the caveats in the documentation: https://pandas.pydata.org/pandas-docs/stable/user_guide/indexing.html#returning-a-view-versus-a-copy\n",
      "  validate['age'] = imputer.transform(validate[['age']])\n"
     ]
    }
   ],
   "source": [
    "# acquire titanic data\n",
    "df = acq.getData('titanic')\n",
    "#prep the data, use default 70/20/10\n",
    "tr, te, val = prep.prep_titanic(df)\n",
    "#Create training backup\n",
    "tr_b = tr\n",
    "#take a peek\n",
    "tr.info()"
   ]
  },
  {
   "cell_type": "markdown",
   "id": "7de0d48e",
   "metadata": {},
   "source": [
    "#### 1) Create baseline and determine accuracy"
   ]
  },
  {
   "cell_type": "code",
   "execution_count": 6,
   "id": "f59ebc50",
   "metadata": {},
   "outputs": [
    {
     "data": {
      "text/html": [
       "<div>\n",
       "<style scoped>\n",
       "    .dataframe tbody tr th:only-of-type {\n",
       "        vertical-align: middle;\n",
       "    }\n",
       "\n",
       "    .dataframe tbody tr th {\n",
       "        vertical-align: top;\n",
       "    }\n",
       "\n",
       "    .dataframe thead th {\n",
       "        text-align: right;\n",
       "    }\n",
       "</style>\n",
       "<table border=\"1\" class=\"dataframe\">\n",
       "  <thead>\n",
       "    <tr style=\"text-align: right;\">\n",
       "      <th></th>\n",
       "      <th>count</th>\n",
       "      <th>mean</th>\n",
       "      <th>std</th>\n",
       "      <th>min</th>\n",
       "      <th>25%</th>\n",
       "      <th>50%</th>\n",
       "      <th>75%</th>\n",
       "      <th>max</th>\n",
       "    </tr>\n",
       "  </thead>\n",
       "  <tbody>\n",
       "    <tr>\n",
       "      <th>actual</th>\n",
       "      <td>622.0</td>\n",
       "      <td>0.382637</td>\n",
       "      <td>0.486422</td>\n",
       "      <td>0.0</td>\n",
       "      <td>0.0</td>\n",
       "      <td>0.0</td>\n",
       "      <td>1.0</td>\n",
       "      <td>1.0</td>\n",
       "    </tr>\n",
       "    <tr>\n",
       "      <th>baseline</th>\n",
       "      <td>622.0</td>\n",
       "      <td>0.000000</td>\n",
       "      <td>0.000000</td>\n",
       "      <td>0.0</td>\n",
       "      <td>0.0</td>\n",
       "      <td>0.0</td>\n",
       "      <td>0.0</td>\n",
       "      <td>0.0</td>\n",
       "    </tr>\n",
       "  </tbody>\n",
       "</table>\n",
       "</div>"
      ],
      "text/plain": [
       "          count      mean       std  min  25%  50%  75%  max\n",
       "actual    622.0  0.382637  0.486422  0.0  0.0  0.0  1.0  1.0\n",
       "baseline  622.0  0.000000  0.000000  0.0  0.0  0.0  0.0  0.0"
      ]
     },
     "execution_count": 6,
     "metadata": {},
     "output_type": "execute_result"
    }
   ],
   "source": [
    "#Create new results DF\n",
    "tr_res = pd.DataFrame(tr.survived)\n",
    "tr_res.rename(columns={'survived':'actual'},inplace=True)\n",
    "#create new columne with baseline\n",
    "tr_res['baseline'] = tr.survived.mode()[0]\n",
    "#check\n",
    "tr_res.describe().T"
   ]
  },
  {
   "cell_type": "code",
   "execution_count": 7,
   "id": "601f8563",
   "metadata": {},
   "outputs": [
    {
     "name": "stdout",
     "output_type": "stream",
     "text": [
      "The baseline accuracy is: 0.617363344051447\n"
     ]
    }
   ],
   "source": [
    "#1) baseline accuracy\n",
    "print(f'The baseline accuracy is: {accuracy_score(tr_res.actual,tr_res.baseline)}')"
   ]
  },
  {
   "cell_type": "markdown",
   "id": "51a0420c",
   "metadata": {},
   "source": [
    "#### 2) Fit decision tree classifier"
   ]
  },
  {
   "cell_type": "code",
   "execution_count": 8,
   "id": "e36ac35a",
   "metadata": {},
   "outputs": [],
   "source": [
    "#Create subsets for model input and testing\n",
    "#drop target and non-encoded categories\n",
    "X_tr = tr.drop(columns=[\"survived\",\"sex\",\"pclass\",\"embark_town\"])\n",
    "#create target subset\n",
    "y_tr = tr.survived\n",
    "\n",
    "X_te = te.drop(columns=[\"survived\",\"sex\",\"pclass\",\"embark_town\"])\n",
    "y_te = te.survived\n",
    "\n",
    "X_val = val.drop(columns=[\"survived\",\"sex\",\"pclass\",\"embark_town\"])\n",
    "y_val = val.survived\n"
   ]
  },
  {
   "cell_type": "code",
   "execution_count": 9,
   "id": "35162790",
   "metadata": {},
   "outputs": [],
   "source": [
    "#create classifier - default gini, depth 3\n",
    "#REVISIT this and play around with class_weight\n",
    "clf3 = DecisionTreeClassifier(max_depth=3,random_state=88)\n",
    "#fit it to train data\n",
    "clf3 = clf3.fit(X_tr,y_tr)\n"
   ]
  },
  {
   "cell_type": "code",
   "execution_count": 10,
   "id": "42ee7577",
   "metadata": {},
   "outputs": [
    {
     "data": {
      "text/plain": [
       "[Text(279.0, 332.955, 'sex_male <= 0.5\\ngini = 0.472\\nsamples = 622\\nvalue = [384, 238]\\nclass = 0'),\n",
       " Text(139.5, 237.825, 'class_Third <= 0.5\\ngini = 0.4\\nsamples = 221\\nvalue = [61, 160]\\nclass = 1'),\n",
       " Text(69.75, 142.695, 'age <= 3.0\\ngini = 0.125\\nsamples = 119\\nvalue = [8, 111]\\nclass = 1'),\n",
       " Text(34.875, 47.565, 'gini = 0.0\\nsamples = 1\\nvalue = [1, 0]\\nclass = 0'),\n",
       " Text(104.625, 47.565, 'gini = 0.112\\nsamples = 118\\nvalue = [7, 111]\\nclass = 1'),\n",
       " Text(209.25, 142.695, 'fare <= 24.808\\ngini = 0.499\\nsamples = 102\\nvalue = [53, 49]\\nclass = 0'),\n",
       " Text(174.375, 47.565, 'gini = 0.492\\nsamples = 85\\nvalue = [37, 48]\\nclass = 1'),\n",
       " Text(244.125, 47.565, 'gini = 0.111\\nsamples = 17\\nvalue = [16, 1]\\nclass = 0'),\n",
       " Text(418.5, 237.825, 'age <= 3.5\\ngini = 0.313\\nsamples = 401\\nvalue = [323, 78]\\nclass = 0'),\n",
       " Text(348.75, 142.695, 'sibsp <= 2.0\\ngini = 0.32\\nsamples = 10\\nvalue = [2, 8]\\nclass = 1'),\n",
       " Text(313.875, 47.565, 'gini = 0.0\\nsamples = 7\\nvalue = [0, 7]\\nclass = 1'),\n",
       " Text(383.625, 47.565, 'gini = 0.444\\nsamples = 3\\nvalue = [2, 1]\\nclass = 0'),\n",
       " Text(488.25, 142.695, 'fare <= 26.269\\ngini = 0.294\\nsamples = 391\\nvalue = [321, 70]\\nclass = 0'),\n",
       " Text(453.375, 47.565, 'gini = 0.207\\nsamples = 281\\nvalue = [248, 33]\\nclass = 0'),\n",
       " Text(523.125, 47.565, 'gini = 0.446\\nsamples = 110\\nvalue = [73, 37]\\nclass = 0')]"
      ]
     },
     "execution_count": 10,
     "metadata": {},
     "output_type": "execute_result"
    },
    {
     "data": {
      "image/png": "[encoded data removed]",
      "text/plain": [
       "<Figure size 720x504 with 1 Axes>"
      ]
     },
     "metadata": {
      "needs_background": "light"
     },
     "output_type": "display_data"
    }
   ],
   "source": [
    "#Visualize the model:\n",
    "plt.figure(figsize=(10,7))\n",
    "plot_tree(clf3, feature_names=X_tr.columns, class_names=clf3.classes_.astype(str),rounded=True)"
   ]
  },
  {
   "cell_type": "markdown",
   "id": "60e50bf0",
   "metadata": {},
   "source": [
    "#### 3) Evaluate model score, confusion matrix and classification report on sample"
   ]
  },
  {
   "cell_type": "code",
   "execution_count": 11,
   "id": "04c8218c",
   "metadata": {},
   "outputs": [],
   "source": [
    "# #create df of models\n",
    "# clf_df = pd.DataFrame()\n",
    "# #add this first model to our clf dataframe\n",
    "# clf_df['model_d3'] = clf\n",
    "\n",
    "#add model train output to results dataframe\n",
    "tr_res['model_d3'] = clf3.predict(X_tr)"
   ]
  },
  {
   "cell_type": "code",
   "execution_count": 12,
   "id": "d92dd82c",
   "metadata": {},
   "outputs": [
    {
     "data": {
      "text/html": [
       "<div>\n",
       "<style scoped>\n",
       "    .dataframe tbody tr th:only-of-type {\n",
       "        vertical-align: middle;\n",
       "    }\n",
       "\n",
       "    .dataframe tbody tr th {\n",
       "        vertical-align: top;\n",
       "    }\n",
       "\n",
       "    .dataframe thead th {\n",
       "        text-align: right;\n",
       "    }\n",
       "</style>\n",
       "<table border=\"1\" class=\"dataframe\">\n",
       "  <thead>\n",
       "    <tr style=\"text-align: right;\">\n",
       "      <th>actual</th>\n",
       "      <th>0</th>\n",
       "      <th>1</th>\n",
       "    </tr>\n",
       "    <tr>\n",
       "      <th>model_d3</th>\n",
       "      <th></th>\n",
       "      <th></th>\n",
       "    </tr>\n",
       "  </thead>\n",
       "  <tbody>\n",
       "    <tr>\n",
       "      <th>0</th>\n",
       "      <td>340</td>\n",
       "      <td>72</td>\n",
       "    </tr>\n",
       "    <tr>\n",
       "      <th>1</th>\n",
       "      <td>44</td>\n",
       "      <td>166</td>\n",
       "    </tr>\n",
       "  </tbody>\n",
       "</table>\n",
       "</div>"
      ],
      "text/plain": [
       "actual      0    1\n",
       "model_d3          \n",
       "0         340   72\n",
       "1          44  166"
      ]
     },
     "execution_count": 12,
     "metadata": {},
     "output_type": "execute_result"
    }
   ],
   "source": [
    "#View confusion matrix:\n",
    "pd.crosstab(tr_res.model_d3,tr_res.actual)"
   ]
  },
  {
   "cell_type": "code",
   "execution_count": 13,
   "id": "4e23d0f9",
   "metadata": {},
   "outputs": [
    {
     "name": "stdout",
     "output_type": "stream",
     "text": [
      "              precision    recall  f1-score   support\n",
      "\n",
      "           0       0.83      0.89      0.85       384\n",
      "           1       0.79      0.70      0.74       238\n",
      "\n",
      "    accuracy                           0.81       622\n",
      "   macro avg       0.81      0.79      0.80       622\n",
      "weighted avg       0.81      0.81      0.81       622\n",
      "\n"
     ]
    }
   ],
   "source": [
    "#View classification report\n",
    "print(classification_report(tr_res.actual,tr_res.model_d3))"
   ]
  },
  {
   "cell_type": "code",
   "execution_count": 14,
   "id": "d1ba89e7",
   "metadata": {},
   "outputs": [
    {
     "name": "stdout",
     "output_type": "stream",
     "text": [
      "The accuracy of the model 0.8135048231511254\n"
     ]
    }
   ],
   "source": [
    "#Model score (aka accuracy)\n",
    "print(f'The accuracy of the model {clf3.score(X_tr,y_tr)}')"
   ]
  },
  {
   "cell_type": "markdown",
   "id": "b917bf22",
   "metadata": {},
   "source": [
    "#### 4) Compute: Accuracy, true positive rate, false positive rate, true negative rate, false negative rate, precision, recall, f1-score, and support.\n",
    "- true positive rate = recall = sensitivity = TP / (TP + FN)\n",
    "- false negative rate =  miss rate = FN/(TP + FN)\n",
    "- true negative rate = specificity = TN / (TN + FP)\n",
    "- false positive rate = FP/(TN + FP)\n",
    "\n",
    "NOTE: The denominator of the rates are determined by the total actual values (P or N) that correspond to the actual value associated with the numerator.\n"
   ]
  },
  {
   "cell_type": "code",
   "execution_count": 15,
   "id": "27235cf6",
   "metadata": {},
   "outputs": [],
   "source": [
    "def print_model_stats(act,mod,pos,**kwargs):\n",
    "    \"\"\"\n",
    "    Gets model statistics.  Only handles binary target variables at the moment.\n",
    "    Parameters:\n",
    "      (R) -    act: pandas series of actual target values\n",
    "      (R) -    mod: pandas series of modeled target values (must be same length as act)\n",
    "      (R) -    pos: positive outcome for target variable \n",
    "      (O) - ret_DF: If True, returns statistics in the form of a pandas dataframe.  \n",
    "                    If False, prints statistics on screen (Default False)\n",
    "                    \n",
    "    NOTE:  \n",
    "    recall = sensitivity = true positive rate\n",
    "    miss rate = false negative rate\n",
    "    specificity = true negative rate    \n",
    "    \"\"\"\n",
    "    #Get return df parameter.  Default is false, which returns none and prints the statistics\n",
    "    ret_df = kwargs.get('ret_df',False)\n",
    "    \n",
    "    #Create label list - binary confusion matrix needs positive value last\n",
    "    #populate rest of list with possible outcomes\n",
    "    oth=list(act.unique())\n",
    "    oth.remove(pos)\n",
    "    labels = oth +[pos]\n",
    "    \n",
    "    #run confusion matrix\n",
    "    cm = confusion_matrix(act,mod,labels=labels)\n",
    "    \n",
    "    #If two target variables ravel cm, else break softly\n",
    "    if len(labels) == 2: \n",
    "        tn, fp, fn, tp = cm.ravel()\n",
    "    else: \n",
    "        print('function cannot handle greater than 2 target variable outcomes')\n",
    "        return None\n",
    "    \n",
    "    #Calculate all the model scores\n",
    "    recall = recall_score(act,mod,pos_label=pos,zero_division=0)\n",
    "    precision = precision_score(act,mod,pos_label=pos,zero_division=0)\n",
    "    f1 = f1_score(act,mod,pos_label=pos,zero_division=0)\n",
    "    acc = accuracy_score(act,mod)\n",
    "    fnr = fn/(tp+fn)\n",
    "    fpr = fp/(tn+fp)\n",
    "    \n",
    "    ### TO DO: CALCULATE THE REST OF THE MODEL STATISTICS\n",
    "    if ret_df:\n",
    "        ### TO DO: CREATE DATAFRAME - COLUMNS TO BE STATISTIC VALUES (aka scores)\n",
    "        return df\n",
    "    else:\n",
    "        print(f'\\033[1mModel: {mod.name}  Positive: {pos}\\033[0m')\n",
    "        print(f'TP: {tp}   FP: {fp}')\n",
    "        print(f'FN: {fn}   TN: {tn}')\n",
    "        print(f'      Accuracy: {acc:.3f}')\n",
    "        print(f'     Precision: {precision:.3f}')\n",
    "        print(f'        Recall: {recall:.3f}')\n",
    "        print(f'      F1 score: {f1:.3f}')\n",
    "        print(f'False neg rate: {fnr:.3f}')\n",
    "        print(f'False pos rate: {fpr:.3f}')      \n",
    "        return None\n",
    "    "
   ]
  },
  {
   "cell_type": "code",
   "execution_count": 16,
   "id": "f6b73beb",
   "metadata": {},
   "outputs": [
    {
     "name": "stdout",
     "output_type": "stream",
     "text": [
      "\u001b[1mModel: baseline  Positive: 1\u001b[0m\n",
      "TP: 0   FP: 0\n",
      "FN: 238   TN: 384\n",
      "      Accuracy: 0.617\n",
      "     Precision: 0.000\n",
      "        Recall: 0.000\n",
      "      F1 score: 0.000\n",
      "False neg rate: 1.000\n",
      "False pos rate: 0.000\n"
     ]
    }
   ],
   "source": [
    "#positive target is going to be survived (1)\n",
    "print_model_stats(tr_res.actual,tr_res.baseline,1)"
   ]
  },
  {
   "cell_type": "markdown",
   "id": "cd9bd5a3",
   "metadata": {},
   "source": [
    "#### 5) Run through steps 2-4 using a different max_depth value."
   ]
  },
  {
   "cell_type": "code",
   "execution_count": 17,
   "id": "cccf72ec",
   "metadata": {},
   "outputs": [
    {
     "name": "stdout",
     "output_type": "stream",
     "text": [
      "\u001b[1mmodel_d2\u001b[0m\n",
      "              precision    recall  f1-score   support\n",
      "\n",
      "           0       0.76      0.97      0.85       384\n",
      "           1       0.92      0.50      0.65       238\n",
      "\n",
      "    accuracy                           0.79       622\n",
      "   macro avg       0.84      0.74      0.75       622\n",
      "weighted avg       0.82      0.79      0.77       622\n",
      "\n",
      "\u001b[1mModel: model_d2  Positive: 1\u001b[0m\n",
      "TP: 119   FP: 10\n",
      "FN: 119   TN: 374\n",
      "      Accuracy: 0.793\n",
      "     Precision: 0.922\n",
      "        Recall: 0.500\n",
      "      F1 score: 0.649\n",
      "False neg rate: 0.500\n",
      "False pos rate: 0.026\n",
      "\n",
      "\n",
      "\n",
      "\u001b[1mmodel_d4\u001b[0m\n",
      "              precision    recall  f1-score   support\n",
      "\n",
      "           0       0.83      0.89      0.86       384\n",
      "           1       0.79      0.71      0.75       238\n",
      "\n",
      "    accuracy                           0.82       622\n",
      "   macro avg       0.81      0.80      0.81       622\n",
      "weighted avg       0.82      0.82      0.82       622\n",
      "\n",
      "\u001b[1mModel: model_d4  Positive: 1\u001b[0m\n",
      "TP: 170   FP: 44\n",
      "FN: 68   TN: 340\n",
      "      Accuracy: 0.820\n",
      "     Precision: 0.794\n",
      "        Recall: 0.714\n",
      "      F1 score: 0.752\n",
      "False neg rate: 0.286\n",
      "False pos rate: 0.115\n"
     ]
    }
   ],
   "source": [
    "#create classifier - default gini, depth 3\n",
    "clf2 = DecisionTreeClassifier(max_depth=2,random_state=88)\n",
    "#fit it to train data\n",
    "clf2 = clf2.fit(X_tr,y_tr)\n",
    "\n",
    "#add this model to our results dataframe\n",
    "model_name = \"model_d\" + str(2)\n",
    "tr_res[model_name] = clf2.predict(X_tr)\n",
    "\n",
    "#print crosstab and confusion matrix:\n",
    "print(f'\\033[1m{model_name}\\033[0m')\n",
    "pd.crosstab(tr_res[model_name],tr_res.actual)\n",
    "print(classification_report(tr_res.actual,tr_res[model_name]))\n",
    "\n",
    "#print all the stats\n",
    "print_model_stats(tr_res.actual,tr_res[model_name],1)\n",
    "\n",
    "#space between next output:\n",
    "print('\\n\\n')\n",
    "\n",
    "#create classifier - default gini, depth 3\n",
    "clf4 = DecisionTreeClassifier(max_depth=4,random_state=88)\n",
    "#fit it to train data\n",
    "clf4 = clf4.fit(X_tr,y_tr)\n",
    "\n",
    "#add this model to our results dataframe\n",
    "model_name = \"model_d\" + str(4)\n",
    "tr_res[model_name] = clf4.predict(X_tr)\n",
    "\n",
    "#print crosstab and confusion matrix:\n",
    "print(f'\\033[1m{model_name}\\033[0m')\n",
    "pd.crosstab(tr_res[model_name],tr_res.actual)\n",
    "print(classification_report(tr_res.actual,tr_res[model_name]))\n",
    "\n",
    "#print all the stats\n",
    "print_model_stats(tr_res.actual,tr_res[model_name],1)"
   ]
  },
  {
   "cell_type": "markdown",
   "id": "d59bdbd3",
   "metadata": {},
   "source": [
    "#### 6) Which model performs better on your in-sample data?\n",
    "Looking at the output below, all non-baseline models have high accuracy that are relatively similar.\n",
    "Models of depth 3 and 4 have beeter F1 scores"
   ]
  },
  {
   "cell_type": "code",
   "execution_count": 18,
   "id": "339bf2cc",
   "metadata": {},
   "outputs": [
    {
     "name": "stdout",
     "output_type": "stream",
     "text": [
      "\u001b[1mModel: baseline  Positive: 1\u001b[0m\n",
      "TP: 0   FP: 0\n",
      "FN: 238   TN: 384\n",
      "      Accuracy: 0.617\n",
      "     Precision: 0.000\n",
      "        Recall: 0.000\n",
      "      F1 score: 0.000\n",
      "False neg rate: 1.000\n",
      "False pos rate: 0.000\n",
      "\u001b[1mModel: model_d3  Positive: 1\u001b[0m\n",
      "TP: 166   FP: 44\n",
      "FN: 72   TN: 340\n",
      "      Accuracy: 0.814\n",
      "     Precision: 0.790\n",
      "        Recall: 0.697\n",
      "      F1 score: 0.741\n",
      "False neg rate: 0.303\n",
      "False pos rate: 0.115\n",
      "\u001b[1mModel: model_d2  Positive: 1\u001b[0m\n",
      "TP: 119   FP: 10\n",
      "FN: 119   TN: 374\n",
      "      Accuracy: 0.793\n",
      "     Precision: 0.922\n",
      "        Recall: 0.500\n",
      "      F1 score: 0.649\n",
      "False neg rate: 0.500\n",
      "False pos rate: 0.026\n",
      "\u001b[1mModel: model_d4  Positive: 1\u001b[0m\n",
      "TP: 170   FP: 44\n",
      "FN: 68   TN: 340\n",
      "      Accuracy: 0.820\n",
      "     Precision: 0.794\n",
      "        Recall: 0.714\n",
      "      F1 score: 0.752\n",
      "False neg rate: 0.286\n",
      "False pos rate: 0.115\n"
     ]
    }
   ],
   "source": [
    "for i in tr_res.columns[1:]:\n",
    "    print_model_stats(tr_res.actual,tr_res[i],1)"
   ]
  },
  {
   "cell_type": "markdown",
   "id": "5c9294df",
   "metadata": {},
   "source": [
    "#### 7) Which model performs best on your out-of-sample data?\n",
    "Looking at the output below, the two models perform very similarly on the validate dataset.  Because of this, I would choose to move forward with model_d3, as it provides similar results with less fitting."
   ]
  },
  {
   "cell_type": "code",
   "execution_count": 19,
   "id": "c2f1d621",
   "metadata": {},
   "outputs": [
    {
     "name": "stdout",
     "output_type": "stream",
     "text": [
      "\u001b[1mModel: model_d3  Positive: 1\u001b[0m\n",
      "TP: 48   FP: 8\n",
      "FN: 20   TN: 102\n",
      "      Accuracy: 0.843\n",
      "     Precision: 0.857\n",
      "        Recall: 0.706\n",
      "      F1 score: 0.774\n",
      "False neg rate: 0.294\n",
      "False pos rate: 0.073\n",
      "\u001b[1mModel: model_d4  Positive: 1\u001b[0m\n",
      "TP: 49   FP: 9\n",
      "FN: 19   TN: 101\n",
      "      Accuracy: 0.843\n",
      "     Precision: 0.845\n",
      "        Recall: 0.721\n",
      "      F1 score: 0.778\n",
      "False neg rate: 0.279\n",
      "False pos rate: 0.082\n"
     ]
    }
   ],
   "source": [
    "val_res = pd.DataFrame()\n",
    "val_res['actual'] = y_val\n",
    "val_res['model_d3'] = clf3.predict(X_val)\n",
    "val_res['model_d4'] = clf4.predict(X_val)\n",
    "\n",
    "for i in val_res.columns[1:]:\n",
    "    print_model_stats(val_res.actual,val_res[i],1)\n"
   ]
  },
  {
   "cell_type": "markdown",
   "id": "80fc1d65",
   "metadata": {},
   "source": [
    "### Random Forest\n",
    "#### Create and fit random forest classifier"
   ]
  },
  {
   "cell_type": "code",
   "execution_count": 34,
   "id": "721b09c0",
   "metadata": {},
   "outputs": [],
   "source": [
    "#create random forest classifier\n",
    "model = RandomForestClassifier(max_depth=10,min_samples_leaf=1,random_state=88)\n",
    "#fit with training data\n",
    "model.fit(X_tr,y_tr)\n",
    "#predict off training data\n",
    "tr_res['rf_msl1_d10'] = model.predict(X_tr)"
   ]
  },
  {
   "cell_type": "code",
   "execution_count": 35,
   "id": "cdf336ef",
   "metadata": {},
   "outputs": [
    {
     "name": "stdout",
     "output_type": "stream",
     "text": [
      "              precision    recall  f1-score   support\n",
      "\n",
      "           0       0.94      0.99      0.96       384\n",
      "           1       0.98      0.90      0.94       238\n",
      "\n",
      "    accuracy                           0.95       622\n",
      "   macro avg       0.96      0.94      0.95       622\n",
      "weighted avg       0.95      0.95      0.95       622\n",
      "\n",
      "\u001b[1mModel: rf_msl1_d10  Positive: 1\u001b[0m\n",
      "TP: 214   FP: 5\n",
      "FN: 24   TN: 379\n",
      "      Accuracy: 0.953\n",
      "     Precision: 0.977\n",
      "        Recall: 0.899\n",
      "      F1 score: 0.937\n",
      "False neg rate: 0.101\n",
      "False pos rate: 0.013\n"
     ]
    }
   ],
   "source": [
    "#Set positive case as survived = 1\n",
    "pos=1\n",
    "#print all kinds of info\n",
    "print(classification_report(tr_res.actual,tr_res.rf_msl1_d10))\n",
    "print_model_stats(y_tr,tr_res['rf_msl1_d10'],pos)"
   ]
  },
  {
   "cell_type": "code",
   "execution_count": 45,
   "id": "64eadcd4",
   "metadata": {},
   "outputs": [
    {
     "name": "stdout",
     "output_type": "stream",
     "text": [
      "msl: 1  md: 10\n",
      "msl: 2  md: 8\n",
      "msl: 3  md: 7\n"
     ]
    }
   ],
   "source": [
    "#Now do the same thing with modified rfc params\n",
    "#outer list is each model, inner list is [min_sample_leaf,max_depth]\n",
    "params = [[1,10], [2,8], [3,7]] \n",
    "#Note that I included the original params [1,10] and this will overwrite those results\n",
    "\n",
    "#create new dictionary of models\n",
    "model_dict ={}\n",
    "#Loop over our desired parameter combinations and create, fit and predict model for each\n",
    "for i in params:\n",
    "    #grab parameters\n",
    "    msl = i[0]\n",
    "    md = i[1]\n",
    "    #create model name\n",
    "    model_name = 'rf_msl'+ str(msl) +'_d'+ str(md)\n",
    "    \n",
    "    #create model & fit\n",
    "    rf = RandomForestClassifier(max_depth=md,min_samples_leaf=msl,random_state=88)\n",
    "    rf = rf.fit(X_tr,y_tr)\n",
    "    \n",
    "    #Get predictions and store to train results - SAME DF FOR ALL TITANIC    \n",
    "    tr_res[model_name] = rf.predict(X_tr)\n",
    "    \n",
    "    #Now store everything in our dictionary\n",
    "    model_dict[model_name] = {\n",
    "        \"model_name\": model_name,\n",
    "        \"model\":rf,\n",
    "        \"model_type\": \"RandomForestClassifier\",\n",
    "        \"min_samples_leaf\":msl,\n",
    "        \"max_depth\":md\n",
    "    }\n",
    "    #FUTURE: would update print_model_stats to return pd.df or dict to update model_dict with stats"
   ]
  },
  {
   "cell_type": "code",
   "execution_count": 47,
   "id": "5652c325",
   "metadata": {},
   "outputs": [
    {
     "name": "stdout",
     "output_type": "stream",
     "text": [
      "\u001b[1mModel: rf_msl1_d10  Positive: 1\u001b[0m\n",
      "TP: 214   FP: 5\n",
      "FN: 24   TN: 379\n",
      "      Accuracy: 0.953\n",
      "     Precision: 0.977\n",
      "        Recall: 0.899\n",
      "      F1 score: 0.937\n",
      "False neg rate: 0.101\n",
      "False pos rate: 0.013\n",
      "\u001b[1mModel: rf_msl2_d8  Positive: 1\u001b[0m\n",
      "TP: 185   FP: 17\n",
      "FN: 53   TN: 367\n",
      "      Accuracy: 0.887\n",
      "     Precision: 0.916\n",
      "        Recall: 0.777\n",
      "      F1 score: 0.841\n",
      "False neg rate: 0.223\n",
      "False pos rate: 0.044\n",
      "\u001b[1mModel: rf_msl3_d7  Positive: 1\u001b[0m\n",
      "TP: 178   FP: 19\n",
      "FN: 60   TN: 365\n",
      "      Accuracy: 0.873\n",
      "     Precision: 0.904\n",
      "        Recall: 0.748\n",
      "      F1 score: 0.818\n",
      "False neg rate: 0.252\n",
      "False pos rate: 0.049\n"
     ]
    }
   ],
   "source": [
    "#Now let's look at the stats for each of these\n",
    "# for mn, d in model_dict:\n",
    "#     print_model_stats(tr_res)\n",
    "\n",
    "#reiterate that positive is 1 for survived\n",
    "pos=1\n",
    "for m in tr_res.columns:\n",
    "    if m.startswith('rf'):\n",
    "        print_model_stats(tr_res.actual,tr_res[m],pos)"
   ]
  },
  {
   "cell_type": "markdown",
   "id": "47f86f86",
   "metadata": {},
   "source": [
    "# RETURN HERE:\n",
    "- Do random forest exercises #5 (in other words look at the output above and say smart things)"
   ]
  },
  {
   "cell_type": "markdown",
   "id": "faf87ffc",
   "metadata": {},
   "source": [
    "## Telco Dataset\n",
    "### Decision Trees"
   ]
  },
  {
   "cell_type": "markdown",
   "id": "1c2855d4",
   "metadata": {},
   "source": [
    "#### Acquire Data and create X and y subsets"
   ]
  },
  {
   "cell_type": "code",
   "execution_count": null,
   "id": "a4ee5ce3",
   "metadata": {},
   "outputs": [],
   "source": [
    "df = acq.getData('telco')\n",
    "#Using split of 70/20/10 tr/te/val\n",
    "tr, te, val = prep.prep_telco(df)\n",
    "\n",
    "tr.info()"
   ]
  },
  {
   "cell_type": "code",
   "execution_count": null,
   "id": "0815c3b6",
   "metadata": {},
   "outputs": [],
   "source": [
    "drp_cols = list(tr.select_dtypes(object).columns)\n",
    "drp_cols.append('has_churned')\n",
    "drp_cols"
   ]
  },
  {
   "cell_type": "code",
   "execution_count": null,
   "id": "5d27e1e3",
   "metadata": {},
   "outputs": [],
   "source": [
    "#Create subsets for model input\n",
    "X_tr = tr.drop(columns=drp_cols)\n",
    "y_tr = tr.churn\n",
    "\n",
    "X_te = te.drop(columns=drp_cols)\n",
    "y_te = te.churn\n",
    "\n",
    "X_val = val.drop(columns=drp_cols)\n",
    "y_val = val.churn"
   ]
  },
  {
   "cell_type": "code",
   "execution_count": null,
   "id": "80df6537",
   "metadata": {},
   "outputs": [],
   "source": [
    "X_tr.head(2)"
   ]
  },
  {
   "cell_type": "markdown",
   "id": "177b39a1",
   "metadata": {},
   "source": [
    "#### Create baseline"
   ]
  },
  {
   "cell_type": "code",
   "execution_count": null,
   "id": "ddec2bb0",
   "metadata": {},
   "outputs": [],
   "source": [
    "#create training result dataframe, populate with actual values\n",
    "tr_res = pd.DataFrame(tr.churn)\n",
    "#rename column to actual\n",
    "tr_res.rename(columns={'churn':'actual'},inplace=True)\n",
    "#create baseline model\n",
    "tr_res['baseline'] = tr_res.actual.mode()[0]\n",
    "\n",
    "tr_res.describe()"
   ]
  },
  {
   "cell_type": "markdown",
   "id": "a2962560",
   "metadata": {},
   "source": [
    "#### Create models\n",
    "- Want depth of 3 to 10.  Going that high because some depth levels may be less useful\n",
    "- No significant nulls in data, so don't want to modify weights\n",
    "- Ideally would modify columns in X_tr to prevent model from choosing decision points that are directly related\n",
    "  - EX: for things like streaming, we really could just remove "
   ]
  },
  {
   "cell_type": "code",
   "execution_count": null,
   "id": "a96e5611",
   "metadata": {},
   "outputs": [],
   "source": [
    "# clf_dict2 = {}\n",
    "clf_list = []\n",
    "for i, val in enumerate(range(3,11)):\n",
    "    #create model name\n",
    "    model_name = \"model_d\" + str(val)\n",
    "    #create and fit model\n",
    "    clf = DecisionTreeClassifier(max_depth=val,random_state=88)\n",
    "    clf = clf.fit(X_tr,y_tr)\n",
    "#     #Store model in dictionary.  Key is model name, value is model\n",
    "#     clf_dict2[model_name] = clf\n",
    "    \n",
    "    #Store model information as a dictionary, within a list\n",
    "    clf_list.append({\n",
    "        \"model_name\": model_name,\n",
    "        \"model\": clf\n",
    "    })   "
   ]
  },
  {
   "cell_type": "code",
   "execution_count": null,
   "id": "e3594735",
   "metadata": {},
   "outputs": [],
   "source": [
    "clf_list[0:2]"
   ]
  },
  {
   "cell_type": "markdown",
   "id": "2b6e7dbf",
   "metadata": {},
   "source": [
    "#### Get model predictions on train subset"
   ]
  },
  {
   "cell_type": "markdown",
   "id": "ce7c137e",
   "metadata": {},
   "source": [
    "# KEEP WORKING HERE.  \n",
    "## UPDATE print_model_stats TO BE ABLE TO STORE STATS IN DICTIONARY "
   ]
  },
  {
   "cell_type": "code",
   "execution_count": null,
   "id": "d2538886",
   "metadata": {},
   "outputs": [],
   "source": [
    "#Loop over the list of dictionaries/models\n",
    "for d in clf_list:\n",
    "    #pull out model\n",
    "    clf=d['model']\n",
    "    #generate training values and assign to result df under the model name\n",
    "    tr_res[d['model_name']] = clf.predict(X_tr)  \n",
    "    \n",
    "tr_res.shape"
   ]
  },
  {
   "cell_type": "markdown",
   "id": "4cf1a638",
   "metadata": {},
   "source": [
    "#### Print Model Statistics\n",
    "Looking at the output below, I am most concerned with missing a person who will churn (by thinking they won't).  So I want to minimize false negatives (good recall), while still having a decent accuracy.\n",
    "\n",
    "Models I want to run past the Validate sets:\n",
    "- d4, because it has best recall (.58) with relatively low depth and good accuracy (.79).\n",
    "- d10, because it has good numbers across the board, though I suspect it will over-fit\n",
    "- d8, because it increase recall to .64 and accuracy to .84, with a lower depth than d10"
   ]
  },
  {
   "cell_type": "code",
   "execution_count": null,
   "id": "b35d01b3",
   "metadata": {},
   "outputs": [],
   "source": [
    "#This would look better all together as a DF, but may still want to store it in the dictionary for each model\n",
    "#So probably want to reformat this info as a DF at some point, for now I'll just print stats to screen\n",
    "\n",
    "#positive case is churn == Yes, want my models to identify customers who may churn\n",
    "pos = 'Yes'\n",
    "\n",
    "#Loop over all model predictions and print their stats\n",
    "for i in tr_res.columns[1:]:\n",
    "    print_model_stats(tr_res.actual,tr_res[i],pos)"
   ]
  },
  {
   "cell_type": "markdown",
   "id": "73c465fc",
   "metadata": {},
   "source": [
    "#### Run select models on the validate subset"
   ]
  },
  {
   "cell_type": "code",
   "execution_count": null,
   "id": "90d208a5",
   "metadata": {},
   "outputs": [],
   "source": [
    "#Create df to hold model outputs:\n",
    "val_res = pd.DataFrame(y_val)\n",
    "val_res.rename(columns={'churn':'actual'},inplace=True)\n",
    "\n",
    "#list of models I want to look at\n",
    "v_models = ['model_d4','model_d8','model_d10']\n",
    "\n",
    "for d in clf_list:\n",
    "    if d['model_name'] in v_models:\n",
    "        #Grab the model\n",
    "        clf = d['model']\n",
    "        #Predict values for each model\n",
    "        val_res[d['model_name']] = clf.predict(X_val)\n",
    "#         #Output most important features while we're at it\n",
    "#         print(clf.feature_importances_)\n",
    "\n",
    "val_res.columns"
   ]
  },
  {
   "cell_type": "markdown",
   "id": "a9c41a92",
   "metadata": {},
   "source": [
    "#### Look at how the models did on the validate data\n",
    "Looking at the output, we can see the d8 and d10 did overfit the train set and d4 had the best recall and accuracy of the 3 models at recall = .575 and accuracy = .778"
   ]
  },
  {
   "cell_type": "code",
   "execution_count": null,
   "id": "2a8bebed",
   "metadata": {},
   "outputs": [],
   "source": [
    "for i in val_res.columns[1:]:\n",
    "    print_model_stats(val_res.actual,val_res[i],pos) #pos is still 'Yes'"
   ]
  },
  {
   "cell_type": "markdown",
   "id": "79b24aa5",
   "metadata": {},
   "source": [
    "#### Now let's visualize that decision tree"
   ]
  },
  {
   "cell_type": "code",
   "execution_count": null,
   "id": "3f0244f6",
   "metadata": {},
   "outputs": [],
   "source": [
    "#pull out the model\n",
    "for d in clf_list:\n",
    "    if d['model_name'] == 'model_d4':\n",
    "        clf = d['model']\n",
    "        break\n",
    "\n",
    "plt.figure(figsize=(15,10))\n",
    "plot_tree(clf, feature_names=X_tr.columns, class_names=clf.classes_.astype(str),rounded=True)"
   ]
  },
  {
   "cell_type": "code",
   "execution_count": null,
   "id": "ef42a73f",
   "metadata": {},
   "outputs": [],
   "source": []
  },
  {
   "cell_type": "code",
   "execution_count": null,
   "id": "7c0953f3",
   "metadata": {},
   "outputs": [],
   "source": [
    "# #This can be used later for looping over the models\n",
    "# for k in clf_dict.items():\n",
    "#     i.value\n",
    "#     i.key"
   ]
  },
  {
   "cell_type": "markdown",
   "id": "53e50a93",
   "metadata": {},
   "source": []
  },
  {
   "cell_type": "code",
   "execution_count": null,
   "id": "1cc63042",
   "metadata": {},
   "outputs": [],
   "source": []
  }
 ],
 "metadata": {
  "kernelspec": {
   "display_name": "Python 3 (ipykernel)",
   "language": "python",
   "name": "python3"
  },
  "language_info": {
   "codemirror_mode": {
    "name": "ipython",
    "version": 3
   },
   "file_extension": ".py",
   "mimetype": "text/x-python",
   "name": "python",
   "nbconvert_exporter": "python",
   "pygments_lexer": "ipython3",
   "version": "3.9.7"
  }
 },
 "nbformat": 4,
 "nbformat_minor": 5
}
