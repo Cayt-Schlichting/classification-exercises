{
 "cells": [
  {
   "cell_type": "code",
   "execution_count": 1,
   "id": "5e0c9e15",
   "metadata": {},
   "outputs": [],
   "source": [
    "import numpy as np\n",
    "from pydataset import data\n",
    "import pandas as pd\n",
    "import matplotlib.pyplot as plt\n",
    "import seaborn as sns\n",
    "from sklearn.model_selection import train_test_split\n",
    "from sklearn.impute import SimpleImputer\n",
    "from scipy import stats\n",
    "import itertools as it\n",
    "\n",
    "# from acquire import getData\n",
    "import acquire as acq\n",
    "import prepare\n",
    "import eda"
   ]
  },
  {
   "cell_type": "code",
   "execution_count": 2,
   "id": "5ad2eba1",
   "metadata": {},
   "outputs": [
    {
     "data": {
      "text/html": [
       "<div>\n",
       "<style scoped>\n",
       "    .dataframe tbody tr th:only-of-type {\n",
       "        vertical-align: middle;\n",
       "    }\n",
       "\n",
       "    .dataframe tbody tr th {\n",
       "        vertical-align: top;\n",
       "    }\n",
       "\n",
       "    .dataframe thead th {\n",
       "        text-align: right;\n",
       "    }\n",
       "</style>\n",
       "<table border=\"1\" class=\"dataframe\">\n",
       "  <thead>\n",
       "    <tr style=\"text-align: right;\">\n",
       "      <th></th>\n",
       "      <th>Sepal.Length</th>\n",
       "      <th>Sepal.Width</th>\n",
       "      <th>Petal.Length</th>\n",
       "      <th>Petal.Width</th>\n",
       "      <th>Species</th>\n",
       "    </tr>\n",
       "  </thead>\n",
       "  <tbody>\n",
       "    <tr>\n",
       "      <th>1</th>\n",
       "      <td>5.1</td>\n",
       "      <td>3.5</td>\n",
       "      <td>1.4</td>\n",
       "      <td>0.2</td>\n",
       "      <td>setosa</td>\n",
       "    </tr>\n",
       "    <tr>\n",
       "      <th>2</th>\n",
       "      <td>4.9</td>\n",
       "      <td>3.0</td>\n",
       "      <td>1.4</td>\n",
       "      <td>0.2</td>\n",
       "      <td>setosa</td>\n",
       "    </tr>\n",
       "    <tr>\n",
       "      <th>3</th>\n",
       "      <td>4.7</td>\n",
       "      <td>3.2</td>\n",
       "      <td>1.3</td>\n",
       "      <td>0.2</td>\n",
       "      <td>setosa</td>\n",
       "    </tr>\n",
       "  </tbody>\n",
       "</table>\n",
       "</div>"
      ],
      "text/plain": [
       "   Sepal.Length  Sepal.Width  Petal.Length  Petal.Width Species\n",
       "1           5.1          3.5           1.4          0.2  setosa\n",
       "2           4.9          3.0           1.4          0.2  setosa\n",
       "3           4.7          3.2           1.3          0.2  setosa"
      ]
     },
     "execution_count": 2,
     "metadata": {},
     "output_type": "execute_result"
    }
   ],
   "source": [
    "df_iris = data('iris')\n",
    "df_iris.head(3)\n"
   ]
  },
  {
   "cell_type": "code",
   "execution_count": 3,
   "id": "4bcf909f",
   "metadata": {},
   "outputs": [
    {
     "data": {
      "text/plain": [
       "(150, 5)"
      ]
     },
     "execution_count": 3,
     "metadata": {},
     "output_type": "execute_result"
    }
   ],
   "source": [
    "df_iris.shape"
   ]
  },
  {
   "cell_type": "code",
   "execution_count": 4,
   "id": "95cd355c",
   "metadata": {},
   "outputs": [
    {
     "data": {
      "text/plain": [
       "Index(['Sepal.Length', 'Sepal.Width', 'Petal.Length', 'Petal.Width',\n",
       "       'Species'],\n",
       "      dtype='object')"
      ]
     },
     "execution_count": 4,
     "metadata": {},
     "output_type": "execute_result"
    }
   ],
   "source": [
    "df_iris.columns"
   ]
  },
  {
   "cell_type": "code",
   "execution_count": 5,
   "id": "5291283a",
   "metadata": {},
   "outputs": [
    {
     "name": "stdout",
     "output_type": "stream",
     "text": [
      "<class 'pandas.core.frame.DataFrame'>\n",
      "Int64Index: 150 entries, 1 to 150\n",
      "Data columns (total 5 columns):\n",
      " #   Column        Non-Null Count  Dtype  \n",
      "---  ------        --------------  -----  \n",
      " 0   Sepal.Length  150 non-null    float64\n",
      " 1   Sepal.Width   150 non-null    float64\n",
      " 2   Petal.Length  150 non-null    float64\n",
      " 3   Petal.Width   150 non-null    float64\n",
      " 4   Species       150 non-null    object \n",
      "dtypes: float64(4), object(1)\n",
      "memory usage: 7.0+ KB\n"
     ]
    }
   ],
   "source": [
    "df_iris.info()"
   ]
  },
  {
   "cell_type": "code",
   "execution_count": 6,
   "id": "9e4b83e8",
   "metadata": {},
   "outputs": [
    {
     "data": {
      "text/plain": [
       "Sepal.Length    float64\n",
       "Sepal.Width     float64\n",
       "Petal.Length    float64\n",
       "Petal.Width     float64\n",
       "Species          object\n",
       "dtype: object"
      ]
     },
     "execution_count": 6,
     "metadata": {},
     "output_type": "execute_result"
    }
   ],
   "source": [
    "#ALT\n",
    "df_iris.dtypes"
   ]
  },
  {
   "cell_type": "code",
   "execution_count": 7,
   "id": "1e7450f2",
   "metadata": {},
   "outputs": [
    {
     "data": {
      "text/html": [
       "<div>\n",
       "<style scoped>\n",
       "    .dataframe tbody tr th:only-of-type {\n",
       "        vertical-align: middle;\n",
       "    }\n",
       "\n",
       "    .dataframe tbody tr th {\n",
       "        vertical-align: top;\n",
       "    }\n",
       "\n",
       "    .dataframe thead th {\n",
       "        text-align: right;\n",
       "    }\n",
       "</style>\n",
       "<table border=\"1\" class=\"dataframe\">\n",
       "  <thead>\n",
       "    <tr style=\"text-align: right;\">\n",
       "      <th></th>\n",
       "      <th>Sepal.Length</th>\n",
       "      <th>Sepal.Width</th>\n",
       "      <th>Petal.Length</th>\n",
       "      <th>Petal.Width</th>\n",
       "    </tr>\n",
       "  </thead>\n",
       "  <tbody>\n",
       "    <tr>\n",
       "      <th>count</th>\n",
       "      <td>150.000000</td>\n",
       "      <td>150.000000</td>\n",
       "      <td>150.000000</td>\n",
       "      <td>150.000000</td>\n",
       "    </tr>\n",
       "    <tr>\n",
       "      <th>mean</th>\n",
       "      <td>5.843333</td>\n",
       "      <td>3.057333</td>\n",
       "      <td>3.758000</td>\n",
       "      <td>1.199333</td>\n",
       "    </tr>\n",
       "    <tr>\n",
       "      <th>std</th>\n",
       "      <td>0.828066</td>\n",
       "      <td>0.435866</td>\n",
       "      <td>1.765298</td>\n",
       "      <td>0.762238</td>\n",
       "    </tr>\n",
       "    <tr>\n",
       "      <th>min</th>\n",
       "      <td>4.300000</td>\n",
       "      <td>2.000000</td>\n",
       "      <td>1.000000</td>\n",
       "      <td>0.100000</td>\n",
       "    </tr>\n",
       "    <tr>\n",
       "      <th>25%</th>\n",
       "      <td>5.100000</td>\n",
       "      <td>2.800000</td>\n",
       "      <td>1.600000</td>\n",
       "      <td>0.300000</td>\n",
       "    </tr>\n",
       "    <tr>\n",
       "      <th>50%</th>\n",
       "      <td>5.800000</td>\n",
       "      <td>3.000000</td>\n",
       "      <td>4.350000</td>\n",
       "      <td>1.300000</td>\n",
       "    </tr>\n",
       "    <tr>\n",
       "      <th>75%</th>\n",
       "      <td>6.400000</td>\n",
       "      <td>3.300000</td>\n",
       "      <td>5.100000</td>\n",
       "      <td>1.800000</td>\n",
       "    </tr>\n",
       "    <tr>\n",
       "      <th>max</th>\n",
       "      <td>7.900000</td>\n",
       "      <td>4.400000</td>\n",
       "      <td>6.900000</td>\n",
       "      <td>2.500000</td>\n",
       "    </tr>\n",
       "  </tbody>\n",
       "</table>\n",
       "</div>"
      ],
      "text/plain": [
       "       Sepal.Length  Sepal.Width  Petal.Length  Petal.Width\n",
       "count    150.000000   150.000000    150.000000   150.000000\n",
       "mean       5.843333     3.057333      3.758000     1.199333\n",
       "std        0.828066     0.435866      1.765298     0.762238\n",
       "min        4.300000     2.000000      1.000000     0.100000\n",
       "25%        5.100000     2.800000      1.600000     0.300000\n",
       "50%        5.800000     3.000000      4.350000     1.300000\n",
       "75%        6.400000     3.300000      5.100000     1.800000\n",
       "max        7.900000     4.400000      6.900000     2.500000"
      ]
     },
     "execution_count": 7,
     "metadata": {},
     "output_type": "execute_result"
    }
   ],
   "source": [
    "df_iris.describe()\n"
   ]
  },
  {
   "cell_type": "code",
   "execution_count": 8,
   "id": "21deea4b",
   "metadata": {},
   "outputs": [
    {
     "data": {
      "text/html": [
       "<div>\n",
       "<style scoped>\n",
       "    .dataframe tbody tr th:only-of-type {\n",
       "        vertical-align: middle;\n",
       "    }\n",
       "\n",
       "    .dataframe tbody tr th {\n",
       "        vertical-align: top;\n",
       "    }\n",
       "\n",
       "    .dataframe thead th {\n",
       "        text-align: right;\n",
       "    }\n",
       "</style>\n",
       "<table border=\"1\" class=\"dataframe\">\n",
       "  <thead>\n",
       "    <tr style=\"text-align: right;\">\n",
       "      <th></th>\n",
       "      <th>customer_id</th>\n",
       "      <th>gender</th>\n",
       "      <th>is_senior_citizen</th>\n",
       "      <th>partner</th>\n",
       "      <th>dependents</th>\n",
       "      <th>phone_service</th>\n",
       "      <th>internet_service</th>\n",
       "      <th>contract_type</th>\n",
       "      <th>payment_type</th>\n",
       "      <th>monthly_charges</th>\n",
       "      <th>total_charges</th>\n",
       "      <th>churn</th>\n",
       "      <th>tenure</th>\n",
       "    </tr>\n",
       "  </thead>\n",
       "  <tbody>\n",
       "    <tr>\n",
       "      <th>0</th>\n",
       "      <td>0002-ORFBO</td>\n",
       "      <td>Female</td>\n",
       "      <td>0</td>\n",
       "      <td>Yes</td>\n",
       "      <td>Yes</td>\n",
       "      <td>1</td>\n",
       "      <td>1</td>\n",
       "      <td>1</td>\n",
       "      <td>Mailed check</td>\n",
       "      <td>65.6</td>\n",
       "      <td>593.3</td>\n",
       "      <td>No</td>\n",
       "      <td>9.0</td>\n",
       "    </tr>\n",
       "    <tr>\n",
       "      <th>1</th>\n",
       "      <td>0003-MKNFE</td>\n",
       "      <td>Male</td>\n",
       "      <td>0</td>\n",
       "      <td>No</td>\n",
       "      <td>No</td>\n",
       "      <td>2</td>\n",
       "      <td>1</td>\n",
       "      <td>0</td>\n",
       "      <td>Mailed check</td>\n",
       "      <td>59.9</td>\n",
       "      <td>542.4</td>\n",
       "      <td>No</td>\n",
       "      <td>9.1</td>\n",
       "    </tr>\n",
       "  </tbody>\n",
       "</table>\n",
       "</div>"
      ],
      "text/plain": [
       "  customer_id  gender  is_senior_citizen partner dependents  phone_service  \\\n",
       "0  0002-ORFBO  Female                  0     Yes        Yes              1   \n",
       "1  0003-MKNFE    Male                  0      No         No              2   \n",
       "\n",
       "   internet_service  contract_type  payment_type  monthly_charges  \\\n",
       "0                 1              1  Mailed check             65.6   \n",
       "1                 1              0  Mailed check             59.9   \n",
       "\n",
       "   total_charges churn  tenure  \n",
       "0          593.3    No     9.0  \n",
       "1          542.4    No     9.1  "
      ]
     },
     "execution_count": 8,
     "metadata": {},
     "output_type": "execute_result"
    }
   ],
   "source": [
    "df_excel = pd.read_csv('Telco_plus.csv')\n",
    "df_excel.head(2)"
   ]
  },
  {
   "cell_type": "code",
   "execution_count": 9,
   "id": "2845de57",
   "metadata": {},
   "outputs": [],
   "source": [
    "df_excel_sample = df_excel.head(100) \n",
    "# df2 = df_excel.iloc[:100,:] #ALT\n"
   ]
  },
  {
   "cell_type": "code",
   "execution_count": 10,
   "id": "437ecf80",
   "metadata": {},
   "outputs": [
    {
     "data": {
      "text/plain": [
       "7049"
      ]
     },
     "execution_count": 10,
     "metadata": {},
     "output_type": "execute_result"
    }
   ],
   "source": [
    "#number of rows in original dataframe\n",
    "df_excel.shape[0]"
   ]
  },
  {
   "cell_type": "code",
   "execution_count": 11,
   "id": "d2dd8719",
   "metadata": {},
   "outputs": [
    {
     "data": {
      "text/plain": [
       "Index(['customer_id', 'gender', 'is_senior_citizen', 'partner', 'dependents'], dtype='object')"
      ]
     },
     "execution_count": 11,
     "metadata": {},
     "output_type": "execute_result"
    }
   ],
   "source": [
    "#first 5 columns\n",
    "df_excel.columns[0:5]"
   ]
  },
  {
   "cell_type": "code",
   "execution_count": 12,
   "id": "927da3d0",
   "metadata": {},
   "outputs": [
    {
     "name": "stdout",
     "output_type": "stream",
     "text": [
      "customer_id\n",
      "gender\n",
      "partner\n",
      "dependents\n",
      "payment_type\n",
      "churn\n"
     ]
    }
   ],
   "source": [
    "#print columns that are objects\n",
    "for i in df_excel.columns:\n",
    "    if df_excel[i].dtype == object: print(i)"
   ]
  },
  {
   "cell_type": "code",
   "execution_count": 13,
   "id": "c58d40ff",
   "metadata": {},
   "outputs": [
    {
     "data": {
      "text/plain": [
       "Index(['customer_id', 'gender', 'partner', 'dependents', 'payment_type',\n",
       "       'churn'],\n",
       "      dtype='object')"
      ]
     },
     "execution_count": 13,
     "metadata": {},
     "output_type": "execute_result"
    }
   ],
   "source": [
    "#ALT print column objects\n",
    "df_excel.select_dtypes(object).columns"
   ]
  },
  {
   "cell_type": "code",
   "execution_count": 14,
   "id": "c75da850",
   "metadata": {},
   "outputs": [
    {
     "name": "stdout",
     "output_type": "stream",
     "text": [
      "is_senior_citizen range: 1\n",
      "phone_service range: 2\n",
      "internet_service range: 2\n",
      "contract_type range: 2\n",
      "monthly_charges range: 100.5\n",
      "total_charges range: 8666.0\n",
      "tenure range: 79.3\n"
     ]
    }
   ],
   "source": [
    "#Calculate range for numeric variables (doing all int/float, not filtering out those that are actually categories)\n",
    "for i in df_excel.columns:\n",
    "    if df_excel[i].dtype == int or df_excel[i].dtype == float:\n",
    "        rng = df_excel[i].max() - df_excel[i].min()\n",
    "        print(f'{i} range: {rng}')\n"
   ]
  },
  {
   "cell_type": "code",
   "execution_count": 15,
   "id": "c9d6d069",
   "metadata": {},
   "outputs": [
    {
     "data": {
      "text/plain": [
       "is_senior_citizen       1.0\n",
       "phone_service           2.0\n",
       "internet_service        2.0\n",
       "contract_type           2.0\n",
       "monthly_charges       100.5\n",
       "total_charges        8666.0\n",
       "tenure                 79.3\n",
       "dtype: float64"
      ]
     },
     "execution_count": 15,
     "metadata": {},
     "output_type": "execute_result"
    }
   ],
   "source": [
    "#ALT way to get range:\n",
    "df_excel.select_dtypes(include=[int,float]).max()-df_excel.select_dtypes(include=[int,float]).min()"
   ]
  },
  {
   "cell_type": "code",
   "execution_count": 16,
   "id": "32f34343",
   "metadata": {},
   "outputs": [
    {
     "data": {
      "text/html": [
       "<div>\n",
       "<style scoped>\n",
       "    .dataframe tbody tr th:only-of-type {\n",
       "        vertical-align: middle;\n",
       "    }\n",
       "\n",
       "    .dataframe tbody tr th {\n",
       "        vertical-align: top;\n",
       "    }\n",
       "\n",
       "    .dataframe thead th {\n",
       "        text-align: right;\n",
       "    }\n",
       "</style>\n",
       "<table border=\"1\" class=\"dataframe\">\n",
       "  <thead>\n",
       "    <tr style=\"text-align: right;\">\n",
       "      <th></th>\n",
       "      <th>PassengerId</th>\n",
       "      <th>Survived</th>\n",
       "      <th>Pclass</th>\n",
       "      <th>Name</th>\n",
       "      <th>Sex</th>\n",
       "      <th>Age</th>\n",
       "      <th>SibSp</th>\n",
       "      <th>Parch</th>\n",
       "      <th>Ticket</th>\n",
       "      <th>Fare</th>\n",
       "      <th>Cabin</th>\n",
       "      <th>Embarked</th>\n",
       "    </tr>\n",
       "  </thead>\n",
       "  <tbody>\n",
       "    <tr>\n",
       "      <th>0</th>\n",
       "      <td>1</td>\n",
       "      <td>0</td>\n",
       "      <td>3</td>\n",
       "      <td>Braund, Mr. Owen Harris</td>\n",
       "      <td>male</td>\n",
       "      <td>22.0</td>\n",
       "      <td>1</td>\n",
       "      <td>0</td>\n",
       "      <td>A/5 21171</td>\n",
       "      <td>7.2500</td>\n",
       "      <td>NaN</td>\n",
       "      <td>S</td>\n",
       "    </tr>\n",
       "    <tr>\n",
       "      <th>1</th>\n",
       "      <td>2</td>\n",
       "      <td>1</td>\n",
       "      <td>1</td>\n",
       "      <td>Cumings, Mrs. John Bradley (Florence Briggs Thayer)</td>\n",
       "      <td>female</td>\n",
       "      <td>38.0</td>\n",
       "      <td>1</td>\n",
       "      <td>0</td>\n",
       "      <td>PC 17599</td>\n",
       "      <td>71.2833</td>\n",
       "      <td>C85</td>\n",
       "      <td>C</td>\n",
       "    </tr>\n",
       "    <tr>\n",
       "      <th>2</th>\n",
       "      <td>3</td>\n",
       "      <td>1</td>\n",
       "      <td>3</td>\n",
       "      <td>Heikkinen, Miss. Laina</td>\n",
       "      <td>female</td>\n",
       "      <td>26.0</td>\n",
       "      <td>0</td>\n",
       "      <td>0</td>\n",
       "      <td>STON/O2. 3101282</td>\n",
       "      <td>7.9250</td>\n",
       "      <td>NaN</td>\n",
       "      <td>S</td>\n",
       "    </tr>\n",
       "  </tbody>\n",
       "</table>\n",
       "</div>"
      ],
      "text/plain": [
       "   PassengerId  Survived  Pclass  \\\n",
       "0            1         0       3   \n",
       "1            2         1       1   \n",
       "2            3         1       3   \n",
       "\n",
       "                                                  Name     Sex   Age  SibSp  \\\n",
       "0                              Braund, Mr. Owen Harris    male  22.0      1   \n",
       "1  Cumings, Mrs. John Bradley (Florence Briggs Thayer)  female  38.0      1   \n",
       "2                               Heikkinen, Miss. Laina  female  26.0      0   \n",
       "\n",
       "   Parch            Ticket     Fare Cabin Embarked  \n",
       "0      0         A/5 21171   7.2500   NaN        S  \n",
       "1      0          PC 17599  71.2833   C85        C  \n",
       "2      0  STON/O2. 3101282   7.9250   NaN        S  "
      ]
     },
     "execution_count": 16,
     "metadata": {},
     "output_type": "execute_result"
    }
   ],
   "source": [
    "#From Google Sheets\n",
    "url=\"https://docs.google.com/spreadsheets/d/1Uhtml8KY19LILuZsrDtlsHHDC9wuDGUSe8LTEwvdI5g/edit#gid=341089357\"\n",
    "url = url.replace('edit#gid=','export?format=csv&gid=')\n",
    "df_google = pd.read_csv(url)\n",
    "df_google.head(3)\n"
   ]
  },
  {
   "cell_type": "code",
   "execution_count": 17,
   "id": "71950b08",
   "metadata": {},
   "outputs": [
    {
     "data": {
      "text/plain": [
       "(891, 12)"
      ]
     },
     "execution_count": 17,
     "metadata": {},
     "output_type": "execute_result"
    }
   ],
   "source": [
    "df_google.shape"
   ]
  },
  {
   "cell_type": "code",
   "execution_count": 18,
   "id": "e1d4cf42",
   "metadata": {},
   "outputs": [
    {
     "name": "stdout",
     "output_type": "stream",
     "text": [
      "<class 'pandas.core.frame.DataFrame'>\n",
      "RangeIndex: 891 entries, 0 to 890\n",
      "Data columns (total 12 columns):\n",
      " #   Column       Non-Null Count  Dtype  \n",
      "---  ------       --------------  -----  \n",
      " 0   PassengerId  891 non-null    int64  \n",
      " 1   Survived     891 non-null    int64  \n",
      " 2   Pclass       891 non-null    int64  \n",
      " 3   Name         891 non-null    object \n",
      " 4   Sex          891 non-null    object \n",
      " 5   Age          714 non-null    float64\n",
      " 6   SibSp        891 non-null    int64  \n",
      " 7   Parch        891 non-null    int64  \n",
      " 8   Ticket       891 non-null    object \n",
      " 9   Fare         891 non-null    float64\n",
      " 10  Cabin        204 non-null    object \n",
      " 11  Embarked     889 non-null    object \n",
      "dtypes: float64(2), int64(5), object(5)\n",
      "memory usage: 83.7+ KB\n"
     ]
    }
   ],
   "source": [
    "df_google.info()"
   ]
  },
  {
   "cell_type": "code",
   "execution_count": 19,
   "id": "a22a3ab2",
   "metadata": {},
   "outputs": [
    {
     "data": {
      "text/html": [
       "<div>\n",
       "<style scoped>\n",
       "    .dataframe tbody tr th:only-of-type {\n",
       "        vertical-align: middle;\n",
       "    }\n",
       "\n",
       "    .dataframe tbody tr th {\n",
       "        vertical-align: top;\n",
       "    }\n",
       "\n",
       "    .dataframe thead th {\n",
       "        text-align: right;\n",
       "    }\n",
       "</style>\n",
       "<table border=\"1\" class=\"dataframe\">\n",
       "  <thead>\n",
       "    <tr style=\"text-align: right;\">\n",
       "      <th></th>\n",
       "      <th>PassengerId</th>\n",
       "      <th>Survived</th>\n",
       "      <th>Pclass</th>\n",
       "      <th>Age</th>\n",
       "      <th>SibSp</th>\n",
       "      <th>Parch</th>\n",
       "      <th>Fare</th>\n",
       "    </tr>\n",
       "  </thead>\n",
       "  <tbody>\n",
       "    <tr>\n",
       "      <th>count</th>\n",
       "      <td>891.000000</td>\n",
       "      <td>891.000000</td>\n",
       "      <td>891.000000</td>\n",
       "      <td>714.000000</td>\n",
       "      <td>891.000000</td>\n",
       "      <td>891.000000</td>\n",
       "      <td>891.000000</td>\n",
       "    </tr>\n",
       "    <tr>\n",
       "      <th>mean</th>\n",
       "      <td>446.000000</td>\n",
       "      <td>0.383838</td>\n",
       "      <td>2.308642</td>\n",
       "      <td>29.699118</td>\n",
       "      <td>0.523008</td>\n",
       "      <td>0.381594</td>\n",
       "      <td>32.204208</td>\n",
       "    </tr>\n",
       "    <tr>\n",
       "      <th>std</th>\n",
       "      <td>257.353842</td>\n",
       "      <td>0.486592</td>\n",
       "      <td>0.836071</td>\n",
       "      <td>14.526497</td>\n",
       "      <td>1.102743</td>\n",
       "      <td>0.806057</td>\n",
       "      <td>49.693429</td>\n",
       "    </tr>\n",
       "    <tr>\n",
       "      <th>min</th>\n",
       "      <td>1.000000</td>\n",
       "      <td>0.000000</td>\n",
       "      <td>1.000000</td>\n",
       "      <td>0.420000</td>\n",
       "      <td>0.000000</td>\n",
       "      <td>0.000000</td>\n",
       "      <td>0.000000</td>\n",
       "    </tr>\n",
       "    <tr>\n",
       "      <th>25%</th>\n",
       "      <td>223.500000</td>\n",
       "      <td>0.000000</td>\n",
       "      <td>2.000000</td>\n",
       "      <td>20.125000</td>\n",
       "      <td>0.000000</td>\n",
       "      <td>0.000000</td>\n",
       "      <td>7.910400</td>\n",
       "    </tr>\n",
       "    <tr>\n",
       "      <th>50%</th>\n",
       "      <td>446.000000</td>\n",
       "      <td>0.000000</td>\n",
       "      <td>3.000000</td>\n",
       "      <td>28.000000</td>\n",
       "      <td>0.000000</td>\n",
       "      <td>0.000000</td>\n",
       "      <td>14.454200</td>\n",
       "    </tr>\n",
       "    <tr>\n",
       "      <th>75%</th>\n",
       "      <td>668.500000</td>\n",
       "      <td>1.000000</td>\n",
       "      <td>3.000000</td>\n",
       "      <td>38.000000</td>\n",
       "      <td>1.000000</td>\n",
       "      <td>0.000000</td>\n",
       "      <td>31.000000</td>\n",
       "    </tr>\n",
       "    <tr>\n",
       "      <th>max</th>\n",
       "      <td>891.000000</td>\n",
       "      <td>1.000000</td>\n",
       "      <td>3.000000</td>\n",
       "      <td>80.000000</td>\n",
       "      <td>8.000000</td>\n",
       "      <td>6.000000</td>\n",
       "      <td>512.329200</td>\n",
       "    </tr>\n",
       "  </tbody>\n",
       "</table>\n",
       "</div>"
      ],
      "text/plain": [
       "       PassengerId    Survived      Pclass         Age       SibSp  \\\n",
       "count   891.000000  891.000000  891.000000  714.000000  891.000000   \n",
       "mean    446.000000    0.383838    2.308642   29.699118    0.523008   \n",
       "std     257.353842    0.486592    0.836071   14.526497    1.102743   \n",
       "min       1.000000    0.000000    1.000000    0.420000    0.000000   \n",
       "25%     223.500000    0.000000    2.000000   20.125000    0.000000   \n",
       "50%     446.000000    0.000000    3.000000   28.000000    0.000000   \n",
       "75%     668.500000    1.000000    3.000000   38.000000    1.000000   \n",
       "max     891.000000    1.000000    3.000000   80.000000    8.000000   \n",
       "\n",
       "            Parch        Fare  \n",
       "count  891.000000  891.000000  \n",
       "mean     0.381594   32.204208  \n",
       "std      0.806057   49.693429  \n",
       "min      0.000000    0.000000  \n",
       "25%      0.000000    7.910400  \n",
       "50%      0.000000   14.454200  \n",
       "75%      0.000000   31.000000  \n",
       "max      6.000000  512.329200  "
      ]
     },
     "execution_count": 19,
     "metadata": {},
     "output_type": "execute_result"
    }
   ],
   "source": [
    "df_google.describe()"
   ]
  },
  {
   "cell_type": "code",
   "execution_count": 20,
   "id": "25d9599f",
   "metadata": {},
   "outputs": [
    {
     "name": "stdout",
     "output_type": "stream",
     "text": [
      "Survived categories: [0 1]\n",
      "Pclass categories: [3 1 2]\n",
      "Sex categories: ['male' 'female']\n",
      "SibSp categories: [1 0 3 4 2 5 8]\n",
      "Parch categories: [0 1 2 5 3 4 6]\n",
      "Embarked categories: ['S' 'C' 'Q' nan]\n"
     ]
    }
   ],
   "source": [
    "cats = ['Survived','Pclass','Sex','SibSp','Parch','Embarked']\n",
    "for i in cats:\n",
    "    print(f'{i} categories: {df_google[i].unique()}')"
   ]
  },
  {
   "cell_type": "markdown",
   "id": "1da6defe",
   "metadata": {},
   "source": [
    "## Preparation Exercises\n",
    "\n",
    "### Titanic Dataset"
   ]
  },
  {
   "cell_type": "code",
   "execution_count": 21,
   "id": "7cc677aa",
   "metadata": {},
   "outputs": [
    {
     "name": "stdout",
     "output_type": "stream",
     "text": [
      "<class 'pandas.core.frame.DataFrame'>\n",
      "Int64Index: 891 entries, 0 to 890\n",
      "Data columns (total 13 columns):\n",
      " #   Column        Non-Null Count  Dtype  \n",
      "---  ------        --------------  -----  \n",
      " 0   passenger_id  891 non-null    int64  \n",
      " 1   survived      891 non-null    int64  \n",
      " 2   pclass        891 non-null    int64  \n",
      " 3   sex           891 non-null    object \n",
      " 4   age           714 non-null    float64\n",
      " 5   sibsp         891 non-null    int64  \n",
      " 6   parch         891 non-null    int64  \n",
      " 7   fare          891 non-null    float64\n",
      " 8   embarked      889 non-null    object \n",
      " 9   class         891 non-null    object \n",
      " 10  deck          203 non-null    object \n",
      " 11  embark_town   889 non-null    object \n",
      " 12  alone         891 non-null    int64  \n",
      "dtypes: float64(2), int64(6), object(5)\n",
      "memory usage: 97.5+ KB\n"
     ]
    }
   ],
   "source": [
    "df = df_backup = acq.getData('titanic')\n",
    "df.info()"
   ]
  },
  {
   "cell_type": "code",
   "execution_count": 22,
   "id": "afbf4496",
   "metadata": {},
   "outputs": [
    {
     "name": "stdout",
     "output_type": "stream",
     "text": [
      "pclass    1    2    3\n",
      "class                \n",
      "First   216    0    0\n",
      "Second    0  184    0\n",
      "Third     0    0  491\n",
      "\n",
      "alone    0    1\n",
      "parch          \n",
      "0      141  537\n",
      "1      118    0\n",
      "2       80    0\n",
      "3        5    0\n",
      "4        4    0\n",
      "5        5    0\n",
      "6        1    0\n"
     ]
    }
   ],
   "source": [
    "print(pd.crosstab(df['class'],df.pclass))  #same info, we can drop one\n",
    "print(f'\\n{pd.crosstab(df.parch,df.alone)}')\n",
    "#Alone flag numbers don't seem to align with sibsp or parch.  \n",
    "#Would check if related to only 1 passenger per cabin number \n",
    "# - but this dataset doesn't contain the cabin number"
   ]
  },
  {
   "cell_type": "code",
   "execution_count": 23,
   "id": "0b804a7e",
   "metadata": {},
   "outputs": [
    {
     "data": {
      "text/html": [
       "<div>\n",
       "<style scoped>\n",
       "    .dataframe tbody tr th:only-of-type {\n",
       "        vertical-align: middle;\n",
       "    }\n",
       "\n",
       "    .dataframe tbody tr th {\n",
       "        vertical-align: top;\n",
       "    }\n",
       "\n",
       "    .dataframe thead th {\n",
       "        text-align: right;\n",
       "    }\n",
       "</style>\n",
       "<table border=\"1\" class=\"dataframe\">\n",
       "  <thead>\n",
       "    <tr style=\"text-align: right;\">\n",
       "      <th>embark_town</th>\n",
       "      <th>Cherbourg</th>\n",
       "      <th>Queenstown</th>\n",
       "      <th>Southampton</th>\n",
       "    </tr>\n",
       "    <tr>\n",
       "      <th>embarked</th>\n",
       "      <th></th>\n",
       "      <th></th>\n",
       "      <th></th>\n",
       "    </tr>\n",
       "  </thead>\n",
       "  <tbody>\n",
       "    <tr>\n",
       "      <th>C</th>\n",
       "      <td>168</td>\n",
       "      <td>0</td>\n",
       "      <td>0</td>\n",
       "    </tr>\n",
       "    <tr>\n",
       "      <th>Q</th>\n",
       "      <td>0</td>\n",
       "      <td>77</td>\n",
       "      <td>0</td>\n",
       "    </tr>\n",
       "    <tr>\n",
       "      <th>S</th>\n",
       "      <td>0</td>\n",
       "      <td>0</td>\n",
       "      <td>644</td>\n",
       "    </tr>\n",
       "  </tbody>\n",
       "</table>\n",
       "</div>"
      ],
      "text/plain": [
       "embark_town  Cherbourg  Queenstown  Southampton\n",
       "embarked                                       \n",
       "C                  168           0            0\n",
       "Q                    0          77            0\n",
       "S                    0           0          644"
      ]
     },
     "execution_count": 23,
     "metadata": {},
     "output_type": "execute_result"
    }
   ],
   "source": [
    "pd.crosstab(df.embarked,df.embark_town) #duplicate columns"
   ]
  },
  {
   "cell_type": "code",
   "execution_count": 24,
   "id": "39e1dc0d",
   "metadata": {},
   "outputs": [
    {
     "data": {
      "text/plain": [
       "(891, 13)"
      ]
     },
     "execution_count": 24,
     "metadata": {},
     "output_type": "execute_result"
    }
   ],
   "source": [
    "df.drop_duplicates(inplace=True)\n",
    "df.shape #no duplicates"
   ]
  },
  {
   "cell_type": "markdown",
   "id": "edbaaf52",
   "metadata": {},
   "source": [
    "#### Gather our takeaways, i.e., what we are going to do when we clean:\n",
    "- Target: want to predict survival\n",
    "- Cleaning to do:\n",
    "  - Drop pclass: duplicate Data, but want pclass column name and class's categorical values\n",
    "  - Drop passenger_id: only would be valuable as it relates to other attributes\n",
    "  - Drop embarked or embarked_town, they are duplicates\n",
    "  - Drop Deck, it is ~70% nulls\n",
    "\n",
    "- To consider further: age has a few nulls"
   ]
  },
  {
   "cell_type": "code",
   "execution_count": 25,
   "id": "0a827059",
   "metadata": {},
   "outputs": [],
   "source": [
    "df.drop(inplace=True,columns=['pclass','passenger_id','embarked','deck'])"
   ]
  },
  {
   "cell_type": "code",
   "execution_count": 26,
   "id": "4666e363",
   "metadata": {},
   "outputs": [
    {
     "name": "stdout",
     "output_type": "stream",
     "text": [
      "<class 'pandas.core.frame.DataFrame'>\n",
      "Int64Index: 891 entries, 0 to 890\n",
      "Data columns (total 9 columns):\n",
      " #   Column       Non-Null Count  Dtype  \n",
      "---  ------       --------------  -----  \n",
      " 0   survived     891 non-null    int64  \n",
      " 1   sex          891 non-null    object \n",
      " 2   age          714 non-null    float64\n",
      " 3   sibsp        891 non-null    int64  \n",
      " 4   parch        891 non-null    int64  \n",
      " 5   fare         891 non-null    float64\n",
      " 6   class        891 non-null    object \n",
      " 7   embark_town  889 non-null    object \n",
      " 8   alone        891 non-null    int64  \n",
      "dtypes: float64(2), int64(4), object(3)\n",
      "memory usage: 69.6+ KB\n"
     ]
    }
   ],
   "source": [
    "df.info()"
   ]
  },
  {
   "cell_type": "markdown",
   "id": "30938aab",
   "metadata": {},
   "source": [
    "#### Nulls (round 1)\n",
    "- drop rows with 2 embark nulls\n",
    "- age nulls should wait as we want to fill them in after splitting "
   ]
  },
  {
   "cell_type": "code",
   "execution_count": 27,
   "id": "c2558de1",
   "metadata": {},
   "outputs": [
    {
     "name": "stdout",
     "output_type": "stream",
     "text": [
      "<class 'pandas.core.frame.DataFrame'>\n",
      "Int64Index: 889 entries, 0 to 890\n",
      "Data columns (total 9 columns):\n",
      " #   Column       Non-Null Count  Dtype  \n",
      "---  ------       --------------  -----  \n",
      " 0   survived     889 non-null    int64  \n",
      " 1   sex          889 non-null    object \n",
      " 2   age          712 non-null    float64\n",
      " 3   sibsp        889 non-null    int64  \n",
      " 4   parch        889 non-null    int64  \n",
      " 5   fare         889 non-null    float64\n",
      " 6   class        889 non-null    object \n",
      " 7   embark_town  889 non-null    object \n",
      " 8   alone        889 non-null    int64  \n",
      "dtypes: float64(2), int64(4), object(3)\n",
      "memory usage: 69.5+ KB\n"
     ]
    }
   ],
   "source": [
    "df.dropna(subset=['embark_town']).info() \n",
    "#awesome, works by just dropping rows with null in embark"
   ]
  },
  {
   "cell_type": "code",
   "execution_count": 28,
   "id": "a7a0e10f",
   "metadata": {},
   "outputs": [],
   "source": [
    "df.dropna(subset=['embark_town'],inplace=True)"
   ]
  },
  {
   "cell_type": "code",
   "execution_count": 29,
   "id": "9b8a9988",
   "metadata": {},
   "outputs": [
    {
     "name": "stdout",
     "output_type": "stream",
     "text": [
      "<class 'pandas.core.frame.DataFrame'>\n",
      "Int64Index: 889 entries, 0 to 890\n",
      "Data columns (total 9 columns):\n",
      " #   Column       Non-Null Count  Dtype  \n",
      "---  ------       --------------  -----  \n",
      " 0   survived     889 non-null    int64  \n",
      " 1   sex          889 non-null    object \n",
      " 2   age          712 non-null    float64\n",
      " 3   sibsp        889 non-null    int64  \n",
      " 4   parch        889 non-null    int64  \n",
      " 5   fare         889 non-null    float64\n",
      " 6   class        889 non-null    object \n",
      " 7   embark_town  889 non-null    object \n",
      " 8   alone        889 non-null    int64  \n",
      "dtypes: float64(2), int64(4), object(3)\n",
      "memory usage: 69.5+ KB\n"
     ]
    }
   ],
   "source": [
    "df.info()"
   ]
  },
  {
   "cell_type": "markdown",
   "id": "01408d76",
   "metadata": {},
   "source": [
    "#### Encoding\n",
    "- Sex and embarkation town\n"
   ]
  },
  {
   "cell_type": "code",
   "execution_count": 30,
   "id": "33004def",
   "metadata": {},
   "outputs": [
    {
     "data": {
      "text/html": [
       "<div>\n",
       "<style scoped>\n",
       "    .dataframe tbody tr th:only-of-type {\n",
       "        vertical-align: middle;\n",
       "    }\n",
       "\n",
       "    .dataframe tbody tr th {\n",
       "        vertical-align: top;\n",
       "    }\n",
       "\n",
       "    .dataframe thead th {\n",
       "        text-align: right;\n",
       "    }\n",
       "</style>\n",
       "<table border=\"1\" class=\"dataframe\">\n",
       "  <thead>\n",
       "    <tr style=\"text-align: right;\">\n",
       "      <th></th>\n",
       "      <th>embark_town_Queenstown</th>\n",
       "      <th>embark_town_Southampton</th>\n",
       "      <th>sex_male</th>\n",
       "      <th>class_Second</th>\n",
       "      <th>class_Third</th>\n",
       "    </tr>\n",
       "  </thead>\n",
       "  <tbody>\n",
       "    <tr>\n",
       "      <th>0</th>\n",
       "      <td>0</td>\n",
       "      <td>1</td>\n",
       "      <td>1</td>\n",
       "      <td>0</td>\n",
       "      <td>1</td>\n",
       "    </tr>\n",
       "    <tr>\n",
       "      <th>1</th>\n",
       "      <td>0</td>\n",
       "      <td>0</td>\n",
       "      <td>0</td>\n",
       "      <td>0</td>\n",
       "      <td>0</td>\n",
       "    </tr>\n",
       "  </tbody>\n",
       "</table>\n",
       "</div>"
      ],
      "text/plain": [
       "   embark_town_Queenstown  embark_town_Southampton  sex_male  class_Second  \\\n",
       "0                       0                        1         1             0   \n",
       "1                       0                        0         0             0   \n",
       "\n",
       "   class_Third  \n",
       "0            1  \n",
       "1            0  "
      ]
     },
     "execution_count": 30,
     "metadata": {},
     "output_type": "execute_result"
    }
   ],
   "source": [
    "d_df = pd.get_dummies(df[['embark_town','sex','class']],drop_first=[True, True])\n",
    "d_df.head(2)"
   ]
  },
  {
   "cell_type": "code",
   "execution_count": 31,
   "id": "e80fa8a0",
   "metadata": {},
   "outputs": [
    {
     "data": {
      "text/html": [
       "<div>\n",
       "<style scoped>\n",
       "    .dataframe tbody tr th:only-of-type {\n",
       "        vertical-align: middle;\n",
       "    }\n",
       "\n",
       "    .dataframe tbody tr th {\n",
       "        vertical-align: top;\n",
       "    }\n",
       "\n",
       "    .dataframe thead th {\n",
       "        text-align: right;\n",
       "    }\n",
       "</style>\n",
       "<table border=\"1\" class=\"dataframe\">\n",
       "  <thead>\n",
       "    <tr style=\"text-align: right;\">\n",
       "      <th></th>\n",
       "      <th>survived</th>\n",
       "      <th>sex</th>\n",
       "      <th>age</th>\n",
       "      <th>sibsp</th>\n",
       "      <th>parch</th>\n",
       "      <th>fare</th>\n",
       "      <th>class</th>\n",
       "      <th>embark_town</th>\n",
       "      <th>alone</th>\n",
       "      <th>embark_town_Queenstown</th>\n",
       "      <th>embark_town_Southampton</th>\n",
       "      <th>sex_male</th>\n",
       "      <th>class_Second</th>\n",
       "      <th>class_Third</th>\n",
       "    </tr>\n",
       "  </thead>\n",
       "  <tbody>\n",
       "    <tr>\n",
       "      <th>0</th>\n",
       "      <td>0</td>\n",
       "      <td>male</td>\n",
       "      <td>22.0</td>\n",
       "      <td>1</td>\n",
       "      <td>0</td>\n",
       "      <td>7.2500</td>\n",
       "      <td>Third</td>\n",
       "      <td>Southampton</td>\n",
       "      <td>0</td>\n",
       "      <td>0</td>\n",
       "      <td>1</td>\n",
       "      <td>1</td>\n",
       "      <td>0</td>\n",
       "      <td>1</td>\n",
       "    </tr>\n",
       "    <tr>\n",
       "      <th>1</th>\n",
       "      <td>1</td>\n",
       "      <td>female</td>\n",
       "      <td>38.0</td>\n",
       "      <td>1</td>\n",
       "      <td>0</td>\n",
       "      <td>71.2833</td>\n",
       "      <td>First</td>\n",
       "      <td>Cherbourg</td>\n",
       "      <td>0</td>\n",
       "      <td>0</td>\n",
       "      <td>0</td>\n",
       "      <td>0</td>\n",
       "      <td>0</td>\n",
       "      <td>0</td>\n",
       "    </tr>\n",
       "  </tbody>\n",
       "</table>\n",
       "</div>"
      ],
      "text/plain": [
       "   survived     sex   age  sibsp  parch     fare  class  embark_town  alone  \\\n",
       "0         0    male  22.0      1      0   7.2500  Third  Southampton      0   \n",
       "1         1  female  38.0      1      0  71.2833  First    Cherbourg      0   \n",
       "\n",
       "   embark_town_Queenstown  embark_town_Southampton  sex_male  class_Second  \\\n",
       "0                       0                        1         1             0   \n",
       "1                       0                        0         0             0   \n",
       "\n",
       "   class_Third  \n",
       "0            1  \n",
       "1            0  "
      ]
     },
     "execution_count": 31,
     "metadata": {},
     "output_type": "execute_result"
    }
   ],
   "source": [
    "#concat dummy df to dataframe\n",
    "df = pd.concat([df,d_df],axis=1)\n",
    "df.head(2)"
   ]
  },
  {
   "cell_type": "code",
   "execution_count": 32,
   "id": "70a59477",
   "metadata": {},
   "outputs": [],
   "source": [
    "#rename class just in case\n",
    "df.rename(columns={'class':'pclass'},inplace=True)"
   ]
  },
  {
   "cell_type": "markdown",
   "id": "a49c3143",
   "metadata": {},
   "source": [
    "#### Drop into a Function"
   ]
  },
  {
   "cell_type": "code",
   "execution_count": 33,
   "id": "9e79bb29",
   "metadata": {},
   "outputs": [],
   "source": [
    "def prep_titanic(df):\n",
    "    #Drop un-needed columns\n",
    "    df.drop(inplace=True,columns=['pclass','passenger_id','embarked','deck'])\n",
    "    #Drop minimal nulls from embark town\n",
    "    df.dropna(subset=['embark_town'],inplace=True)\n",
    "    #Encode embark_town, sex and class >> concat\n",
    "    d_df = pd.get_dummies(df[['embark_town','sex','class']],drop_first=[True, True])\n",
    "    df = pd.concat([df,d_df],axis=1)\n",
    "    #rename class just in case\n",
    "    df.rename(columns={'class':'pclass'},inplace=True)\n",
    "    return df"
   ]
  },
  {
   "cell_type": "code",
   "execution_count": 34,
   "id": "1710e751",
   "metadata": {},
   "outputs": [
    {
     "name": "stdout",
     "output_type": "stream",
     "text": [
      "<class 'pandas.core.frame.DataFrame'>\n",
      "Int64Index: 891 entries, 0 to 890\n",
      "Data columns (total 13 columns):\n",
      " #   Column        Non-Null Count  Dtype  \n",
      "---  ------        --------------  -----  \n",
      " 0   passenger_id  891 non-null    int64  \n",
      " 1   survived      891 non-null    int64  \n",
      " 2   pclass        891 non-null    int64  \n",
      " 3   sex           891 non-null    object \n",
      " 4   age           714 non-null    float64\n",
      " 5   sibsp         891 non-null    int64  \n",
      " 6   parch         891 non-null    int64  \n",
      " 7   fare          891 non-null    float64\n",
      " 8   embarked      889 non-null    object \n",
      " 9   class         891 non-null    object \n",
      " 10  deck          203 non-null    object \n",
      " 11  embark_town   889 non-null    object \n",
      " 12  alone         891 non-null    int64  \n",
      "dtypes: float64(2), int64(6), object(5)\n",
      "memory usage: 97.5+ KB\n"
     ]
    }
   ],
   "source": [
    "df = acq.getData('titanic')\n",
    "df.info()"
   ]
  },
  {
   "cell_type": "code",
   "execution_count": 35,
   "id": "95b5aa26",
   "metadata": {},
   "outputs": [
    {
     "name": "stderr",
     "output_type": "stream",
     "text": [
      "/Users/caytschlichting/codeup-data-science/classification-exercises/prepare.py:50: SettingWithCopyWarning: \n",
      "A value is trying to be set on a copy of a slice from a DataFrame.\n",
      "Try using .loc[row_indexer,col_indexer] = value instead\n",
      "\n",
      "See the caveats in the documentation: https://pandas.pydata.org/pandas-docs/stable/user_guide/indexing.html#returning-a-view-versus-a-copy\n",
      "  validate['age'] = imputer.transform(validate[['age']])\n"
     ]
    },
    {
     "data": {
      "text/plain": [
       "(622, 14)"
      ]
     },
     "execution_count": 35,
     "metadata": {},
     "output_type": "execute_result"
    }
   ],
   "source": [
    "tr, te, val = prepare.prep_titanic(df)\n",
    "tr.shape"
   ]
  },
  {
   "cell_type": "code",
   "execution_count": 36,
   "id": "db3b8aed",
   "metadata": {},
   "outputs": [
    {
     "data": {
      "text/plain": [
       "170    61.000000\n",
       "546    19.000000\n",
       "315    26.000000\n",
       "613    29.850694\n",
       "409    29.850694\n",
       "         ...    \n",
       "832    29.850694\n",
       "856    45.000000\n",
       "597    49.000000\n",
       "594    37.000000\n",
       "497    29.850694\n",
       "Name: age, Length: 178, dtype: float64"
      ]
     },
     "execution_count": 36,
     "metadata": {},
     "output_type": "execute_result"
    }
   ],
   "source": [
    "val.age"
   ]
  },
  {
   "cell_type": "markdown",
   "id": "d523ee42",
   "metadata": {},
   "source": [
    "#### Impute the age column"
   ]
  },
  {
   "cell_type": "code",
   "execution_count": 37,
   "id": "1a01ba40",
   "metadata": {},
   "outputs": [],
   "source": [
    "# imputer = SimpleImputer(strategy='mean')\n",
    "# #fit train data to imputer, then transform train\n",
    "# tr.age = imputer.fit_transform(tr.age)\n",
    "# #transform test and validate\n",
    "# te.age = imputer.transform(te.age)\n",
    "# val.age = imputer.transform(val.age)"
   ]
  },
  {
   "cell_type": "markdown",
   "id": "ea1d16b7",
   "metadata": {},
   "source": [
    "### Iris Dataset"
   ]
  },
  {
   "cell_type": "code",
   "execution_count": 38,
   "id": "6f4e73d3",
   "metadata": {},
   "outputs": [],
   "source": [
    "idf = acq.getData('iris')"
   ]
  },
  {
   "cell_type": "code",
   "execution_count": 39,
   "id": "1076fb80",
   "metadata": {},
   "outputs": [
    {
     "name": "stdout",
     "output_type": "stream",
     "text": [
      "<class 'pandas.core.frame.DataFrame'>\n",
      "Int64Index: 150 entries, 0 to 149\n",
      "Data columns (total 7 columns):\n",
      " #   Column          Non-Null Count  Dtype  \n",
      "---  ------          --------------  -----  \n",
      " 0   species_id      150 non-null    int64  \n",
      " 1   measurement_id  150 non-null    int64  \n",
      " 2   sepal_length    150 non-null    float64\n",
      " 3   sepal_width     150 non-null    float64\n",
      " 4   petal_length    150 non-null    float64\n",
      " 5   petal_width     150 non-null    float64\n",
      " 6   species_name    150 non-null    object \n",
      "dtypes: float64(4), int64(2), object(1)\n",
      "memory usage: 9.4+ KB\n"
     ]
    }
   ],
   "source": [
    "idf.info()\n",
    "# no Nulls"
   ]
  },
  {
   "cell_type": "code",
   "execution_count": 40,
   "id": "02911edd",
   "metadata": {},
   "outputs": [
    {
     "data": {
      "text/html": [
       "<div>\n",
       "<style scoped>\n",
       "    .dataframe tbody tr th:only-of-type {\n",
       "        vertical-align: middle;\n",
       "    }\n",
       "\n",
       "    .dataframe tbody tr th {\n",
       "        vertical-align: top;\n",
       "    }\n",
       "\n",
       "    .dataframe thead th {\n",
       "        text-align: right;\n",
       "    }\n",
       "</style>\n",
       "<table border=\"1\" class=\"dataframe\">\n",
       "  <thead>\n",
       "    <tr style=\"text-align: right;\">\n",
       "      <th>species_name</th>\n",
       "      <th>setosa</th>\n",
       "      <th>versicolor</th>\n",
       "      <th>virginica</th>\n",
       "    </tr>\n",
       "    <tr>\n",
       "      <th>species_id</th>\n",
       "      <th></th>\n",
       "      <th></th>\n",
       "      <th></th>\n",
       "    </tr>\n",
       "  </thead>\n",
       "  <tbody>\n",
       "    <tr>\n",
       "      <th>1</th>\n",
       "      <td>50</td>\n",
       "      <td>0</td>\n",
       "      <td>0</td>\n",
       "    </tr>\n",
       "    <tr>\n",
       "      <th>2</th>\n",
       "      <td>0</td>\n",
       "      <td>50</td>\n",
       "      <td>0</td>\n",
       "    </tr>\n",
       "    <tr>\n",
       "      <th>3</th>\n",
       "      <td>0</td>\n",
       "      <td>0</td>\n",
       "      <td>50</td>\n",
       "    </tr>\n",
       "  </tbody>\n",
       "</table>\n",
       "</div>"
      ],
      "text/plain": [
       "species_name  setosa  versicolor  virginica\n",
       "species_id                                 \n",
       "1                 50           0          0\n",
       "2                  0          50          0\n",
       "3                  0           0         50"
      ]
     },
     "execution_count": 40,
     "metadata": {},
     "output_type": "execute_result"
    }
   ],
   "source": [
    "pd.crosstab(idf.species_id,idf.species_name)"
   ]
  },
  {
   "cell_type": "code",
   "execution_count": 41,
   "id": "ea60f0dc",
   "metadata": {},
   "outputs": [
    {
     "data": {
      "text/html": [
       "<div>\n",
       "<style scoped>\n",
       "    .dataframe tbody tr th:only-of-type {\n",
       "        vertical-align: middle;\n",
       "    }\n",
       "\n",
       "    .dataframe tbody tr th {\n",
       "        vertical-align: top;\n",
       "    }\n",
       "\n",
       "    .dataframe thead th {\n",
       "        text-align: right;\n",
       "    }\n",
       "</style>\n",
       "<table border=\"1\" class=\"dataframe\">\n",
       "  <thead>\n",
       "    <tr style=\"text-align: right;\">\n",
       "      <th></th>\n",
       "      <th>count</th>\n",
       "      <th>mean</th>\n",
       "      <th>std</th>\n",
       "      <th>min</th>\n",
       "      <th>25%</th>\n",
       "      <th>50%</th>\n",
       "      <th>75%</th>\n",
       "      <th>max</th>\n",
       "    </tr>\n",
       "  </thead>\n",
       "  <tbody>\n",
       "    <tr>\n",
       "      <th>species_id</th>\n",
       "      <td>150.0</td>\n",
       "      <td>2.000000</td>\n",
       "      <td>0.819232</td>\n",
       "      <td>1.0</td>\n",
       "      <td>1.00</td>\n",
       "      <td>2.00</td>\n",
       "      <td>3.00</td>\n",
       "      <td>3.0</td>\n",
       "    </tr>\n",
       "    <tr>\n",
       "      <th>measurement_id</th>\n",
       "      <td>150.0</td>\n",
       "      <td>75.500000</td>\n",
       "      <td>43.445368</td>\n",
       "      <td>1.0</td>\n",
       "      <td>38.25</td>\n",
       "      <td>75.50</td>\n",
       "      <td>112.75</td>\n",
       "      <td>150.0</td>\n",
       "    </tr>\n",
       "    <tr>\n",
       "      <th>sepal_length</th>\n",
       "      <td>150.0</td>\n",
       "      <td>5.843333</td>\n",
       "      <td>0.828066</td>\n",
       "      <td>4.3</td>\n",
       "      <td>5.10</td>\n",
       "      <td>5.80</td>\n",
       "      <td>6.40</td>\n",
       "      <td>7.9</td>\n",
       "    </tr>\n",
       "    <tr>\n",
       "      <th>sepal_width</th>\n",
       "      <td>150.0</td>\n",
       "      <td>3.057333</td>\n",
       "      <td>0.435866</td>\n",
       "      <td>2.0</td>\n",
       "      <td>2.80</td>\n",
       "      <td>3.00</td>\n",
       "      <td>3.30</td>\n",
       "      <td>4.4</td>\n",
       "    </tr>\n",
       "    <tr>\n",
       "      <th>petal_length</th>\n",
       "      <td>150.0</td>\n",
       "      <td>3.758000</td>\n",
       "      <td>1.765298</td>\n",
       "      <td>1.0</td>\n",
       "      <td>1.60</td>\n",
       "      <td>4.35</td>\n",
       "      <td>5.10</td>\n",
       "      <td>6.9</td>\n",
       "    </tr>\n",
       "    <tr>\n",
       "      <th>petal_width</th>\n",
       "      <td>150.0</td>\n",
       "      <td>1.199333</td>\n",
       "      <td>0.762238</td>\n",
       "      <td>0.1</td>\n",
       "      <td>0.30</td>\n",
       "      <td>1.30</td>\n",
       "      <td>1.80</td>\n",
       "      <td>2.5</td>\n",
       "    </tr>\n",
       "  </tbody>\n",
       "</table>\n",
       "</div>"
      ],
      "text/plain": [
       "                count       mean        std  min    25%    50%     75%    max\n",
       "species_id      150.0   2.000000   0.819232  1.0   1.00   2.00    3.00    3.0\n",
       "measurement_id  150.0  75.500000  43.445368  1.0  38.25  75.50  112.75  150.0\n",
       "sepal_length    150.0   5.843333   0.828066  4.3   5.10   5.80    6.40    7.9\n",
       "sepal_width     150.0   3.057333   0.435866  2.0   2.80   3.00    3.30    4.4\n",
       "petal_length    150.0   3.758000   1.765298  1.0   1.60   4.35    5.10    6.9\n",
       "petal_width     150.0   1.199333   0.762238  0.1   0.30   1.30    1.80    2.5"
      ]
     },
     "execution_count": 41,
     "metadata": {},
     "output_type": "execute_result"
    }
   ],
   "source": [
    "idf.describe().T"
   ]
  },
  {
   "cell_type": "code",
   "execution_count": 42,
   "id": "efbc9192",
   "metadata": {},
   "outputs": [
    {
     "data": {
      "text/plain": [
       "(array([ 4.,  7., 22., 24., 37., 31., 10., 11.,  2.,  2.]),\n",
       " array([2.  , 2.24, 2.48, 2.72, 2.96, 3.2 , 3.44, 3.68, 3.92, 4.16, 4.4 ]),\n",
       " <BarContainer object of 10 artists>)"
      ]
     },
     "execution_count": 42,
     "metadata": {},
     "output_type": "execute_result"
    },
    {
     "data": {
      "image/png": "[encoded data removed]",
      "text/plain": [
       "<Figure size 432x288 with 1 Axes>"
      ]
     },
     "metadata": {
      "needs_background": "light"
     },
     "output_type": "display_data"
    }
   ],
   "source": [
    "plt.hist(idf.sepal_width)"
   ]
  },
  {
   "cell_type": "code",
   "execution_count": 43,
   "id": "018e1993",
   "metadata": {},
   "outputs": [
    {
     "data": {
      "image/png": "[encoded data removed]",
      "text/plain": [
       "<Figure size 432x288 with 4 Axes>"
      ]
     },
     "metadata": {
      "needs_background": "light"
     },
     "output_type": "display_data"
    }
   ],
   "source": [
    "plt.figure()\n",
    "ct = 0\n",
    "for i in idf.columns[2:6]:\n",
    "    ct +=1\n",
    "    plt.subplot(2,2,ct)\n",
    "    plt.hist(idf[i])\n",
    "    plt.title(i)\n",
    "plt.tight_layout()"
   ]
  },
  {
   "cell_type": "markdown",
   "id": "95b5135c",
   "metadata": {},
   "source": [
    "##### Cleaning to do:\n",
    "- No Nulls, so good there\n",
    "- Outliers for sepal/petal length/width are fine\n",
    "- TO DROP:\n",
    "  - species_id (duplicate of species name)\n",
    "  - measurement_id (primary key, don't need)"
   ]
  },
  {
   "cell_type": "code",
   "execution_count": 44,
   "id": "711d298b",
   "metadata": {},
   "outputs": [
    {
     "data": {
      "text/plain": [
       "(150, 5)"
      ]
     },
     "execution_count": 44,
     "metadata": {},
     "output_type": "execute_result"
    }
   ],
   "source": [
    "idf.drop(inplace=True,columns=['species_id','measurement_id'])\n",
    "idf.shape"
   ]
  },
  {
   "cell_type": "code",
   "execution_count": 45,
   "id": "26f4777e",
   "metadata": {},
   "outputs": [],
   "source": [
    "idf.rename(columns={\"species_name\":\"species\"},inplace=True)"
   ]
  },
  {
   "cell_type": "code",
   "execution_count": 46,
   "id": "6ab709b3",
   "metadata": {},
   "outputs": [
    {
     "data": {
      "text/plain": [
       "Index(['sepal_length', 'sepal_width', 'petal_length', 'petal_width',\n",
       "       'species'],\n",
       "      dtype='object')"
      ]
     },
     "execution_count": 46,
     "metadata": {},
     "output_type": "execute_result"
    }
   ],
   "source": [
    "idf.columns"
   ]
  },
  {
   "cell_type": "markdown",
   "id": "4ffcbf58",
   "metadata": {},
   "source": [
    "#### Encode\n",
    "- Encode species_name: but don't technically need to do this as the target"
   ]
  },
  {
   "cell_type": "code",
   "execution_count": 47,
   "id": "d6fdc411",
   "metadata": {},
   "outputs": [],
   "source": [
    "d_idf = pd.get_dummies(idf[['species']],drop_first=True)"
   ]
  },
  {
   "cell_type": "code",
   "execution_count": 48,
   "id": "d94e09cf",
   "metadata": {},
   "outputs": [
    {
     "data": {
      "text/html": [
       "<div>\n",
       "<style scoped>\n",
       "    .dataframe tbody tr th:only-of-type {\n",
       "        vertical-align: middle;\n",
       "    }\n",
       "\n",
       "    .dataframe tbody tr th {\n",
       "        vertical-align: top;\n",
       "    }\n",
       "\n",
       "    .dataframe thead th {\n",
       "        text-align: right;\n",
       "    }\n",
       "</style>\n",
       "<table border=\"1\" class=\"dataframe\">\n",
       "  <thead>\n",
       "    <tr style=\"text-align: right;\">\n",
       "      <th></th>\n",
       "      <th>species_versicolor</th>\n",
       "      <th>species_virginica</th>\n",
       "    </tr>\n",
       "  </thead>\n",
       "  <tbody>\n",
       "    <tr>\n",
       "      <th>0</th>\n",
       "      <td>0</td>\n",
       "      <td>0</td>\n",
       "    </tr>\n",
       "    <tr>\n",
       "      <th>1</th>\n",
       "      <td>0</td>\n",
       "      <td>0</td>\n",
       "    </tr>\n",
       "  </tbody>\n",
       "</table>\n",
       "</div>"
      ],
      "text/plain": [
       "   species_versicolor  species_virginica\n",
       "0                   0                  0\n",
       "1                   0                  0"
      ]
     },
     "execution_count": 48,
     "metadata": {},
     "output_type": "execute_result"
    }
   ],
   "source": [
    "d_idf.head(2)"
   ]
  },
  {
   "cell_type": "code",
   "execution_count": 49,
   "id": "b211b5fc",
   "metadata": {},
   "outputs": [],
   "source": [
    "idf = pd.concat([idf,d_idf],axis=1)"
   ]
  },
  {
   "cell_type": "markdown",
   "id": "7850691d",
   "metadata": {},
   "source": [
    "#### Drop into a function"
   ]
  },
  {
   "cell_type": "code",
   "execution_count": 50,
   "id": "5b1fe380",
   "metadata": {},
   "outputs": [],
   "source": [
    "def prep_iris(idf):\n",
    "    #drop id columns:\n",
    "    idf.drop(inplace=True,columns=['species_id','measurement_id'])\n",
    "    #rename species column:\n",
    "    idf.rename(columns={\"species_name\":\"species\"},inplace=True)\n",
    "    #encode species:\n",
    "    d_idf = pd.get_dummies(idf[['species']],drop_first=True)\n",
    "    #concat to dataframe\n",
    "    idf = pd.concat([idf,d_idf],axis=1)\n",
    "    return idf"
   ]
  },
  {
   "cell_type": "markdown",
   "id": "d280df42",
   "metadata": {},
   "source": [
    "#### Test function"
   ]
  },
  {
   "cell_type": "code",
   "execution_count": 51,
   "id": "f6eccf1a",
   "metadata": {},
   "outputs": [
    {
     "data": {
      "text/html": [
       "<div>\n",
       "<style scoped>\n",
       "    .dataframe tbody tr th:only-of-type {\n",
       "        vertical-align: middle;\n",
       "    }\n",
       "\n",
       "    .dataframe tbody tr th {\n",
       "        vertical-align: top;\n",
       "    }\n",
       "\n",
       "    .dataframe thead th {\n",
       "        text-align: right;\n",
       "    }\n",
       "</style>\n",
       "<table border=\"1\" class=\"dataframe\">\n",
       "  <thead>\n",
       "    <tr style=\"text-align: right;\">\n",
       "      <th></th>\n",
       "      <th>species_id</th>\n",
       "      <th>measurement_id</th>\n",
       "      <th>sepal_length</th>\n",
       "      <th>sepal_width</th>\n",
       "      <th>petal_length</th>\n",
       "      <th>petal_width</th>\n",
       "      <th>species_name</th>\n",
       "    </tr>\n",
       "  </thead>\n",
       "  <tbody>\n",
       "    <tr>\n",
       "      <th>0</th>\n",
       "      <td>1</td>\n",
       "      <td>1</td>\n",
       "      <td>5.1</td>\n",
       "      <td>3.5</td>\n",
       "      <td>1.4</td>\n",
       "      <td>0.2</td>\n",
       "      <td>setosa</td>\n",
       "    </tr>\n",
       "    <tr>\n",
       "      <th>1</th>\n",
       "      <td>1</td>\n",
       "      <td>2</td>\n",
       "      <td>4.9</td>\n",
       "      <td>3.0</td>\n",
       "      <td>1.4</td>\n",
       "      <td>0.2</td>\n",
       "      <td>setosa</td>\n",
       "    </tr>\n",
       "  </tbody>\n",
       "</table>\n",
       "</div>"
      ],
      "text/plain": [
       "   species_id  measurement_id  sepal_length  sepal_width  petal_length  \\\n",
       "0           1               1           5.1          3.5           1.4   \n",
       "1           1               2           4.9          3.0           1.4   \n",
       "\n",
       "   petal_width species_name  \n",
       "0          0.2       setosa  \n",
       "1          0.2       setosa  "
      ]
     },
     "execution_count": 51,
     "metadata": {},
     "output_type": "execute_result"
    }
   ],
   "source": [
    "idf = acq.getData('iris')\n",
    "idf.head(2)"
   ]
  },
  {
   "cell_type": "code",
   "execution_count": 52,
   "id": "abfc3e94",
   "metadata": {},
   "outputs": [
    {
     "data": {
      "text/html": [
       "<div>\n",
       "<style scoped>\n",
       "    .dataframe tbody tr th:only-of-type {\n",
       "        vertical-align: middle;\n",
       "    }\n",
       "\n",
       "    .dataframe tbody tr th {\n",
       "        vertical-align: top;\n",
       "    }\n",
       "\n",
       "    .dataframe thead th {\n",
       "        text-align: right;\n",
       "    }\n",
       "</style>\n",
       "<table border=\"1\" class=\"dataframe\">\n",
       "  <thead>\n",
       "    <tr style=\"text-align: right;\">\n",
       "      <th></th>\n",
       "      <th>sepal_length</th>\n",
       "      <th>sepal_width</th>\n",
       "      <th>petal_length</th>\n",
       "      <th>petal_width</th>\n",
       "      <th>species</th>\n",
       "      <th>species_versicolor</th>\n",
       "      <th>species_virginica</th>\n",
       "    </tr>\n",
       "  </thead>\n",
       "  <tbody>\n",
       "    <tr>\n",
       "      <th>0</th>\n",
       "      <td>5.1</td>\n",
       "      <td>3.5</td>\n",
       "      <td>1.4</td>\n",
       "      <td>0.2</td>\n",
       "      <td>setosa</td>\n",
       "      <td>0</td>\n",
       "      <td>0</td>\n",
       "    </tr>\n",
       "    <tr>\n",
       "      <th>1</th>\n",
       "      <td>4.9</td>\n",
       "      <td>3.0</td>\n",
       "      <td>1.4</td>\n",
       "      <td>0.2</td>\n",
       "      <td>setosa</td>\n",
       "      <td>0</td>\n",
       "      <td>0</td>\n",
       "    </tr>\n",
       "  </tbody>\n",
       "</table>\n",
       "</div>"
      ],
      "text/plain": [
       "   sepal_length  sepal_width  petal_length  petal_width species  \\\n",
       "0           5.1          3.5           1.4          0.2  setosa   \n",
       "1           4.9          3.0           1.4          0.2  setosa   \n",
       "\n",
       "   species_versicolor  species_virginica  \n",
       "0                   0                  0  \n",
       "1                   0                  0  "
      ]
     },
     "execution_count": 52,
     "metadata": {},
     "output_type": "execute_result"
    }
   ],
   "source": [
    "idf = prep_iris(idf)\n",
    "idf.head(2)"
   ]
  },
  {
   "cell_type": "markdown",
   "id": "e51d9d0a",
   "metadata": {},
   "source": [
    "### Telco Dataset"
   ]
  },
  {
   "cell_type": "code",
   "execution_count": 53,
   "id": "debdfc23",
   "metadata": {},
   "outputs": [
    {
     "data": {
      "text/html": [
       "<div>\n",
       "<style scoped>\n",
       "    .dataframe tbody tr th:only-of-type {\n",
       "        vertical-align: middle;\n",
       "    }\n",
       "\n",
       "    .dataframe tbody tr th {\n",
       "        vertical-align: top;\n",
       "    }\n",
       "\n",
       "    .dataframe thead th {\n",
       "        text-align: right;\n",
       "    }\n",
       "</style>\n",
       "<table border=\"1\" class=\"dataframe\">\n",
       "  <thead>\n",
       "    <tr style=\"text-align: right;\">\n",
       "      <th></th>\n",
       "      <th>customer_id</th>\n",
       "      <th>payment_type_id</th>\n",
       "      <th>contract_type_id</th>\n",
       "      <th>internet_service_type_id</th>\n",
       "      <th>gender</th>\n",
       "      <th>senior_citizen</th>\n",
       "      <th>partner</th>\n",
       "      <th>dependents</th>\n",
       "      <th>tenure</th>\n",
       "      <th>phone_service</th>\n",
       "      <th>...</th>\n",
       "      <th>streaming_tv</th>\n",
       "      <th>streaming_movies</th>\n",
       "      <th>paperless_billing</th>\n",
       "      <th>monthly_charges</th>\n",
       "      <th>total_charges</th>\n",
       "      <th>churn</th>\n",
       "      <th>internet_service_type</th>\n",
       "      <th>contract_type</th>\n",
       "      <th>payment_type</th>\n",
       "      <th>signup_date</th>\n",
       "    </tr>\n",
       "  </thead>\n",
       "  <tbody>\n",
       "    <tr>\n",
       "      <th>0</th>\n",
       "      <td>0002-ORFBO</td>\n",
       "      <td>2</td>\n",
       "      <td>2</td>\n",
       "      <td>1</td>\n",
       "      <td>Female</td>\n",
       "      <td>0</td>\n",
       "      <td>Yes</td>\n",
       "      <td>Yes</td>\n",
       "      <td>9</td>\n",
       "      <td>Yes</td>\n",
       "      <td>...</td>\n",
       "      <td>Yes</td>\n",
       "      <td>No</td>\n",
       "      <td>Yes</td>\n",
       "      <td>65.6</td>\n",
       "      <td>593.3</td>\n",
       "      <td>No</td>\n",
       "      <td>DSL</td>\n",
       "      <td>One year</td>\n",
       "      <td>Mailed check</td>\n",
       "      <td>2021-04-21 18:07:34</td>\n",
       "    </tr>\n",
       "    <tr>\n",
       "      <th>1</th>\n",
       "      <td>0003-MKNFE</td>\n",
       "      <td>2</td>\n",
       "      <td>1</td>\n",
       "      <td>1</td>\n",
       "      <td>Male</td>\n",
       "      <td>0</td>\n",
       "      <td>No</td>\n",
       "      <td>No</td>\n",
       "      <td>9</td>\n",
       "      <td>Yes</td>\n",
       "      <td>...</td>\n",
       "      <td>No</td>\n",
       "      <td>Yes</td>\n",
       "      <td>No</td>\n",
       "      <td>59.9</td>\n",
       "      <td>542.4</td>\n",
       "      <td>No</td>\n",
       "      <td>DSL</td>\n",
       "      <td>Month-to-month</td>\n",
       "      <td>Mailed check</td>\n",
       "      <td>2021-04-21 18:07:34</td>\n",
       "    </tr>\n",
       "  </tbody>\n",
       "</table>\n",
       "<p>2 rows × 25 columns</p>\n",
       "</div>"
      ],
      "text/plain": [
       "  customer_id  payment_type_id  contract_type_id  internet_service_type_id  \\\n",
       "0  0002-ORFBO                2                 2                         1   \n",
       "1  0003-MKNFE                2                 1                         1   \n",
       "\n",
       "   gender  senior_citizen partner dependents  tenure phone_service  ...  \\\n",
       "0  Female               0     Yes        Yes       9           Yes  ...   \n",
       "1    Male               0      No         No       9           Yes  ...   \n",
       "\n",
       "  streaming_tv streaming_movies paperless_billing monthly_charges  \\\n",
       "0          Yes               No               Yes            65.6   \n",
       "1           No              Yes                No            59.9   \n",
       "\n",
       "  total_charges churn internet_service_type   contract_type  payment_type  \\\n",
       "0         593.3    No                   DSL        One year  Mailed check   \n",
       "1         542.4    No                   DSL  Month-to-month  Mailed check   \n",
       "\n",
       "           signup_date  \n",
       "0  2021-04-21 18:07:34  \n",
       "1  2021-04-21 18:07:34  \n",
       "\n",
       "[2 rows x 25 columns]"
      ]
     },
     "execution_count": 53,
     "metadata": {},
     "output_type": "execute_result"
    }
   ],
   "source": [
    "df = acq.getData('telco')\n",
    "df.head(2)"
   ]
  },
  {
   "cell_type": "code",
   "execution_count": 54,
   "id": "83dcf1ad",
   "metadata": {},
   "outputs": [
    {
     "name": "stdout",
     "output_type": "stream",
     "text": [
      "<class 'pandas.core.frame.DataFrame'>\n",
      "Int64Index: 7043 entries, 0 to 7042\n",
      "Data columns (total 25 columns):\n",
      " #   Column                    Non-Null Count  Dtype  \n",
      "---  ------                    --------------  -----  \n",
      " 0   customer_id               7043 non-null   object \n",
      " 1   payment_type_id           7043 non-null   int64  \n",
      " 2   contract_type_id          7043 non-null   int64  \n",
      " 3   internet_service_type_id  7043 non-null   int64  \n",
      " 4   gender                    7043 non-null   object \n",
      " 5   senior_citizen            7043 non-null   int64  \n",
      " 6   partner                   7043 non-null   object \n",
      " 7   dependents                7043 non-null   object \n",
      " 8   tenure                    7043 non-null   int64  \n",
      " 9   phone_service             7043 non-null   object \n",
      " 10  multiple_lines            7043 non-null   object \n",
      " 11  online_security           7043 non-null   object \n",
      " 12  online_backup             7043 non-null   object \n",
      " 13  device_protection         7043 non-null   object \n",
      " 14  tech_support              7043 non-null   object \n",
      " 15  streaming_tv              7043 non-null   object \n",
      " 16  streaming_movies          7043 non-null   object \n",
      " 17  paperless_billing         7043 non-null   object \n",
      " 18  monthly_charges           7043 non-null   float64\n",
      " 19  total_charges             7043 non-null   object \n",
      " 20  churn                     7043 non-null   object \n",
      " 21  internet_service_type     7043 non-null   object \n",
      " 22  contract_type             7043 non-null   object \n",
      " 23  payment_type              7043 non-null   object \n",
      " 24  signup_date               7043 non-null   object \n",
      "dtypes: float64(1), int64(5), object(19)\n",
      "memory usage: 1.4+ MB\n"
     ]
    }
   ],
   "source": [
    "df.info() #no nulls"
   ]
  },
  {
   "cell_type": "code",
   "execution_count": 55,
   "id": "517672d4",
   "metadata": {},
   "outputs": [
    {
     "data": {
      "text/html": [
       "<div>\n",
       "<style scoped>\n",
       "    .dataframe tbody tr th:only-of-type {\n",
       "        vertical-align: middle;\n",
       "    }\n",
       "\n",
       "    .dataframe tbody tr th {\n",
       "        vertical-align: top;\n",
       "    }\n",
       "\n",
       "    .dataframe thead th {\n",
       "        text-align: right;\n",
       "    }\n",
       "</style>\n",
       "<table border=\"1\" class=\"dataframe\">\n",
       "  <thead>\n",
       "    <tr style=\"text-align: right;\">\n",
       "      <th></th>\n",
       "      <th>payment_type_id</th>\n",
       "      <th>contract_type_id</th>\n",
       "      <th>internet_service_type_id</th>\n",
       "      <th>senior_citizen</th>\n",
       "      <th>tenure</th>\n",
       "      <th>monthly_charges</th>\n",
       "    </tr>\n",
       "  </thead>\n",
       "  <tbody>\n",
       "    <tr>\n",
       "      <th>count</th>\n",
       "      <td>7043.000000</td>\n",
       "      <td>7043.000000</td>\n",
       "      <td>7043.000000</td>\n",
       "      <td>7043.000000</td>\n",
       "      <td>7043.000000</td>\n",
       "      <td>7043.000000</td>\n",
       "    </tr>\n",
       "    <tr>\n",
       "      <th>mean</th>\n",
       "      <td>2.315633</td>\n",
       "      <td>1.690473</td>\n",
       "      <td>1.872923</td>\n",
       "      <td>0.162147</td>\n",
       "      <td>32.371149</td>\n",
       "      <td>64.761692</td>\n",
       "    </tr>\n",
       "    <tr>\n",
       "      <th>std</th>\n",
       "      <td>1.148907</td>\n",
       "      <td>0.833755</td>\n",
       "      <td>0.737796</td>\n",
       "      <td>0.368612</td>\n",
       "      <td>24.559481</td>\n",
       "      <td>30.090047</td>\n",
       "    </tr>\n",
       "    <tr>\n",
       "      <th>min</th>\n",
       "      <td>1.000000</td>\n",
       "      <td>1.000000</td>\n",
       "      <td>1.000000</td>\n",
       "      <td>0.000000</td>\n",
       "      <td>0.000000</td>\n",
       "      <td>18.250000</td>\n",
       "    </tr>\n",
       "    <tr>\n",
       "      <th>25%</th>\n",
       "      <td>1.000000</td>\n",
       "      <td>1.000000</td>\n",
       "      <td>1.000000</td>\n",
       "      <td>0.000000</td>\n",
       "      <td>9.000000</td>\n",
       "      <td>35.500000</td>\n",
       "    </tr>\n",
       "    <tr>\n",
       "      <th>50%</th>\n",
       "      <td>2.000000</td>\n",
       "      <td>1.000000</td>\n",
       "      <td>2.000000</td>\n",
       "      <td>0.000000</td>\n",
       "      <td>29.000000</td>\n",
       "      <td>70.350000</td>\n",
       "    </tr>\n",
       "    <tr>\n",
       "      <th>75%</th>\n",
       "      <td>3.000000</td>\n",
       "      <td>2.000000</td>\n",
       "      <td>2.000000</td>\n",
       "      <td>0.000000</td>\n",
       "      <td>55.000000</td>\n",
       "      <td>89.850000</td>\n",
       "    </tr>\n",
       "    <tr>\n",
       "      <th>max</th>\n",
       "      <td>4.000000</td>\n",
       "      <td>3.000000</td>\n",
       "      <td>3.000000</td>\n",
       "      <td>1.000000</td>\n",
       "      <td>72.000000</td>\n",
       "      <td>118.750000</td>\n",
       "    </tr>\n",
       "  </tbody>\n",
       "</table>\n",
       "</div>"
      ],
      "text/plain": [
       "       payment_type_id  contract_type_id  internet_service_type_id  \\\n",
       "count      7043.000000       7043.000000               7043.000000   \n",
       "mean          2.315633          1.690473                  1.872923   \n",
       "std           1.148907          0.833755                  0.737796   \n",
       "min           1.000000          1.000000                  1.000000   \n",
       "25%           1.000000          1.000000                  1.000000   \n",
       "50%           2.000000          1.000000                  2.000000   \n",
       "75%           3.000000          2.000000                  2.000000   \n",
       "max           4.000000          3.000000                  3.000000   \n",
       "\n",
       "       senior_citizen       tenure  monthly_charges  \n",
       "count     7043.000000  7043.000000      7043.000000  \n",
       "mean         0.162147    32.371149        64.761692  \n",
       "std          0.368612    24.559481        30.090047  \n",
       "min          0.000000     0.000000        18.250000  \n",
       "25%          0.000000     9.000000        35.500000  \n",
       "50%          0.000000    29.000000        70.350000  \n",
       "75%          0.000000    55.000000        89.850000  \n",
       "max          1.000000    72.000000       118.750000  "
      ]
     },
     "execution_count": 55,
     "metadata": {},
     "output_type": "execute_result"
    }
   ],
   "source": [
    "df.describe()"
   ]
  },
  {
   "cell_type": "code",
   "execution_count": 56,
   "id": "3e93edbf",
   "metadata": {},
   "outputs": [
    {
     "data": {
      "text/html": [
       "<div>\n",
       "<style scoped>\n",
       "    .dataframe tbody tr th:only-of-type {\n",
       "        vertical-align: middle;\n",
       "    }\n",
       "\n",
       "    .dataframe tbody tr th {\n",
       "        vertical-align: top;\n",
       "    }\n",
       "\n",
       "    .dataframe thead th {\n",
       "        text-align: right;\n",
       "    }\n",
       "</style>\n",
       "<table border=\"1\" class=\"dataframe\">\n",
       "  <thead>\n",
       "    <tr style=\"text-align: right;\">\n",
       "      <th>payment_type</th>\n",
       "      <th>Bank transfer (automatic)</th>\n",
       "      <th>Credit card (automatic)</th>\n",
       "      <th>Electronic check</th>\n",
       "      <th>Mailed check</th>\n",
       "    </tr>\n",
       "    <tr>\n",
       "      <th>payment_type_id</th>\n",
       "      <th></th>\n",
       "      <th></th>\n",
       "      <th></th>\n",
       "      <th></th>\n",
       "    </tr>\n",
       "  </thead>\n",
       "  <tbody>\n",
       "    <tr>\n",
       "      <th>1</th>\n",
       "      <td>0</td>\n",
       "      <td>0</td>\n",
       "      <td>2365</td>\n",
       "      <td>0</td>\n",
       "    </tr>\n",
       "    <tr>\n",
       "      <th>2</th>\n",
       "      <td>0</td>\n",
       "      <td>0</td>\n",
       "      <td>0</td>\n",
       "      <td>1612</td>\n",
       "    </tr>\n",
       "    <tr>\n",
       "      <th>3</th>\n",
       "      <td>1544</td>\n",
       "      <td>0</td>\n",
       "      <td>0</td>\n",
       "      <td>0</td>\n",
       "    </tr>\n",
       "    <tr>\n",
       "      <th>4</th>\n",
       "      <td>0</td>\n",
       "      <td>1522</td>\n",
       "      <td>0</td>\n",
       "      <td>0</td>\n",
       "    </tr>\n",
       "  </tbody>\n",
       "</table>\n",
       "</div>"
      ],
      "text/plain": [
       "payment_type     Bank transfer (automatic)  Credit card (automatic)  \\\n",
       "payment_type_id                                                       \n",
       "1                                        0                        0   \n",
       "2                                        0                        0   \n",
       "3                                     1544                        0   \n",
       "4                                        0                     1522   \n",
       "\n",
       "payment_type     Electronic check  Mailed check  \n",
       "payment_type_id                                  \n",
       "1                            2365             0  \n",
       "2                               0          1612  \n",
       "3                               0             0  \n",
       "4                               0             0  "
      ]
     },
     "execution_count": 56,
     "metadata": {},
     "output_type": "execute_result"
    }
   ],
   "source": [
    "pd.crosstab(df.payment_type_id,df.payment_type) #can drop type ID"
   ]
  },
  {
   "cell_type": "code",
   "execution_count": 57,
   "id": "1b17dab4",
   "metadata": {},
   "outputs": [
    {
     "data": {
      "text/html": [
       "<div>\n",
       "<style scoped>\n",
       "    .dataframe tbody tr th:only-of-type {\n",
       "        vertical-align: middle;\n",
       "    }\n",
       "\n",
       "    .dataframe tbody tr th {\n",
       "        vertical-align: top;\n",
       "    }\n",
       "\n",
       "    .dataframe thead th {\n",
       "        text-align: right;\n",
       "    }\n",
       "</style>\n",
       "<table border=\"1\" class=\"dataframe\">\n",
       "  <thead>\n",
       "    <tr style=\"text-align: right;\">\n",
       "      <th>internet_service_type</th>\n",
       "      <th>DSL</th>\n",
       "      <th>Fiber optic</th>\n",
       "      <th>None</th>\n",
       "    </tr>\n",
       "    <tr>\n",
       "      <th>internet_service_type_id</th>\n",
       "      <th></th>\n",
       "      <th></th>\n",
       "      <th></th>\n",
       "    </tr>\n",
       "  </thead>\n",
       "  <tbody>\n",
       "    <tr>\n",
       "      <th>1</th>\n",
       "      <td>2421</td>\n",
       "      <td>0</td>\n",
       "      <td>0</td>\n",
       "    </tr>\n",
       "    <tr>\n",
       "      <th>2</th>\n",
       "      <td>0</td>\n",
       "      <td>3096</td>\n",
       "      <td>0</td>\n",
       "    </tr>\n",
       "    <tr>\n",
       "      <th>3</th>\n",
       "      <td>0</td>\n",
       "      <td>0</td>\n",
       "      <td>1526</td>\n",
       "    </tr>\n",
       "  </tbody>\n",
       "</table>\n",
       "</div>"
      ],
      "text/plain": [
       "internet_service_type      DSL  Fiber optic  None\n",
       "internet_service_type_id                         \n",
       "1                         2421            0     0\n",
       "2                            0         3096     0\n",
       "3                            0            0  1526"
      ]
     },
     "execution_count": 57,
     "metadata": {},
     "output_type": "execute_result"
    }
   ],
   "source": [
    "pd.crosstab(df.internet_service_type_id,df.internet_service_type) #can drop int ser type id"
   ]
  },
  {
   "cell_type": "code",
   "execution_count": 58,
   "id": "28dd1845",
   "metadata": {},
   "outputs": [
    {
     "data": {
      "text/html": [
       "<div>\n",
       "<style scoped>\n",
       "    .dataframe tbody tr th:only-of-type {\n",
       "        vertical-align: middle;\n",
       "    }\n",
       "\n",
       "    .dataframe tbody tr th {\n",
       "        vertical-align: top;\n",
       "    }\n",
       "\n",
       "    .dataframe thead th {\n",
       "        text-align: right;\n",
       "    }\n",
       "</style>\n",
       "<table border=\"1\" class=\"dataframe\">\n",
       "  <thead>\n",
       "    <tr style=\"text-align: right;\">\n",
       "      <th>contract_type</th>\n",
       "      <th>Month-to-month</th>\n",
       "      <th>One year</th>\n",
       "      <th>Two year</th>\n",
       "    </tr>\n",
       "    <tr>\n",
       "      <th>contract_type_id</th>\n",
       "      <th></th>\n",
       "      <th></th>\n",
       "      <th></th>\n",
       "    </tr>\n",
       "  </thead>\n",
       "  <tbody>\n",
       "    <tr>\n",
       "      <th>1</th>\n",
       "      <td>3875</td>\n",
       "      <td>0</td>\n",
       "      <td>0</td>\n",
       "    </tr>\n",
       "    <tr>\n",
       "      <th>2</th>\n",
       "      <td>0</td>\n",
       "      <td>1473</td>\n",
       "      <td>0</td>\n",
       "    </tr>\n",
       "    <tr>\n",
       "      <th>3</th>\n",
       "      <td>0</td>\n",
       "      <td>0</td>\n",
       "      <td>1695</td>\n",
       "    </tr>\n",
       "  </tbody>\n",
       "</table>\n",
       "</div>"
      ],
      "text/plain": [
       "contract_type     Month-to-month  One year  Two year\n",
       "contract_type_id                                    \n",
       "1                           3875         0         0\n",
       "2                              0      1473         0\n",
       "3                              0         0      1695"
      ]
     },
     "execution_count": 58,
     "metadata": {},
     "output_type": "execute_result"
    }
   ],
   "source": [
    "pd.crosstab(df.contract_type_id, df.contract_type) #drop contract type id"
   ]
  },
  {
   "cell_type": "code",
   "execution_count": 59,
   "id": "82ff33fd",
   "metadata": {},
   "outputs": [
    {
     "data": {
      "text/plain": [
       "0       0002-ORFBO\n",
       "1       0003-MKNFE\n",
       "2       0004-TLHLJ\n",
       "3       0011-IGKFF\n",
       "4       0013-EXCHZ\n",
       "           ...    \n",
       "7038    9987-LUTYD\n",
       "7039    9992-RRAMN\n",
       "7040    9992-UJOEL\n",
       "7041    9993-LHIEB\n",
       "7042    9995-HOTOH\n",
       "Name: customer_id, Length: 7043, dtype: object"
      ]
     },
     "execution_count": 59,
     "metadata": {},
     "output_type": "execute_result"
    }
   ],
   "source": [
    "df.customer_id #primary key, can drop"
   ]
  },
  {
   "cell_type": "code",
   "execution_count": 60,
   "id": "37ee5e56",
   "metadata": {},
   "outputs": [
    {
     "data": {
      "text/html": [
       "<div>\n",
       "<style scoped>\n",
       "    .dataframe tbody tr th:only-of-type {\n",
       "        vertical-align: middle;\n",
       "    }\n",
       "\n",
       "    .dataframe tbody tr th {\n",
       "        vertical-align: top;\n",
       "    }\n",
       "\n",
       "    .dataframe thead th {\n",
       "        text-align: right;\n",
       "    }\n",
       "</style>\n",
       "<table border=\"1\" class=\"dataframe\">\n",
       "  <thead>\n",
       "    <tr style=\"text-align: right;\">\n",
       "      <th></th>\n",
       "      <th>phone_service</th>\n",
       "      <th>multiple_lines</th>\n",
       "      <th>online_security</th>\n",
       "      <th>online_backup</th>\n",
       "      <th>device_protection</th>\n",
       "      <th>tech_support</th>\n",
       "      <th>streaming_tv</th>\n",
       "      <th>streaming_movies</th>\n",
       "      <th>paperless_billing</th>\n",
       "    </tr>\n",
       "  </thead>\n",
       "  <tbody>\n",
       "    <tr>\n",
       "      <th>0</th>\n",
       "      <td>Yes</td>\n",
       "      <td>No</td>\n",
       "      <td>No</td>\n",
       "      <td>Yes</td>\n",
       "      <td>No</td>\n",
       "      <td>Yes</td>\n",
       "      <td>Yes</td>\n",
       "      <td>No</td>\n",
       "      <td>Yes</td>\n",
       "    </tr>\n",
       "    <tr>\n",
       "      <th>1</th>\n",
       "      <td>Yes</td>\n",
       "      <td>Yes</td>\n",
       "      <td>No</td>\n",
       "      <td>No</td>\n",
       "      <td>No</td>\n",
       "      <td>No</td>\n",
       "      <td>No</td>\n",
       "      <td>Yes</td>\n",
       "      <td>No</td>\n",
       "    </tr>\n",
       "    <tr>\n",
       "      <th>2</th>\n",
       "      <td>Yes</td>\n",
       "      <td>No</td>\n",
       "      <td>No</td>\n",
       "      <td>No</td>\n",
       "      <td>Yes</td>\n",
       "      <td>No</td>\n",
       "      <td>No</td>\n",
       "      <td>No</td>\n",
       "      <td>Yes</td>\n",
       "    </tr>\n",
       "    <tr>\n",
       "      <th>3</th>\n",
       "      <td>Yes</td>\n",
       "      <td>No</td>\n",
       "      <td>No</td>\n",
       "      <td>Yes</td>\n",
       "      <td>Yes</td>\n",
       "      <td>No</td>\n",
       "      <td>Yes</td>\n",
       "      <td>Yes</td>\n",
       "      <td>Yes</td>\n",
       "    </tr>\n",
       "    <tr>\n",
       "      <th>4</th>\n",
       "      <td>Yes</td>\n",
       "      <td>No</td>\n",
       "      <td>No</td>\n",
       "      <td>No</td>\n",
       "      <td>No</td>\n",
       "      <td>Yes</td>\n",
       "      <td>Yes</td>\n",
       "      <td>No</td>\n",
       "      <td>Yes</td>\n",
       "    </tr>\n",
       "    <tr>\n",
       "      <th>...</th>\n",
       "      <td>...</td>\n",
       "      <td>...</td>\n",
       "      <td>...</td>\n",
       "      <td>...</td>\n",
       "      <td>...</td>\n",
       "      <td>...</td>\n",
       "      <td>...</td>\n",
       "      <td>...</td>\n",
       "      <td>...</td>\n",
       "    </tr>\n",
       "    <tr>\n",
       "      <th>7038</th>\n",
       "      <td>Yes</td>\n",
       "      <td>No</td>\n",
       "      <td>Yes</td>\n",
       "      <td>No</td>\n",
       "      <td>No</td>\n",
       "      <td>Yes</td>\n",
       "      <td>No</td>\n",
       "      <td>No</td>\n",
       "      <td>No</td>\n",
       "    </tr>\n",
       "    <tr>\n",
       "      <th>7039</th>\n",
       "      <td>Yes</td>\n",
       "      <td>Yes</td>\n",
       "      <td>No</td>\n",
       "      <td>No</td>\n",
       "      <td>No</td>\n",
       "      <td>No</td>\n",
       "      <td>No</td>\n",
       "      <td>Yes</td>\n",
       "      <td>Yes</td>\n",
       "    </tr>\n",
       "    <tr>\n",
       "      <th>7040</th>\n",
       "      <td>Yes</td>\n",
       "      <td>No</td>\n",
       "      <td>No</td>\n",
       "      <td>Yes</td>\n",
       "      <td>No</td>\n",
       "      <td>No</td>\n",
       "      <td>No</td>\n",
       "      <td>No</td>\n",
       "      <td>Yes</td>\n",
       "    </tr>\n",
       "    <tr>\n",
       "      <th>7041</th>\n",
       "      <td>Yes</td>\n",
       "      <td>No</td>\n",
       "      <td>Yes</td>\n",
       "      <td>No</td>\n",
       "      <td>Yes</td>\n",
       "      <td>Yes</td>\n",
       "      <td>No</td>\n",
       "      <td>Yes</td>\n",
       "      <td>No</td>\n",
       "    </tr>\n",
       "    <tr>\n",
       "      <th>7042</th>\n",
       "      <td>No</td>\n",
       "      <td>No phone service</td>\n",
       "      <td>Yes</td>\n",
       "      <td>Yes</td>\n",
       "      <td>Yes</td>\n",
       "      <td>No</td>\n",
       "      <td>Yes</td>\n",
       "      <td>Yes</td>\n",
       "      <td>No</td>\n",
       "    </tr>\n",
       "  </tbody>\n",
       "</table>\n",
       "<p>7043 rows × 9 columns</p>\n",
       "</div>"
      ],
      "text/plain": [
       "     phone_service    multiple_lines online_security online_backup  \\\n",
       "0              Yes                No              No           Yes   \n",
       "1              Yes               Yes              No            No   \n",
       "2              Yes                No              No            No   \n",
       "3              Yes                No              No           Yes   \n",
       "4              Yes                No              No            No   \n",
       "...            ...               ...             ...           ...   \n",
       "7038           Yes                No             Yes            No   \n",
       "7039           Yes               Yes              No            No   \n",
       "7040           Yes                No              No           Yes   \n",
       "7041           Yes                No             Yes            No   \n",
       "7042            No  No phone service             Yes           Yes   \n",
       "\n",
       "     device_protection tech_support streaming_tv streaming_movies  \\\n",
       "0                   No          Yes          Yes               No   \n",
       "1                   No           No           No              Yes   \n",
       "2                  Yes           No           No               No   \n",
       "3                  Yes           No          Yes              Yes   \n",
       "4                   No          Yes          Yes               No   \n",
       "...                ...          ...          ...              ...   \n",
       "7038                No          Yes           No               No   \n",
       "7039                No           No           No              Yes   \n",
       "7040                No           No           No               No   \n",
       "7041               Yes          Yes           No              Yes   \n",
       "7042               Yes           No          Yes              Yes   \n",
       "\n",
       "     paperless_billing  \n",
       "0                  Yes  \n",
       "1                   No  \n",
       "2                  Yes  \n",
       "3                  Yes  \n",
       "4                  Yes  \n",
       "...                ...  \n",
       "7038                No  \n",
       "7039               Yes  \n",
       "7040               Yes  \n",
       "7041                No  \n",
       "7042                No  \n",
       "\n",
       "[7043 rows x 9 columns]"
      ]
     },
     "execution_count": 60,
     "metadata": {},
     "output_type": "execute_result"
    }
   ],
   "source": [
    "df.iloc[:,9:18] #need to encode these, but also check for list of values"
   ]
  },
  {
   "cell_type": "code",
   "execution_count": 61,
   "id": "87505b88",
   "metadata": {
    "scrolled": true
   },
   "outputs": [
    {
     "name": "stdout",
     "output_type": "stream",
     "text": [
      "['Yes' 'No']\n",
      "['No' 'Yes' 'No phone service']\n",
      "['No' 'Yes' 'No internet service']\n",
      "['Yes' 'No' 'No internet service']\n",
      "['No' 'Yes' 'No internet service']\n",
      "['Yes' 'No' 'No internet service']\n",
      "['Yes' 'No' 'No internet service']\n",
      "['No' 'Yes' 'No internet service']\n",
      "['Yes' 'No']\n"
     ]
    }
   ],
   "source": [
    "for i in df.columns[9:18]:\n",
    "    print(df[i].unique())\n",
    "#no vs no * service is important, as it is saying the column doesn't apply.  \n",
    "#Map phone service and paperless billing, encode the rest"
   ]
  },
  {
   "cell_type": "code",
   "execution_count": 62,
   "id": "4f2fc45d",
   "metadata": {},
   "outputs": [
    {
     "data": {
      "text/plain": [
       "str"
      ]
     },
     "execution_count": 62,
     "metadata": {},
     "output_type": "execute_result"
    }
   ],
   "source": [
    "type(df.total_charges[0]) #convert total charges to float"
   ]
  },
  {
   "cell_type": "code",
   "execution_count": 63,
   "id": "a17f7296",
   "metadata": {},
   "outputs": [
    {
     "data": {
      "text/plain": [
       "2855          \n",
       "3118          \n",
       "3052          \n",
       "5433          \n",
       "1731          \n",
       "         ...  \n",
       "5868    997.75\n",
       "4298     998.1\n",
       "4173    999.45\n",
       "3162     999.8\n",
       "6421     999.9\n",
       "Name: total_charges, Length: 7043, dtype: object"
      ]
     },
     "execution_count": 63,
     "metadata": {},
     "output_type": "execute_result"
    }
   ],
   "source": [
    "df.total_charges.sort_values() #Looks like there are some nulls"
   ]
  },
  {
   "cell_type": "code",
   "execution_count": 64,
   "id": "84d909f7",
   "metadata": {},
   "outputs": [
    {
     "data": {
      "text/plain": [
       "2855           \n",
       "3118           \n",
       "3052           \n",
       "5433           \n",
       "1731           \n",
       "4054           \n",
       "2176           \n",
       "2250           \n",
       "945            \n",
       "1906           \n",
       "2025           \n",
       "4386      100.2\n",
       "2222     100.25\n",
       "1771     100.35\n",
       "5542      100.4\n",
       "5126      100.8\n",
       "3315      100.9\n",
       "5762     1001.2\n",
       "4983     1001.5\n",
       "4764    1003.05\n",
       "5844    1004.35\n",
       "6261     1004.5\n",
       "4907    1004.75\n",
       "421      1005.7\n",
       "2427     1006.9\n",
       "2919     1007.8\n",
       "5589     1007.9\n",
       "3627    1008.55\n",
       "3716     1008.7\n",
       "5270     1008.7\n",
       "Name: total_charges, dtype: object"
      ]
     },
     "execution_count": 64,
     "metadata": {},
     "output_type": "execute_result"
    }
   ],
   "source": [
    "df.total_charges.sort_values().head(30) #about 10-15"
   ]
  },
  {
   "cell_type": "code",
   "execution_count": 65,
   "id": "39c5ccc0",
   "metadata": {},
   "outputs": [],
   "source": [
    "df2 = df.total_charges.str.strip()"
   ]
  },
  {
   "cell_type": "code",
   "execution_count": 66,
   "id": "1fde03b2",
   "metadata": {},
   "outputs": [
    {
     "data": {
      "text/plain": [
       "945     \n",
       "1731    \n",
       "1906    \n",
       "2025    \n",
       "2176    \n",
       "2250    \n",
       "2855    \n",
       "3052    \n",
       "3118    \n",
       "4054    \n",
       "5433    \n",
       "Name: total_charges, dtype: object"
      ]
     },
     "execution_count": 66,
     "metadata": {},
     "output_type": "execute_result"
    }
   ],
   "source": [
    "df2[df2 == ''] #there are some \"nulls\"!"
   ]
  },
  {
   "cell_type": "code",
   "execution_count": 67,
   "id": "265889e2",
   "metadata": {},
   "outputs": [
    {
     "data": {
      "text/plain": [
       "Int64Index([945, 1731, 1906, 2025, 2176, 2250, 2855, 3052, 3118, 4054, 5433], dtype='int64')"
      ]
     },
     "execution_count": 67,
     "metadata": {},
     "output_type": "execute_result"
    }
   ],
   "source": [
    "df2[df2 == ''].index #how to grab index values for dropping"
   ]
  },
  {
   "cell_type": "code",
   "execution_count": 68,
   "id": "3aa5b732",
   "metadata": {},
   "outputs": [
    {
     "data": {
      "text/plain": [
       "(7043, 25)"
      ]
     },
     "execution_count": 68,
     "metadata": {},
     "output_type": "execute_result"
    }
   ],
   "source": [
    "df.shape"
   ]
  },
  {
   "cell_type": "code",
   "execution_count": 69,
   "id": "b38a3717",
   "metadata": {},
   "outputs": [
    {
     "data": {
      "text/plain": [
       "(7043, 25)"
      ]
     },
     "execution_count": 69,
     "metadata": {},
     "output_type": "execute_result"
    }
   ],
   "source": [
    "df.drop_duplicates().shape #no duplicates"
   ]
  },
  {
   "cell_type": "code",
   "execution_count": 70,
   "id": "f50a173d",
   "metadata": {},
   "outputs": [
    {
     "data": {
      "text/plain": [
       "array(['No', 'Yes'], dtype=object)"
      ]
     },
     "execution_count": 70,
     "metadata": {},
     "output_type": "execute_result"
    }
   ],
   "source": [
    "df.churn.unique() #encode"
   ]
  },
  {
   "cell_type": "code",
   "execution_count": 71,
   "id": "65bf1b35",
   "metadata": {},
   "outputs": [
    {
     "data": {
      "text/plain": [
       "0       2021-04-21 18:07:34\n",
       "1       2021-04-21 18:07:34\n",
       "2       2021-09-21 18:07:34\n",
       "3       2020-12-21 18:07:34\n",
       "4       2021-10-21 18:07:34\n",
       "               ...         \n",
       "7038    2020-12-21 18:07:34\n",
       "7039    2020-03-21 18:07:34\n",
       "7040    2021-11-21 18:07:34\n",
       "7041    2016-06-21 18:07:34\n",
       "7042    2016-10-21 18:07:34\n",
       "Name: signup_date, Length: 7043, dtype: object"
      ]
     },
     "execution_count": 71,
     "metadata": {},
     "output_type": "execute_result"
    }
   ],
   "source": [
    "df.signup_date"
   ]
  },
  {
   "cell_type": "code",
   "execution_count": 72,
   "id": "78e39e77",
   "metadata": {},
   "outputs": [
    {
     "data": {
      "text/plain": [
       "0        9\n",
       "1        9\n",
       "2        4\n",
       "3       13\n",
       "4        3\n",
       "        ..\n",
       "7038    13\n",
       "7039    22\n",
       "7040     2\n",
       "7041    67\n",
       "7042    63\n",
       "Name: tenure, Length: 7043, dtype: int64"
      ]
     },
     "execution_count": 72,
     "metadata": {},
     "output_type": "execute_result"
    }
   ],
   "source": [
    "df.tenure #just keep this as opposed to signup_date"
   ]
  },
  {
   "cell_type": "markdown",
   "id": "df033c4d",
   "metadata": {},
   "source": [
    "#### Cleaning to do:\n",
    "- Total_Charges:\n",
    "  - Drop rows w/ nulls in total_charges (strip, check for '', grab index)\n",
    "  - Convert to float\n",
    "- To Drop:\n",
    "  - Payment type id, duplicate of payment type\n",
    "  - Internet service type id, duplicate of internet service type\n",
    "  - contract type id, duplicate of contract type\n",
    "  - Customer id, is a primery key, can drop\n",
    "  - signup_date, tenure is sufficient\n",
    "- To Encode/Map:\n",
    "  - Map yes/no:\n",
    "      - phone_service, paperless_billing, partner, dependents, churn, \n",
    "  - Encode:\n",
    "    - 'gender', 'multiple_lines', 'online_security', 'online_backup', 'device_protection', 'tech_support', 'streaming_tv', 'streaming_movies'\n",
    "  \n",
    "  \n",
    "  \n",
    "  "
   ]
  },
  {
   "cell_type": "code",
   "execution_count": 73,
   "id": "3996654c",
   "metadata": {},
   "outputs": [],
   "source": [
    "drp_ind = df[df.total_charges.str.strip() == ''].index"
   ]
  },
  {
   "cell_type": "code",
   "execution_count": 74,
   "id": "27c3194a",
   "metadata": {},
   "outputs": [
    {
     "data": {
      "text/plain": [
       "(7043, 25)"
      ]
     },
     "execution_count": 74,
     "metadata": {},
     "output_type": "execute_result"
    }
   ],
   "source": [
    "df.shape"
   ]
  },
  {
   "cell_type": "code",
   "execution_count": 75,
   "id": "d9810f36",
   "metadata": {},
   "outputs": [],
   "source": [
    "df.drop(index=drp_ind,inplace=True)"
   ]
  },
  {
   "cell_type": "code",
   "execution_count": 76,
   "id": "8118db4b",
   "metadata": {},
   "outputs": [
    {
     "data": {
      "text/plain": [
       "(7032, 25)"
      ]
     },
     "execution_count": 76,
     "metadata": {},
     "output_type": "execute_result"
    }
   ],
   "source": [
    "df.shape #dropped our 10-15 values"
   ]
  },
  {
   "cell_type": "code",
   "execution_count": 77,
   "id": "118b16ef",
   "metadata": {},
   "outputs": [
    {
     "data": {
      "text/plain": [
       "4386     100.2\n",
       "2222    100.25\n",
       "1771    100.35\n",
       "5542     100.4\n",
       "5126     100.8\n",
       "         ...  \n",
       "5868    997.75\n",
       "4298     998.1\n",
       "4173    999.45\n",
       "3162     999.8\n",
       "6421     999.9\n",
       "Name: total_charges, Length: 7032, dtype: object"
      ]
     },
     "execution_count": 77,
     "metadata": {},
     "output_type": "execute_result"
    }
   ],
   "source": [
    "df.total_charges.sort_values() #awesome, don't see those nulls"
   ]
  },
  {
   "cell_type": "code",
   "execution_count": 78,
   "id": "2aa89264",
   "metadata": {},
   "outputs": [],
   "source": [
    "df.total_charges = df.total_charges.astype(float)"
   ]
  },
  {
   "cell_type": "code",
   "execution_count": 79,
   "id": "10e62a8d",
   "metadata": {},
   "outputs": [
    {
     "data": {
      "text/plain": [
       "dtype('float64')"
      ]
     },
     "execution_count": 79,
     "metadata": {},
     "output_type": "execute_result"
    }
   ],
   "source": [
    "df.total_charges.dtype #Total charges is ready!"
   ]
  },
  {
   "cell_type": "code",
   "execution_count": 80,
   "id": "33badb2d",
   "metadata": {},
   "outputs": [],
   "source": [
    "#drop unnecessary columns\n",
    "drp_col = ['payment_type_id','internet_service_type_id','contract_type_id','customer_id','signup_date']"
   ]
  },
  {
   "cell_type": "code",
   "execution_count": 81,
   "id": "35d0a336",
   "metadata": {},
   "outputs": [],
   "source": [
    "df.drop(columns = drp_col,inplace=True)"
   ]
  },
  {
   "cell_type": "code",
   "execution_count": 82,
   "id": "8c0cc456",
   "metadata": {},
   "outputs": [
    {
     "data": {
      "text/plain": [
       "(7032, 20)"
      ]
     },
     "execution_count": 82,
     "metadata": {},
     "output_type": "execute_result"
    }
   ],
   "source": [
    "df.shape #5 less columns"
   ]
  },
  {
   "cell_type": "code",
   "execution_count": 83,
   "id": "32536a0f",
   "metadata": {},
   "outputs": [],
   "source": [
    "#map subset of variables that are yes/no\n",
    "#phone_service, paperless_billing, partner, dependents, churn\n",
    "df['has_phone'] = df.phone_service.map({'Yes': 1, 'No': 0})\n",
    "df['is_paperless'] = df.paperless_billing.map({'Yes': 1, 'No': 0})\n",
    "df['has_dependents'] = df.partner.map({'Yes': 1, 'No': 0})\n",
    "df['has_partner'] = df.dependents.map({'Yes': 1, 'No': 0})\n",
    "df['has_churned'] = df.churn.map({'Yes': 1, 'No': 0})"
   ]
  },
  {
   "cell_type": "code",
   "execution_count": 84,
   "id": "82642144",
   "metadata": {},
   "outputs": [
    {
     "data": {
      "text/plain": [
       "Index(['gender', 'senior_citizen', 'partner', 'dependents', 'tenure',\n",
       "       'phone_service', 'multiple_lines', 'online_security', 'online_backup',\n",
       "       'device_protection', 'tech_support', 'streaming_tv', 'streaming_movies',\n",
       "       'paperless_billing', 'monthly_charges', 'total_charges', 'churn',\n",
       "       'internet_service_type', 'contract_type', 'payment_type', 'has_phone',\n",
       "       'is_paperless', 'has_dependents', 'has_partner', 'has_churned'],\n",
       "      dtype='object')"
      ]
     },
     "execution_count": 84,
     "metadata": {},
     "output_type": "execute_result"
    }
   ],
   "source": [
    "df.columns"
   ]
  },
  {
   "cell_type": "code",
   "execution_count": 85,
   "id": "42823d82",
   "metadata": {},
   "outputs": [],
   "source": [
    "#encode the other categories\n",
    "enc_col = ['gender', 'multiple_lines', 'online_security', 'online_backup', 'device_protection', 'tech_support', 'streaming_tv', 'streaming_movies']"
   ]
  },
  {
   "cell_type": "code",
   "execution_count": 86,
   "id": "72dee07e",
   "metadata": {},
   "outputs": [],
   "source": [
    "d_df = pd.get_dummies(df[enc_col],drop_first=False)"
   ]
  },
  {
   "cell_type": "code",
   "execution_count": 87,
   "id": "405c832a",
   "metadata": {},
   "outputs": [],
   "source": [
    "df = pd.concat([df,d_df],axis=1)"
   ]
  },
  {
   "cell_type": "code",
   "execution_count": 88,
   "id": "baac5143",
   "metadata": {},
   "outputs": [
    {
     "data": {
      "text/plain": [
       "(7032, 48)"
      ]
     },
     "execution_count": 88,
     "metadata": {},
     "output_type": "execute_result"
    }
   ],
   "source": [
    "df.shape #lots of columns!"
   ]
  },
  {
   "cell_type": "code",
   "execution_count": 89,
   "id": "c752eb36",
   "metadata": {},
   "outputs": [
    {
     "data": {
      "text/plain": [
       "Index(['gender', 'senior_citizen', 'partner', 'dependents', 'tenure',\n",
       "       'phone_service', 'multiple_lines', 'online_security', 'online_backup',\n",
       "       'device_protection', 'tech_support', 'streaming_tv', 'streaming_movies',\n",
       "       'paperless_billing', 'monthly_charges', 'total_charges', 'churn',\n",
       "       'internet_service_type', 'contract_type', 'payment_type', 'has_phone',\n",
       "       'is_paperless', 'has_dependents', 'has_partner', 'has_churned',\n",
       "       'gender_Female', 'gender_Male', 'multiple_lines_No',\n",
       "       'multiple_lines_No phone service', 'multiple_lines_Yes',\n",
       "       'online_security_No', 'online_security_No internet service',\n",
       "       'online_security_Yes', 'online_backup_No',\n",
       "       'online_backup_No internet service', 'online_backup_Yes',\n",
       "       'device_protection_No', 'device_protection_No internet service',\n",
       "       'device_protection_Yes', 'tech_support_No',\n",
       "       'tech_support_No internet service', 'tech_support_Yes',\n",
       "       'streaming_tv_No', 'streaming_tv_No internet service',\n",
       "       'streaming_tv_Yes', 'streaming_movies_No',\n",
       "       'streaming_movies_No internet service', 'streaming_movies_Yes'],\n",
       "      dtype='object')"
      ]
     },
     "execution_count": 89,
     "metadata": {},
     "output_type": "execute_result"
    }
   ],
   "source": [
    "df.columns"
   ]
  },
  {
   "cell_type": "markdown",
   "id": "0bbe0aa0",
   "metadata": {},
   "source": [
    "#### Drop into a function!"
   ]
  },
  {
   "cell_type": "code",
   "execution_count": 90,
   "id": "b49383bb",
   "metadata": {},
   "outputs": [],
   "source": [
    "def prep_telco(df):\n",
    "    #HANDLE total_charge row:\n",
    "    #grab the indices with null values\n",
    "    drp_ind = df[df.total_charges.str.strip() == ''].index\n",
    "    #drop those indices\n",
    "    df.drop(index=drp_ind,inplace=True)\n",
    "    #Convert the column to float\n",
    "    df.total_charges = df.total_charges.astype(float)\n",
    "\n",
    "    #DROP other unnecessary columns\n",
    "    drp_col = ['payment_type_id','internet_service_type_id','contract_type_id','customer_id','signup_date']\n",
    "    df.drop(columns = drp_col,inplace=True)\n",
    "\n",
    "    #MAP subset of variables that are yes/no\n",
    "    #phone_service, paperless_billing, partner, dependents, churn\n",
    "    df['has_phone'] = df.phone_service.map({'Yes': 1, 'No': 0})\n",
    "    df['is_paperless'] = df.paperless_billing.map({'Yes': 1, 'No': 0})\n",
    "    df['has_dependents'] = df.partner.map({'Yes': 1, 'No': 0})\n",
    "    df['has_partner'] = df.dependents.map({'Yes': 1, 'No': 0})\n",
    "    df['has_churned'] = df.churn.map({'Yes': 1, 'No': 0})   \n",
    "\n",
    "    #ENCODE the other categorical columns\n",
    "    enc_col = ['gender', 'multiple_lines', 'online_security', 'online_backup', 'device_protection', 'tech_support', 'streaming_tv', 'streaming_movies']  \n",
    "    d_df = pd.get_dummies(df[enc_col],drop_first=False)\n",
    "    #concate to df\n",
    "    df = pd.concat([df,d_df],axis=1)\n",
    "\n",
    "    return df"
   ]
  },
  {
   "cell_type": "markdown",
   "id": "cf3f7d82",
   "metadata": {},
   "source": [
    "#### Test the function"
   ]
  },
  {
   "cell_type": "code",
   "execution_count": 91,
   "id": "90959c48",
   "metadata": {},
   "outputs": [
    {
     "name": "stdout",
     "output_type": "stream",
     "text": [
      "<class 'pandas.core.frame.DataFrame'>\n",
      "Int64Index: 7043 entries, 0 to 7042\n",
      "Data columns (total 25 columns):\n",
      " #   Column                    Non-Null Count  Dtype  \n",
      "---  ------                    --------------  -----  \n",
      " 0   customer_id               7043 non-null   object \n",
      " 1   payment_type_id           7043 non-null   int64  \n",
      " 2   contract_type_id          7043 non-null   int64  \n",
      " 3   internet_service_type_id  7043 non-null   int64  \n",
      " 4   gender                    7043 non-null   object \n",
      " 5   senior_citizen            7043 non-null   int64  \n",
      " 6   partner                   7043 non-null   object \n",
      " 7   dependents                7043 non-null   object \n",
      " 8   tenure                    7043 non-null   int64  \n",
      " 9   phone_service             7043 non-null   object \n",
      " 10  multiple_lines            7043 non-null   object \n",
      " 11  online_security           7043 non-null   object \n",
      " 12  online_backup             7043 non-null   object \n",
      " 13  device_protection         7043 non-null   object \n",
      " 14  tech_support              7043 non-null   object \n",
      " 15  streaming_tv              7043 non-null   object \n",
      " 16  streaming_movies          7043 non-null   object \n",
      " 17  paperless_billing         7043 non-null   object \n",
      " 18  monthly_charges           7043 non-null   float64\n",
      " 19  total_charges             7043 non-null   object \n",
      " 20  churn                     7043 non-null   object \n",
      " 21  internet_service_type     7043 non-null   object \n",
      " 22  contract_type             7043 non-null   object \n",
      " 23  payment_type              7043 non-null   object \n",
      " 24  signup_date               7043 non-null   object \n",
      "dtypes: float64(1), int64(5), object(19)\n",
      "memory usage: 1.4+ MB\n"
     ]
    }
   ],
   "source": [
    "df = acq.getData('telco')\n",
    "df.info()"
   ]
  },
  {
   "cell_type": "code",
   "execution_count": 92,
   "id": "8015dc1d",
   "metadata": {},
   "outputs": [
    {
     "name": "stdout",
     "output_type": "stream",
     "text": [
      "<class 'pandas.core.frame.DataFrame'>\n",
      "Int64Index: 7032 entries, 0 to 7042\n",
      "Data columns (total 48 columns):\n",
      " #   Column                                 Non-Null Count  Dtype  \n",
      "---  ------                                 --------------  -----  \n",
      " 0   gender                                 7032 non-null   object \n",
      " 1   senior_citizen                         7032 non-null   int64  \n",
      " 2   partner                                7032 non-null   object \n",
      " 3   dependents                             7032 non-null   object \n",
      " 4   tenure                                 7032 non-null   int64  \n",
      " 5   phone_service                          7032 non-null   object \n",
      " 6   multiple_lines                         7032 non-null   object \n",
      " 7   online_security                        7032 non-null   object \n",
      " 8   online_backup                          7032 non-null   object \n",
      " 9   device_protection                      7032 non-null   object \n",
      " 10  tech_support                           7032 non-null   object \n",
      " 11  streaming_tv                           7032 non-null   object \n",
      " 12  streaming_movies                       7032 non-null   object \n",
      " 13  paperless_billing                      7032 non-null   object \n",
      " 14  monthly_charges                        7032 non-null   float64\n",
      " 15  total_charges                          7032 non-null   float64\n",
      " 16  churn                                  7032 non-null   object \n",
      " 17  internet_service_type                  7032 non-null   object \n",
      " 18  contract_type                          7032 non-null   object \n",
      " 19  payment_type                           7032 non-null   object \n",
      " 20  has_phone                              7032 non-null   int64  \n",
      " 21  is_paperless                           7032 non-null   int64  \n",
      " 22  has_dependents                         7032 non-null   int64  \n",
      " 23  has_partner                            7032 non-null   int64  \n",
      " 24  has_churned                            7032 non-null   int64  \n",
      " 25  gender_Female                          7032 non-null   uint8  \n",
      " 26  gender_Male                            7032 non-null   uint8  \n",
      " 27  multiple_lines_No                      7032 non-null   uint8  \n",
      " 28  multiple_lines_No phone service        7032 non-null   uint8  \n",
      " 29  multiple_lines_Yes                     7032 non-null   uint8  \n",
      " 30  online_security_No                     7032 non-null   uint8  \n",
      " 31  online_security_No internet service    7032 non-null   uint8  \n",
      " 32  online_security_Yes                    7032 non-null   uint8  \n",
      " 33  online_backup_No                       7032 non-null   uint8  \n",
      " 34  online_backup_No internet service      7032 non-null   uint8  \n",
      " 35  online_backup_Yes                      7032 non-null   uint8  \n",
      " 36  device_protection_No                   7032 non-null   uint8  \n",
      " 37  device_protection_No internet service  7032 non-null   uint8  \n",
      " 38  device_protection_Yes                  7032 non-null   uint8  \n",
      " 39  tech_support_No                        7032 non-null   uint8  \n",
      " 40  tech_support_No internet service       7032 non-null   uint8  \n",
      " 41  tech_support_Yes                       7032 non-null   uint8  \n",
      " 42  streaming_tv_No                        7032 non-null   uint8  \n",
      " 43  streaming_tv_No internet service       7032 non-null   uint8  \n",
      " 44  streaming_tv_Yes                       7032 non-null   uint8  \n",
      " 45  streaming_movies_No                    7032 non-null   uint8  \n",
      " 46  streaming_movies_No internet service   7032 non-null   uint8  \n",
      " 47  streaming_movies_Yes                   7032 non-null   uint8  \n",
      "dtypes: float64(2), int64(7), object(16), uint8(23)\n",
      "memory usage: 1.5+ MB\n"
     ]
    }
   ],
   "source": [
    "df = prep_telco(df)\n",
    "df.info()"
   ]
  },
  {
   "cell_type": "markdown",
   "id": "a70a5b1f",
   "metadata": {},
   "source": [
    "#### Train, Test, and Split!\n",
    "- Train: 70\n",
    "- Test: 10\n",
    "- Validate: 20"
   ]
  },
  {
   "cell_type": "code",
   "execution_count": 93,
   "id": "c69dcd56",
   "metadata": {},
   "outputs": [],
   "source": [
    "#split test/train and validate - this order makes the ratios easier \n",
    "#define the target variable\n",
    "target = 'churn'\n",
    "#test and validation percentages of WHOLE dataset\n",
    "val_per = .2\n",
    "test_per = .1\n",
    "#Calculate percentage we need of test/train subset\n",
    "tt_per = test_per/(1-val_per)\n",
    "\n",
    "#returns train then test, so test_size is the second set it returns\n",
    "tt, validate = train_test_split(df, test_size=val_per,random_state=88,stratify=df[target])\n",
    "#now split tt in train and test want 70/10 so test_size = 1/8 or .125\n",
    "train, test = train_test_split(tt, test_size=tt_per, random_state=88,stratify=tt[target])"
   ]
  },
  {
   "cell_type": "code",
   "execution_count": 94,
   "id": "e2977774",
   "metadata": {},
   "outputs": [
    {
     "data": {
      "text/plain": [
       "(4921, 48)"
      ]
     },
     "execution_count": 94,
     "metadata": {},
     "output_type": "execute_result"
    }
   ],
   "source": [
    "train.shape"
   ]
  },
  {
   "cell_type": "code",
   "execution_count": 95,
   "id": "b8c6dd4b",
   "metadata": {},
   "outputs": [
    {
     "data": {
      "text/plain": [
       "(704, 48)"
      ]
     },
     "execution_count": 95,
     "metadata": {},
     "output_type": "execute_result"
    }
   ],
   "source": [
    "test.shape"
   ]
  },
  {
   "cell_type": "code",
   "execution_count": 96,
   "id": "288dd797",
   "metadata": {},
   "outputs": [
    {
     "data": {
      "text/plain": [
       "(1407, 48)"
      ]
     },
     "execution_count": 96,
     "metadata": {},
     "output_type": "execute_result"
    }
   ],
   "source": [
    "validate.shape"
   ]
  },
  {
   "cell_type": "markdown",
   "id": "b2cf42ea",
   "metadata": {},
   "source": [
    "#### Drop into a split function"
   ]
  },
  {
   "cell_type": "code",
   "execution_count": 97,
   "id": "53a29797",
   "metadata": {},
   "outputs": [],
   "source": [
    "def splitData(df,target,**kwargs):\n",
    "    ##ADD kwargs later that would allow you to specify a validation and test ratio\n",
    "    #test and validation percentages of WHOLE dataset - UPDATE to handle kwargs\n",
    "    val_per = .2\n",
    "    test_per = .1\n",
    "\n",
    "    #Calculate percentage we need of test/train subset\n",
    "    tt_per = test_per/(1-val_per)\n",
    "\n",
    "    #returns train, test \\thereforeabs so test_size is the second set it returns\n",
    "    tt, validate = train_test_split(df, test_size=val_per,random_state=88,stratify=df[target])\n",
    "    #now split tt in train and test want 70/10 so test_size = 1/8 or .125\n",
    "    train, test = train_test_split(tt, test_size=tt_per, random_state=88,stratify=tt[target])\n",
    "    \n",
    "    return train, test, validate"
   ]
  },
  {
   "cell_type": "markdown",
   "id": "1f224bb8",
   "metadata": {},
   "source": [
    "#### Test combined final prep function"
   ]
  },
  {
   "cell_type": "code",
   "execution_count": 98,
   "id": "2992fd30",
   "metadata": {},
   "outputs": [],
   "source": [
    "import prepare\n"
   ]
  },
  {
   "cell_type": "code",
   "execution_count": 99,
   "id": "4e414e5b",
   "metadata": {},
   "outputs": [],
   "source": [
    "df = acq.getData('telco')\n",
    "tr, te, val = prepare.prep_telco(df,val_ratio=.15)"
   ]
  },
  {
   "cell_type": "code",
   "execution_count": 100,
   "id": "8c7513d5",
   "metadata": {},
   "outputs": [
    {
     "data": {
      "text/plain": [
       "(5273, 47)"
      ]
     },
     "execution_count": 100,
     "metadata": {},
     "output_type": "execute_result"
    }
   ],
   "source": [
    "tr.shape"
   ]
  },
  {
   "cell_type": "code",
   "execution_count": 101,
   "id": "852dc3ed",
   "metadata": {},
   "outputs": [
    {
     "data": {
      "text/plain": [
       "(704, 47)"
      ]
     },
     "execution_count": 101,
     "metadata": {},
     "output_type": "execute_result"
    }
   ],
   "source": [
    "te.shape"
   ]
  },
  {
   "cell_type": "code",
   "execution_count": 102,
   "id": "26e65847",
   "metadata": {},
   "outputs": [
    {
     "data": {
      "text/plain": [
       "(1055, 47)"
      ]
     },
     "execution_count": 102,
     "metadata": {},
     "output_type": "execute_result"
    }
   ],
   "source": [
    "val.shape"
   ]
  },
  {
   "cell_type": "code",
   "execution_count": 103,
   "id": "ab2388cf",
   "metadata": {},
   "outputs": [],
   "source": [
    "####Add some Histograms and check outliers!####"
   ]
  },
  {
   "cell_type": "markdown",
   "id": "61b346a8",
   "metadata": {},
   "source": [
    "## Exploratory Data Analysis"
   ]
  },
  {
   "cell_type": "markdown",
   "id": "15cdaefc",
   "metadata": {},
   "source": [
    "### Part 1: Iris Dataset"
   ]
  },
  {
   "cell_type": "code",
   "execution_count": 104,
   "id": "49328862",
   "metadata": {},
   "outputs": [
    {
     "data": {
      "text/plain": [
       "(105, 7)"
      ]
     },
     "execution_count": 104,
     "metadata": {},
     "output_type": "execute_result"
    }
   ],
   "source": [
    "df = acq.getData('iris')\n",
    "tr, test, validate = prepare.prep_iris(df)\n",
    "tr.shape"
   ]
  },
  {
   "cell_type": "markdown",
   "id": "1d16ea0f",
   "metadata": {},
   "source": [
    "#### Univariate Stats\n",
    "- For each quantitative variable, create a histogram, boxplot & descriptive statistics\n",
    "- For each categorical variable, create a frequency table & bar plot of freq\n",
    "- Document takeaways and actions"
   ]
  },
  {
   "cell_type": "code",
   "execution_count": 105,
   "id": "19c8c847",
   "metadata": {},
   "outputs": [
    {
     "name": "stdout",
     "output_type": "stream",
     "text": [
      "versicolor    35\n",
      "setosa        35\n",
      "virginica     35\n",
      "Name: species, dtype: int64\n"
     ]
    },
    {
     "data": {
      "text/plain": [
       "[Text(0.5, 1.0, 'Number of observations of each species')]"
      ]
     },
     "execution_count": 105,
     "metadata": {},
     "output_type": "execute_result"
    },
    {
     "data": {
      "image/png": "[encoded data removed]",
      "text/plain": [
       "<Figure size 432x288 with 1 Axes>"
      ]
     },
     "metadata": {
      "needs_background": "light"
     },
     "output_type": "display_data"
    }
   ],
   "source": [
    "#USE tr for all of this!\n",
    "#Start by looking at our categorical, target variable\n",
    "\n",
    "#frequency as a table\n",
    "print(tr.species.value_counts()) \n",
    "\n",
    "#on a bar plot using seaborn\n",
    "sns.countplot(data=tr,x='species').set(title=\"Number of observations of each species\")\n",
    "\n"
   ]
  },
  {
   "cell_type": "code",
   "execution_count": 106,
   "id": "9d976996",
   "metadata": {},
   "outputs": [
    {
     "data": {
      "text/plain": [
       "<AxesSubplot:>"
      ]
     },
     "execution_count": 106,
     "metadata": {},
     "output_type": "execute_result"
    },
    {
     "data": {
      "image/png": "[encoded data removed]",
      "text/plain": [
       "<Figure size 432x288 with 1 Axes>"
      ]
     },
     "metadata": {
      "needs_background": "light"
     },
     "output_type": "display_data"
    }
   ],
   "source": [
    "#on a bar plot using pandas/pyplot\n",
    "tr.species.hist()\n",
    "#less pretty, use seaborn"
   ]
  },
  {
   "cell_type": "code",
   "execution_count": 107,
   "id": "fa117e92",
   "metadata": {},
   "outputs": [
    {
     "data": {
      "text/html": [
       "<div>\n",
       "<style scoped>\n",
       "    .dataframe tbody tr th:only-of-type {\n",
       "        vertical-align: middle;\n",
       "    }\n",
       "\n",
       "    .dataframe tbody tr th {\n",
       "        vertical-align: top;\n",
       "    }\n",
       "\n",
       "    .dataframe thead th {\n",
       "        text-align: right;\n",
       "    }\n",
       "</style>\n",
       "<table border=\"1\" class=\"dataframe\">\n",
       "  <thead>\n",
       "    <tr style=\"text-align: right;\">\n",
       "      <th></th>\n",
       "      <th>count</th>\n",
       "      <th>mean</th>\n",
       "      <th>std</th>\n",
       "      <th>min</th>\n",
       "      <th>25%</th>\n",
       "      <th>50%</th>\n",
       "      <th>75%</th>\n",
       "      <th>max</th>\n",
       "    </tr>\n",
       "  </thead>\n",
       "  <tbody>\n",
       "    <tr>\n",
       "      <th>sepal_length</th>\n",
       "      <td>105.0</td>\n",
       "      <td>5.833333</td>\n",
       "      <td>0.852335</td>\n",
       "      <td>4.3</td>\n",
       "      <td>5.1</td>\n",
       "      <td>5.8</td>\n",
       "      <td>6.4</td>\n",
       "      <td>7.9</td>\n",
       "    </tr>\n",
       "    <tr>\n",
       "      <th>sepal_width</th>\n",
       "      <td>105.0</td>\n",
       "      <td>3.040952</td>\n",
       "      <td>0.415261</td>\n",
       "      <td>2.0</td>\n",
       "      <td>2.8</td>\n",
       "      <td>3.0</td>\n",
       "      <td>3.3</td>\n",
       "      <td>4.0</td>\n",
       "    </tr>\n",
       "    <tr>\n",
       "      <th>petal_length</th>\n",
       "      <td>105.0</td>\n",
       "      <td>3.736190</td>\n",
       "      <td>1.795032</td>\n",
       "      <td>1.0</td>\n",
       "      <td>1.5</td>\n",
       "      <td>4.2</td>\n",
       "      <td>5.1</td>\n",
       "      <td>6.9</td>\n",
       "    </tr>\n",
       "    <tr>\n",
       "      <th>petal_width</th>\n",
       "      <td>105.0</td>\n",
       "      <td>1.184762</td>\n",
       "      <td>0.769838</td>\n",
       "      <td>0.1</td>\n",
       "      <td>0.3</td>\n",
       "      <td>1.3</td>\n",
       "      <td>1.8</td>\n",
       "      <td>2.5</td>\n",
       "    </tr>\n",
       "  </tbody>\n",
       "</table>\n",
       "</div>"
      ],
      "text/plain": [
       "              count      mean       std  min  25%  50%  75%  max\n",
       "sepal_length  105.0  5.833333  0.852335  4.3  5.1  5.8  6.4  7.9\n",
       "sepal_width   105.0  3.040952  0.415261  2.0  2.8  3.0  3.3  4.0\n",
       "petal_length  105.0  3.736190  1.795032  1.0  1.5  4.2  5.1  6.9\n",
       "petal_width   105.0  1.184762  0.769838  0.1  0.3  1.3  1.8  2.5"
      ]
     },
     "execution_count": 107,
     "metadata": {},
     "output_type": "execute_result"
    }
   ],
   "source": [
    "#Now look at our quantitative variables.\n",
    "#First let's look at descriptive statistics for these\n",
    "#filtered out tr so as not to see dummy columns of target variable\n",
    "tr.iloc[:,0:5].describe().T"
   ]
  },
  {
   "cell_type": "code",
   "execution_count": 108,
   "id": "5bf7526b",
   "metadata": {},
   "outputs": [
    {
     "data": {
      "image/png": "[encoded data removed]",
      "text/plain": [
       "<Figure size 432x288 with 4 Axes>"
      ]
     },
     "metadata": {
      "needs_background": "light"
     },
     "output_type": "display_data"
    }
   ],
   "source": [
    "#Throw these on a histogram\n",
    "plt.figure()\n",
    "ct = 0\n",
    "for i in tr.columns[0:4]:\n",
    "    ct +=1\n",
    "    plt.subplot(2,2,ct)\n",
    "    plt.hist(tr[i])\n",
    "    plt.title(i)\n",
    "plt.tight_layout()"
   ]
  },
  {
   "cell_type": "code",
   "execution_count": 109,
   "id": "2f2859e3",
   "metadata": {},
   "outputs": [
    {
     "data": {
      "text/html": [
       "<div>\n",
       "<style scoped>\n",
       "    .dataframe tbody tr th:only-of-type {\n",
       "        vertical-align: middle;\n",
       "    }\n",
       "\n",
       "    .dataframe tbody tr th {\n",
       "        vertical-align: top;\n",
       "    }\n",
       "\n",
       "    .dataframe thead th {\n",
       "        text-align: right;\n",
       "    }\n",
       "</style>\n",
       "<table border=\"1\" class=\"dataframe\">\n",
       "  <thead>\n",
       "    <tr style=\"text-align: right;\">\n",
       "      <th></th>\n",
       "      <th>species</th>\n",
       "      <th>measurement</th>\n",
       "      <th>value</th>\n",
       "    </tr>\n",
       "  </thead>\n",
       "  <tbody>\n",
       "    <tr>\n",
       "      <th>0</th>\n",
       "      <td>versicolor</td>\n",
       "      <td>sepal_length</td>\n",
       "      <td>6.6</td>\n",
       "    </tr>\n",
       "    <tr>\n",
       "      <th>1</th>\n",
       "      <td>setosa</td>\n",
       "      <td>sepal_length</td>\n",
       "      <td>5.1</td>\n",
       "    </tr>\n",
       "  </tbody>\n",
       "</table>\n",
       "</div>"
      ],
      "text/plain": [
       "      species   measurement  value\n",
       "0  versicolor  sepal_length    6.6\n",
       "1      setosa  sepal_length    5.1"
      ]
     },
     "execution_count": 109,
     "metadata": {},
     "output_type": "execute_result"
    }
   ],
   "source": [
    "#Learning to do this with Seaborn.\n",
    "#Need to 'melt' (reconfigure) the DF into id variables and 'measured variables'\n",
    "mlt = pd.melt(tr.iloc[:,0:5],id_vars='species',var_name=\"measurement\")\n",
    "# sns.histplot(mlt,col='measurement',col_wrap=2) #histograms don't do cols\n",
    "mlt.head(2)"
   ]
  },
  {
   "cell_type": "code",
   "execution_count": 110,
   "id": "3ed5aab2",
   "metadata": {},
   "outputs": [
    {
     "data": {
      "text/plain": [
       "<seaborn.axisgrid.FacetGrid at 0x7fe5e10136d0>"
      ]
     },
     "execution_count": 110,
     "metadata": {},
     "output_type": "execute_result"
    },
    {
     "data": {
      "image/png": "[encoded data removed]",
      "text/plain": [
       "<Figure size 432x432 with 4 Axes>"
      ]
     },
     "metadata": {
      "needs_background": "light"
     },
     "output_type": "display_data"
    }
   ],
   "source": [
    "# need FacetGrid\n",
    "#here we create it,specify the dataset and the subplot data\n",
    "g = sns.FacetGrid(mlt,col=\"measurement\",col_wrap=2,sharex=False)\n",
    "#now we map the plotting function to apply (can use plt or sns here)\n",
    "#2nd parameter is column to plot\n",
    "g.map(sns.histplot,\"value\")"
   ]
  },
  {
   "cell_type": "code",
   "execution_count": 111,
   "id": "0dbb6214",
   "metadata": {},
   "outputs": [
    {
     "name": "stderr",
     "output_type": "stream",
     "text": [
      "/opt/homebrew/anaconda3/lib/python3.9/site-packages/seaborn/axisgrid.py:670: UserWarning: Using the boxplot function without specifying `order` is likely to produce an incorrect plot.\n",
      "  warnings.warn(warning)\n"
     ]
    },
    {
     "data": {
      "text/plain": [
       "<seaborn.axisgrid.FacetGrid at 0x7fe59037d730>"
      ]
     },
     "execution_count": 111,
     "metadata": {},
     "output_type": "execute_result"
    },
    {
     "data": {
      "image/png": "[encoded data removed]",
      "text/plain": [
       "<Figure size 864x216 with 4 Axes>"
      ]
     },
     "metadata": {
      "needs_background": "light"
     },
     "output_type": "display_data"
    }
   ],
   "source": [
    "#now a boxplot of the same data\n",
    "g = sns.FacetGrid(mlt,col=\"measurement\",sharex=False)\n",
    "g.map(sns.boxplot,\"value\")"
   ]
  },
  {
   "cell_type": "code",
   "execution_count": 112,
   "id": "e01dd4ba",
   "metadata": {},
   "outputs": [
    {
     "data": {
      "text/plain": [
       "<seaborn.axisgrid.FacetGrid at 0x7fe5e0e421c0>"
      ]
     },
     "execution_count": 112,
     "metadata": {},
     "output_type": "execute_result"
    },
    {
     "data": {
      "image/png": "[encoded data removed]",
      "text/plain": [
       "<Figure size 360x360 with 1 Axes>"
      ]
     },
     "metadata": {
      "needs_background": "light"
     },
     "output_type": "display_data"
    }
   ],
   "source": [
    "sns.catplot(data=mlt,y='value',x='measurement',kind='boxen')"
   ]
  },
  {
   "cell_type": "markdown",
   "id": "6c57bf30",
   "metadata": {},
   "source": [
    "#### Univariate notes:\n",
    "- Equal number of observations per species\n",
    "- Petal length and width have clear breaks in values on the lower end\n",
    "- sepal length and width are fairly normal, but also have a break on the high side that seems to indicate a subset of higher values\n",
    "- sepal width is most normal and may indicate a measurement with high overlap between species.\n",
    "\n",
    "#### To investigate:\n",
    "- Break out each of these by measurement and species.  Suspect some of these breaks correlate to species\n"
   ]
  },
  {
   "cell_type": "markdown",
   "id": "fca601de",
   "metadata": {},
   "source": [
    "#### Bivariate Stats:\n",
    "- Visualize each measurement type (y-axis) with the species variable (x-axis) using barplots, adding a horizontal line showing the overall mean of the metric (y-axis).\n",
    "- For each measurement type, compute the descriptive statistics for each species.\n",
    "- For virginica & versicolor: Compare the mean petal_width using the Mann-Whitney test (scipy.stats.mannwhitneyu) to see if there is a significant difference between the two groups. Do the same for the other measurement types.\n",
    "- Document takeaways & any actions."
   ]
  },
  {
   "cell_type": "code",
   "execution_count": 113,
   "id": "01113f67",
   "metadata": {},
   "outputs": [
    {
     "data": {
      "image/png": "[encoded data removed]",
      "text/plain": [
       "<Figure size 576x432 with 4 Axes>"
      ]
     },
     "metadata": {
      "needs_background": "light"
     },
     "output_type": "display_data"
    }
   ],
   "source": [
    "# plt.subplot(221)\n",
    "# sns.barplot(tr,x='species',y='sepal')\n",
    "\n",
    "#plot barplot of each measurement, broken out by species\n",
    "# then add a horizontal line represeneting the mean of each measurement\n",
    "plt.figure(figsize=(8,6))\n",
    "ct = 0\n",
    "for i in tr.columns[0:4]:\n",
    "    ct +=1\n",
    "    plt.subplot(2,2,ct)\n",
    "    sns.barplot(data=tr,x='species',y=i)\n",
    "    plt.axhline(y=tr[i].mean(),color='black')\n",
    "    plt.title(i)\n",
    "plt.tight_layout()"
   ]
  },
  {
   "cell_type": "code",
   "execution_count": 114,
   "id": "8cc1b39f",
   "metadata": {},
   "outputs": [
    {
     "name": "stdout",
     "output_type": "stream",
     "text": [
      "\n",
      "\u001b[1mversicolor - sepal_length\u001b[0m\n",
      "count    35.000000\n",
      "mean      5.842857\n",
      "std       0.510067\n",
      "min       4.900000\n",
      "25%       5.500000\n",
      "50%       5.700000\n",
      "75%       6.150000\n",
      "max       6.800000\n",
      "Name: sepal_length, dtype: float64\n",
      "\n",
      "\u001b[1msetosa - sepal_length\u001b[0m\n",
      "count    35.000000\n",
      "mean      4.985714\n",
      "std       0.343120\n",
      "min       4.300000\n",
      "25%       4.750000\n",
      "50%       5.000000\n",
      "75%       5.100000\n",
      "max       5.800000\n",
      "Name: sepal_length, dtype: float64\n",
      "\n",
      "\u001b[1mvirginica - sepal_length\u001b[0m\n",
      "count    35.000000\n",
      "mean      6.671429\n",
      "std       0.617667\n",
      "min       5.800000\n",
      "25%       6.300000\n",
      "50%       6.500000\n",
      "75%       7.050000\n",
      "max       7.900000\n",
      "Name: sepal_length, dtype: float64\n",
      "\n",
      "\u001b[1mversicolor - sepal_width\u001b[0m\n",
      "count    35.000000\n",
      "mean      2.705714\n",
      "std       0.313371\n",
      "min       2.000000\n",
      "25%       2.500000\n",
      "50%       2.700000\n",
      "75%       2.900000\n",
      "max       3.400000\n",
      "Name: sepal_width, dtype: float64\n",
      "\n",
      "\u001b[1msetosa - sepal_width\u001b[0m\n",
      "count    35.000000\n",
      "mean      3.368571\n",
      "std       0.351276\n",
      "min       2.300000\n",
      "25%       3.100000\n",
      "50%       3.400000\n",
      "75%       3.650000\n",
      "max       4.000000\n",
      "Name: sepal_width, dtype: float64\n",
      "\n",
      "\u001b[1mvirginica - sepal_width\u001b[0m\n",
      "count    35.000000\n",
      "mean      3.048571\n",
      "std       0.282188\n",
      "min       2.600000\n",
      "25%       2.850000\n",
      "50%       3.000000\n",
      "75%       3.200000\n",
      "max       3.800000\n",
      "Name: sepal_width, dtype: float64\n",
      "\n",
      "\u001b[1mversicolor - petal_length\u001b[0m\n",
      "count    35.000000\n",
      "mean      4.171429\n",
      "std       0.503851\n",
      "min       3.000000\n",
      "25%       3.900000\n",
      "50%       4.200000\n",
      "75%       4.550000\n",
      "max       5.100000\n",
      "Name: petal_length, dtype: float64\n",
      "\n",
      "\u001b[1msetosa - petal_length\u001b[0m\n",
      "count    35.000000\n",
      "mean      1.431429\n",
      "std       0.174510\n",
      "min       1.000000\n",
      "25%       1.300000\n",
      "50%       1.400000\n",
      "75%       1.500000\n",
      "max       1.900000\n",
      "Name: petal_length, dtype: float64\n",
      "\n",
      "\u001b[1mvirginica - petal_length\u001b[0m\n",
      "count    35.000000\n",
      "mean      5.605714\n",
      "std       0.557274\n",
      "min       4.800000\n",
      "25%       5.100000\n",
      "50%       5.500000\n",
      "75%       5.900000\n",
      "max       6.900000\n",
      "Name: petal_length, dtype: float64\n",
      "\n",
      "\u001b[1mversicolor - petal_width\u001b[0m\n",
      "count    35.000000\n",
      "mean      1.277143\n",
      "std       0.198651\n",
      "min       1.000000\n",
      "25%       1.100000\n",
      "50%       1.300000\n",
      "75%       1.400000\n",
      "max       1.700000\n",
      "Name: petal_width, dtype: float64\n",
      "\n",
      "\u001b[1msetosa - petal_width\u001b[0m\n",
      "count    35.000000\n",
      "mean      0.237143\n",
      "std       0.087735\n",
      "min       0.100000\n",
      "25%       0.200000\n",
      "50%       0.200000\n",
      "75%       0.300000\n",
      "max       0.500000\n",
      "Name: petal_width, dtype: float64\n",
      "\n",
      "\u001b[1mvirginica - petal_width\u001b[0m\n",
      "count    35.00000\n",
      "mean      2.04000\n",
      "std       0.28201\n",
      "min       1.40000\n",
      "25%       1.80000\n",
      "50%       2.00000\n",
      "75%       2.30000\n",
      "max       2.50000\n",
      "Name: petal_width, dtype: float64\n"
     ]
    }
   ],
   "source": [
    "#Let's see descriptive statistics for each measurement by species\n",
    "# Loop over measurement\n",
    "for m in tr.columns[0:4]:\n",
    "    #loop at species\n",
    "    for s in tr.species.unique():\n",
    "        print(f'\\n\\033[1m{s} - {m}\\033[0m')\n",
    "        print(tr[tr.species==s][m].describe())\n",
    "        \n",
    "    "
   ]
  },
  {
   "cell_type": "code",
   "execution_count": 115,
   "id": "88ecbece",
   "metadata": {},
   "outputs": [
    {
     "name": "stdout",
     "output_type": "stream",
     "text": [
      "\n",
      "\u001b[1mWe reject the null hypothesis\u001b[0m, p = 3.824168112927752e-07 | α = 0.05\n",
      "  u: 1044.5\n",
      "The null hypothesis was: The probability of a randomly selected sepal_length of virginica is equal to a randomly selected sepal_length of versicolor\n",
      "\n",
      "\n",
      "\u001b[1mWe reject the null hypothesis\u001b[0m, p = 1.6917324879661385e-05 | α = 0.05\n",
      "  u: 976.5\n",
      "The null hypothesis was: The probability of a randomly selected sepal_width of virginica is equal to a randomly selected sepal_width of versicolor\n",
      "\n",
      "\n",
      "\u001b[1mWe reject the null hypothesis\u001b[0m, p = 1.4446730965925913e-12 | α = 0.05\n",
      "  u: 1215.0\n",
      "The null hypothesis was: The probability of a randomly selected petal_length of virginica is equal to a randomly selected petal_length of versicolor\n",
      "\n",
      "\n",
      "\u001b[1mWe reject the null hypothesis\u001b[0m, p = 2.2193125126696403e-12 | α = 0.05\n",
      "  u: 1208.5\n",
      "The null hypothesis was: The probability of a randomly selected petal_width of virginica is equal to a randomly selected petal_width of versicolor\n",
      "\n"
     ]
    }
   ],
   "source": [
    "# For virginica & versicolor: \n",
    "# Compare the mean petal_width using the Mann-Whitney test (scipy.stats.mannwhitneyu) \n",
    "# to see if there is a significant difference between the two groups. \n",
    "# Do the same for the other measurement types.\n",
    "\n",
    "#Distributions are not normal, so use Mann_Whitney to see if measurements of species are independent\n",
    "for i in tr.columns[0:4]:\n",
    "    #establish null hypothesis\n",
    "    null_h = f\"The probability of a randomly selected {i} of virginica is equal to a randomly selected {i} of versicolor\"\n",
    "    #run the mann-whiteny for this measurement\n",
    "    u, p = stats.mannwhitneyu(tr[tr.species=='virginica'][i],tr[tr.species=='versicolor'][i])\n",
    "    #print out the results - using alpha of .05\n",
    "    eda.stats_result(p,null_h,u=u)\n",
    "    "
   ]
  },
  {
   "cell_type": "markdown",
   "id": "c7b3d9e8",
   "metadata": {},
   "source": [
    "#### Bivariate takeaways:\n",
    "- Setosa has very different petal measurements from the other species\n",
    "- Versicolor and Virginica have the most similar measurements across the board.\n",
    "  - However, the mann-whitney u test indicates that all measurements of those species vary in a statistically significant way (we rejected the null hypothesis that they were the same)"
   ]
  },
  {
   "cell_type": "markdown",
   "id": "e473b695",
   "metadata": {},
   "source": [
    "#### Multivariate Stats\n",
    "- Visualize the interaction of each measurement type with the others using a pairplot (or scatter matrix or something similar) and add color to represent species.\n",
    "- Visualize two numeric variables by means of the species. Hint: sns.relplot with hue or col\n",
    "- Create a swarmplot using a melted dataframe of all your numeric variables. The x-axis should be the variable name, the y-axis the measure. Add another dimension using color to represent species. Document takeaways from this visualization.\n",
    "- Ask a specific question of the data, such as: is the sepal area signficantly different in virginica compared to setosa? Answer the question through both a plot and using a mann-whitney or t-test. If you use a t-test, be sure assumptions are met (independence, normality, equal variance).\n",
    "- Document takeaways and any actions."
   ]
  },
  {
   "cell_type": "code",
   "execution_count": 116,
   "id": "11bb034f",
   "metadata": {},
   "outputs": [
    {
     "data": {
      "text/plain": [
       "<seaborn.axisgrid.PairGrid at 0x7fe5f3b28d00>"
      ]
     },
     "execution_count": 116,
     "metadata": {},
     "output_type": "execute_result"
    },
    {
     "data": {
      "image/png": "[encoded data removed]",
      "text/plain": [
       "<Figure size 804.75x720 with 14 Axes>"
      ]
     },
     "metadata": {
      "needs_background": "light"
     },
     "output_type": "display_data"
    }
   ],
   "source": [
    "#compare each measurement, colorized w/ species\n",
    "sns.pairplot(data=tr.iloc[:,0:5],hue=\"species\",corner=True)"
   ]
  },
  {
   "cell_type": "code",
   "execution_count": 117,
   "id": "3d9408a5",
   "metadata": {},
   "outputs": [
    {
     "data": {
      "text/plain": [
       "<seaborn.axisgrid.FacetGrid at 0x7fe5f3fb43a0>"
      ]
     },
     "execution_count": 117,
     "metadata": {},
     "output_type": "execute_result"
    },
    {
     "data": {
      "image/png": "[encoded data removed]",
      "text/plain": [
       "<Figure size 444.75x360 with 1 Axes>"
      ]
     },
     "metadata": {
      "needs_background": "light"
     },
     "output_type": "display_data"
    }
   ],
   "source": [
    "#Visualize two numeric variables by means of the species. \n",
    "#Hint: sns.relplot with hue or col\n",
    "#Basically redo one of the smaller plots from pairplot.\n",
    "#Chose sepal measurements as they were most similar across the species\n",
    "sns.relplot(data=tr,x='sepal_width',y='sepal_length',hue='species')"
   ]
  },
  {
   "cell_type": "code",
   "execution_count": 118,
   "id": "74f443f4",
   "metadata": {},
   "outputs": [
    {
     "data": {
      "text/plain": [
       "<AxesSubplot:xlabel='measurement', ylabel='value'>"
      ]
     },
     "execution_count": 118,
     "metadata": {},
     "output_type": "execute_result"
    },
    {
     "data": {
      "image/png": "[encoded data removed]",
      "text/plain": [
       "<Figure size 432x432 with 1 Axes>"
      ]
     },
     "metadata": {
      "needs_background": "light"
     },
     "output_type": "display_data"
    }
   ],
   "source": [
    "#Create a swarmplot using a melted dataframe of all your numeric variables.\n",
    "# The x-axis should be the variable name, the y-axis the measure. \n",
    "# Add another dimension using color to represent species. \n",
    "# Document takeaways from this visualization\n",
    "plt.figure(figsize=(6,6))\n",
    "sns.swarmplot(data=mlt,x=\"measurement\",y=\"value\",hue=\"species\",size=3)"
   ]
  },
  {
   "cell_type": "markdown",
   "id": "558a2181",
   "metadata": {},
   "source": [
    "- Confirms setosa has very different petal dimensions\n",
    "- Shows stronger overlap of sepal measurements, especially sepal width.\n",
    "- sepal length has greater overlap amont versicolor and virginica"
   ]
  },
  {
   "cell_type": "code",
   "execution_count": 119,
   "id": "601af8e5",
   "metadata": {},
   "outputs": [],
   "source": [
    "#Ask a specific question of the data, such as: is the sepal area\n",
    "# signficantly different in virginica compared to setosa? \n",
    "#Answer the question through both a plot and using a mann-whitney or t-test. \n",
    "#If you use a t-test, be sure assumptions are met\n",
    "#  (independence, normality, equal variance).\n",
    "\n",
    "#WE already answered the question I wanted to ask most:  \n",
    "#  Are the measurements of versicolor and virginica different \n",
    "#  in a statistically significant way?\n",
    "\n",
    "#So instead, I'll ask:\n",
    "#  Is the sepal area significantly different between all the species\n",
    "tr['sepal_area'] = tr.sepal_length*tr.sepal_width"
   ]
  },
  {
   "cell_type": "code",
   "execution_count": 120,
   "id": "1f7c8bf1",
   "metadata": {},
   "outputs": [
    {
     "data": {
      "text/plain": [
       "<AxesSubplot:xlabel='sepal_area', ylabel='Count'>"
      ]
     },
     "execution_count": 120,
     "metadata": {},
     "output_type": "execute_result"
    },
    {
     "data": {
      "image/png": "[encoded data removed]",
      "text/plain": [
       "<Figure size 432x288 with 1 Axes>"
      ]
     },
     "metadata": {
      "needs_background": "light"
     },
     "output_type": "display_data"
    }
   ],
   "source": [
    "sns.histplot(tr,x='sepal_area',hue='species',element=\"step\")"
   ]
  },
  {
   "cell_type": "code",
   "execution_count": 121,
   "id": "b6af9736",
   "metadata": {},
   "outputs": [
    {
     "data": {
      "image/png": "[encoded data removed]",
      "text/plain": [
       "<Figure size 504x720 with 3 Axes>"
      ]
     },
     "metadata": {
      "needs_background": "light"
     },
     "output_type": "display_data"
    }
   ],
   "source": [
    "plt.figure(figsize=(7,10))\n",
    "ct=0\n",
    "for s in tr.species.unique():\n",
    "    ct+=1\n",
    "    plt.subplot(3,1,ct)\n",
    "    sns.histplot(tr,x='sepal_area',element='step')\n",
    "    \n",
    "plt.tight_layout()"
   ]
  },
  {
   "cell_type": "markdown",
   "id": "7c9064db",
   "metadata": {},
   "source": [
    "- Independent, normalish, variances seem close\n",
    "- leaning towards anova\n"
   ]
  },
  {
   "cell_type": "code",
   "execution_count": 122,
   "id": "537618e5",
   "metadata": {},
   "outputs": [
    {
     "name": "stdout",
     "output_type": "stream",
     "text": [
      "versicolor variance: 8.177149243697478\n",
      "setosa variance: 7.378164705882353\n",
      "virginica variance: 9.725044033613445\n"
     ]
    }
   ],
   "source": [
    "for s in tr.species.unique():\n",
    "    print(f'{s} variance: {tr[tr.species==s].sepal_area.var()}')"
   ]
  },
  {
   "cell_type": "code",
   "execution_count": 123,
   "id": "de3af2dd",
   "metadata": {},
   "outputs": [
    {
     "name": "stdout",
     "output_type": "stream",
     "text": [
      "Variances are equal: True: p=0.6699568882845879\n",
      "Variances are equal: True: p=0.6545252728900834\n",
      "Variances are equal: True: p=0.9192432494357223\n"
     ]
    }
   ],
   "source": [
    "combo = it.combinations(tr.species.unique(),2)\n",
    "#run levene test on variances\n",
    "for i in list(combo):\n",
    "    a = i[0]\n",
    "    b = i[1]\n",
    "    tl, pl = stats.levene(tr[tr.species==a].sepal_area,tr[tr.species==b].sepal_area)\n",
    "    print(f'Variances are equal: {pl > .05}: p={pl}')\n"
   ]
  },
  {
   "cell_type": "code",
   "execution_count": 124,
   "id": "df771f28",
   "metadata": {},
   "outputs": [
    {
     "name": "stdout",
     "output_type": "stream",
     "text": [
      "\n",
      "\u001b[1mWe reject the null hypothesis\u001b[0m, p = 5.1718513055789325e-09 | α = 0.05\n",
      "The null hypothesis was: the 3 species have equal means for sepal_area\n",
      "\n"
     ]
    }
   ],
   "source": [
    "#Levene says variances are equal, so continue with ANOVA\n",
    "null_h=\"the 3 species have equal means for sepal_area\"\n",
    "f, p = stats.f_oneway(tr[tr.species=='versicolor'].sepal_area,tr[tr.species=='virginica'].sepal_area,tr[tr.species=='setosa'].sepal_area)\n",
    "#use .05 as alpha\n",
    "eda.stats_result(p,null_h,f=f)"
   ]
  },
  {
   "cell_type": "markdown",
   "id": "01ba2238",
   "metadata": {},
   "source": [
    "### EDA Part 2: Titanic Dataset"
   ]
  },
  {
   "cell_type": "code",
   "execution_count": 125,
   "id": "95debbb8",
   "metadata": {},
   "outputs": [
    {
     "name": "stdout",
     "output_type": "stream",
     "text": [
      "<class 'pandas.core.frame.DataFrame'>\n",
      "Int64Index: 622 entries, 212 to 723\n",
      "Data columns (total 14 columns):\n",
      " #   Column                   Non-Null Count  Dtype  \n",
      "---  ------                   --------------  -----  \n",
      " 0   survived                 622 non-null    int64  \n",
      " 1   sex                      622 non-null    object \n",
      " 2   age                      622 non-null    float64\n",
      " 3   sibsp                    622 non-null    int64  \n",
      " 4   parch                    622 non-null    int64  \n",
      " 5   fare                     622 non-null    float64\n",
      " 6   pclass                   622 non-null    object \n",
      " 7   embark_town              622 non-null    object \n",
      " 8   alone                    622 non-null    int64  \n",
      " 9   embark_town_Queenstown   622 non-null    uint8  \n",
      " 10  embark_town_Southampton  622 non-null    uint8  \n",
      " 11  sex_male                 622 non-null    uint8  \n",
      " 12  class_Second             622 non-null    uint8  \n",
      " 13  class_Third              622 non-null    uint8  \n",
      "dtypes: float64(2), int64(4), object(3), uint8(5)\n",
      "memory usage: 51.6+ KB\n"
     ]
    },
    {
     "name": "stderr",
     "output_type": "stream",
     "text": [
      "/Users/caytschlichting/codeup-data-science/classification-exercises/prepare.py:50: SettingWithCopyWarning: \n",
      "A value is trying to be set on a copy of a slice from a DataFrame.\n",
      "Try using .loc[row_indexer,col_indexer] = value instead\n",
      "\n",
      "See the caveats in the documentation: https://pandas.pydata.org/pandas-docs/stable/user_guide/indexing.html#returning-a-view-versus-a-copy\n",
      "  validate['age'] = imputer.transform(validate[['age']])\n"
     ]
    }
   ],
   "source": [
    "df = acq.getData('titanic')\n",
    "tr, test, validate = prepare.prep_titanic(df)\n",
    "tr.info()"
   ]
  },
  {
   "cell_type": "code",
   "execution_count": 126,
   "id": "38d233bf",
   "metadata": {},
   "outputs": [
    {
     "name": "stdout",
     "output_type": "stream",
     "text": [
      "<class 'pandas.core.frame.DataFrame'>\n",
      "Int64Index: 622 entries, 212 to 723\n",
      "Data columns (total 9 columns):\n",
      " #   Column       Non-Null Count  Dtype  \n",
      "---  ------       --------------  -----  \n",
      " 0   survived     622 non-null    int64  \n",
      " 1   sex          622 non-null    object \n",
      " 2   age          622 non-null    float64\n",
      " 3   sibsp        622 non-null    int64  \n",
      " 4   parch        622 non-null    int64  \n",
      " 5   fare         622 non-null    float64\n",
      " 6   pclass       622 non-null    object \n",
      " 7   embark_town  622 non-null    object \n",
      " 8   alone        622 non-null    int64  \n",
      "dtypes: float64(2), int64(4), object(3)\n",
      "memory usage: 48.6+ KB\n"
     ]
    }
   ],
   "source": [
    "#drop encoded as we don't want to work with them on EDA\n",
    "tr_eda = tr.iloc[:,0:9]\n",
    "tr_eda.info()"
   ]
  },
  {
   "cell_type": "markdown",
   "id": "6e6d63f9",
   "metadata": {},
   "source": [
    "#### Univariate Stats"
   ]
  },
  {
   "cell_type": "code",
   "execution_count": 127,
   "id": "4683e87c",
   "metadata": {
    "scrolled": true
   },
   "outputs": [
    {
     "data": {
      "text/html": [
       "<div>\n",
       "<style scoped>\n",
       "    .dataframe tbody tr th:only-of-type {\n",
       "        vertical-align: middle;\n",
       "    }\n",
       "\n",
       "    .dataframe tbody tr th {\n",
       "        vertical-align: top;\n",
       "    }\n",
       "\n",
       "    .dataframe thead th {\n",
       "        text-align: right;\n",
       "    }\n",
       "</style>\n",
       "<table border=\"1\" class=\"dataframe\">\n",
       "  <thead>\n",
       "    <tr style=\"text-align: right;\">\n",
       "      <th></th>\n",
       "      <th>count</th>\n",
       "      <th>mean</th>\n",
       "      <th>std</th>\n",
       "      <th>min</th>\n",
       "      <th>25%</th>\n",
       "      <th>50%</th>\n",
       "      <th>75%</th>\n",
       "      <th>max</th>\n",
       "    </tr>\n",
       "  </thead>\n",
       "  <tbody>\n",
       "    <tr>\n",
       "      <th>survived</th>\n",
       "      <td>622.0</td>\n",
       "      <td>0.382637</td>\n",
       "      <td>0.486422</td>\n",
       "      <td>0.00</td>\n",
       "      <td>0.0000</td>\n",
       "      <td>0.000000</td>\n",
       "      <td>1.00</td>\n",
       "      <td>1.0000</td>\n",
       "    </tr>\n",
       "    <tr>\n",
       "      <th>age</th>\n",
       "      <td>622.0</td>\n",
       "      <td>29.850694</td>\n",
       "      <td>12.922608</td>\n",
       "      <td>0.42</td>\n",
       "      <td>22.0000</td>\n",
       "      <td>29.850694</td>\n",
       "      <td>35.75</td>\n",
       "      <td>71.0000</td>\n",
       "    </tr>\n",
       "    <tr>\n",
       "      <th>sibsp</th>\n",
       "      <td>622.0</td>\n",
       "      <td>0.500000</td>\n",
       "      <td>1.059806</td>\n",
       "      <td>0.00</td>\n",
       "      <td>0.0000</td>\n",
       "      <td>0.000000</td>\n",
       "      <td>1.00</td>\n",
       "      <td>8.0000</td>\n",
       "    </tr>\n",
       "    <tr>\n",
       "      <th>parch</th>\n",
       "      <td>622.0</td>\n",
       "      <td>0.368167</td>\n",
       "      <td>0.817176</td>\n",
       "      <td>0.00</td>\n",
       "      <td>0.0000</td>\n",
       "      <td>0.000000</td>\n",
       "      <td>0.00</td>\n",
       "      <td>6.0000</td>\n",
       "    </tr>\n",
       "    <tr>\n",
       "      <th>fare</th>\n",
       "      <td>622.0</td>\n",
       "      <td>32.716954</td>\n",
       "      <td>53.157865</td>\n",
       "      <td>0.00</td>\n",
       "      <td>7.9031</td>\n",
       "      <td>14.454200</td>\n",
       "      <td>30.50</td>\n",
       "      <td>512.3292</td>\n",
       "    </tr>\n",
       "    <tr>\n",
       "      <th>alone</th>\n",
       "      <td>622.0</td>\n",
       "      <td>0.606109</td>\n",
       "      <td>0.489004</td>\n",
       "      <td>0.00</td>\n",
       "      <td>0.0000</td>\n",
       "      <td>1.000000</td>\n",
       "      <td>1.00</td>\n",
       "      <td>1.0000</td>\n",
       "    </tr>\n",
       "  </tbody>\n",
       "</table>\n",
       "</div>"
      ],
      "text/plain": [
       "          count       mean        std   min      25%        50%    75%  \\\n",
       "survived  622.0   0.382637   0.486422  0.00   0.0000   0.000000   1.00   \n",
       "age       622.0  29.850694  12.922608  0.42  22.0000  29.850694  35.75   \n",
       "sibsp     622.0   0.500000   1.059806  0.00   0.0000   0.000000   1.00   \n",
       "parch     622.0   0.368167   0.817176  0.00   0.0000   0.000000   0.00   \n",
       "fare      622.0  32.716954  53.157865  0.00   7.9031  14.454200  30.50   \n",
       "alone     622.0   0.606109   0.489004  0.00   0.0000   1.000000   1.00   \n",
       "\n",
       "               max  \n",
       "survived    1.0000  \n",
       "age        71.0000  \n",
       "sibsp       8.0000  \n",
       "parch       6.0000  \n",
       "fare      512.3292  \n",
       "alone       1.0000  "
      ]
     },
     "execution_count": 127,
     "metadata": {},
     "output_type": "execute_result"
    }
   ],
   "source": [
    "tr_eda.describe().T"
   ]
  },
  {
   "cell_type": "code",
   "execution_count": 128,
   "id": "4d001769",
   "metadata": {},
   "outputs": [
    {
     "data": {
      "image/png": "[encoded data removed]",
      "text/plain": [
       "<Figure size 576x1440 with 8 Axes>"
      ]
     },
     "metadata": {
      "needs_background": "light"
     },
     "output_type": "display_data"
    }
   ],
   "source": [
    "# Look at frequency/histogram of variables\n",
    "plt.figure(figsize=(8,20))\n",
    "ct = 0\n",
    "for i in tr_eda.columns[1:]:\n",
    "    ct += 1\n",
    "    plt.subplot(4,2,ct)\n",
    "    plt.hist(tr_eda[i])\n",
    "    plt.title(i)"
   ]
  },
  {
   "cell_type": "markdown",
   "id": "8edc1a05",
   "metadata": {},
   "source": [
    "**NOTES:** \n",
    "- Parent/children and Sibling/spouses could probably be bucketed by 1, 2 and 2+\n",
    "  - Could also be combined into one columne\n",
    "- Age is fairly normal\n",
    "- Fare skews quite a bit\n"
   ]
  },
  {
   "cell_type": "code",
   "execution_count": 176,
   "id": "64079c7b",
   "metadata": {},
   "outputs": [],
   "source": [
    "#Bin the sibsp and parch columns into 0, 1, 2+\n",
    "tr_eda['sibsp_map'] = tr_eda.sibsp.astype(str).map({'0':'0','1':'1','2':'2+','3':'2+','4':'2+','5':'2+','6':'2+','7':'2+'})\n",
    "tr_eda['parch_map'] = tr_eda.parch.astype(str).map({'0':'0','1':'1','2':'2+','3':'2+','4':'2+','5':'2+','6':'2+','7':'2+'})"
   ]
  },
  {
   "cell_type": "code",
   "execution_count": 157,
   "id": "cba56b4b",
   "metadata": {},
   "outputs": [
    {
     "data": {
      "text/plain": [
       "Index(['survived', 'sex', 'age', 'sibsp', 'parch', 'fare', 'pclass',\n",
       "       'embark_town', 'alone', 'sibsp_map', 'parch_map'],\n",
       "      dtype='object')"
      ]
     },
     "execution_count": 157,
     "metadata": {},
     "output_type": "execute_result"
    }
   ],
   "source": [
    "tr_eda.columns"
   ]
  },
  {
   "cell_type": "markdown",
   "id": "b5d657c3",
   "metadata": {},
   "source": [
    "#### Bivariate Stats:\n"
   ]
  },
  {
   "cell_type": "code",
   "execution_count": 159,
   "id": "01d0fd3d",
   "metadata": {},
   "outputs": [
    {
     "data": {
      "image/png": "[encoded data removed]",
      "text/plain": [
       "<Figure size 576x720 with 6 Axes>"
      ]
     },
     "metadata": {
      "needs_background": "light"
     },
     "output_type": "display_data"
    }
   ],
   "source": [
    "# Look at frequency/histogram of variables\n",
    "plt.figure(figsize=(8,10))\n",
    "ct = 0\n",
    "for i in ['sex', 'pclass','embark_town', 'alone', 'sibsp_map', 'parch_map']:      \n",
    "    ct += 1\n",
    "    plt.subplot(3,2,ct)\n",
    "    sns.histplot(x=tr_eda[i],hue=tr_eda.survived,multiple='dodge')\n",
    "    plt.title(i)\n",
    "\n",
    "plt.tight_layout()"
   ]
  },
  {
   "cell_type": "markdown",
   "id": "f5aa9b5c",
   "metadata": {},
   "source": [
    "**Notes:** We see that a higher portion of people died that:\n",
    "- Were in third class\n",
    "- Were male\n",
    "- Were from Southhampton or Queenstown (relative to Cherbourg)\n",
    "- Were alone"
   ]
  },
  {
   "cell_type": "code",
   "execution_count": 164,
   "id": "63095da2",
   "metadata": {},
   "outputs": [
    {
     "data": {
      "text/plain": [
       "<seaborn.axisgrid.FacetGrid at 0x7fe5e183d370>"
      ]
     },
     "execution_count": 164,
     "metadata": {},
     "output_type": "execute_result"
    },
    {
     "data": {
      "image/png": "[encoded data removed]",
      "text/plain": [
       "<Figure size 360x360 with 1 Axes>"
      ]
     },
     "metadata": {
      "needs_background": "light"
     },
     "output_type": "display_data"
    }
   ],
   "source": [
    "fg = sns.catplot(data=tr_eda,x='survived',y='fare',kind='boxen')\n",
    "fg.set(ylim=(0,300))\n",
    "#Higher fares tended to survive more"
   ]
  },
  {
   "cell_type": "code",
   "execution_count": 167,
   "id": "40647190",
   "metadata": {},
   "outputs": [
    {
     "data": {
      "image/png": "[encoded data removed]",
      "text/plain": [
       "<Figure size 360x360 with 1 Axes>"
      ]
     },
     "metadata": {
      "needs_background": "light"
     },
     "output_type": "display_data"
    }
   ],
   "source": [
    "fg = sns.catplot(data=tr_eda,x='survived',y='age')\n",
    "#this would be better as a percent survived"
   ]
  },
  {
   "cell_type": "markdown",
   "id": "4d4dbe60",
   "metadata": {},
   "source": [
    "#### Multivariate "
   ]
  },
  {
   "cell_type": "code",
   "execution_count": 175,
   "id": "b5070338",
   "metadata": {},
   "outputs": [
    {
     "name": "stderr",
     "output_type": "stream",
     "text": [
      "/opt/homebrew/anaconda3/lib/python3.9/site-packages/seaborn/categorical.py:1296: UserWarning: 22.4% of the points cannot be placed; you may want to decrease the size of the markers or use stripplot.\n",
      "  warnings.warn(msg, UserWarning)\n"
     ]
    },
    {
     "data": {
      "text/plain": [
       "<AxesSubplot:xlabel='pclass', ylabel='age'>"
      ]
     },
     "execution_count": 175,
     "metadata": {},
     "output_type": "execute_result"
    },
    {
     "data": {
      "image/png": "[encoded data removed]",
      "text/plain": [
       "<Figure size 720x576 with 1 Axes>"
      ]
     },
     "metadata": {
      "needs_background": "light"
     },
     "output_type": "display_data"
    }
   ],
   "source": [
    "plt.figure(figsize=(10,8))\n",
    "sns.swarmplot(data=tr_eda,y='age',x='pclass',hue='survived')"
   ]
  },
  {
   "cell_type": "markdown",
   "id": "4f91c8a7",
   "metadata": {},
   "source": [
    "**Notes:** This shows that a larger percentage of 3rd class passengers died, however the very young in that class had a greater chance of survival."
   ]
  }
 ],
 "metadata": {
  "kernelspec": {
   "display_name": "Python 3 (ipykernel)",
   "language": "python",
   "name": "python3"
  },
  "language_info": {
   "codemirror_mode": {
    "name": "ipython",
    "version": 3
   },
   "file_extension": ".py",
   "mimetype": "text/x-python",
   "name": "python",
   "nbconvert_exporter": "python",
   "pygments_lexer": "ipython3",
   "version": "3.9.7"
  }
 },
 "nbformat": 4,
 "nbformat_minor": 5
}
